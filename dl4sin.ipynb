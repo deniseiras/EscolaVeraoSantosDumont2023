{
  "nbformat": 4,
  "nbformat_minor": 0,
  "metadata": {
    "colab": {
      "provenance": [],
      "toc_visible": true,
      "include_colab_link": true
    },
    "kernelspec": {
      "name": "python3",
      "display_name": "Python 3"
    },
    "language_info": {
      "name": "python"
    },
    "accelerator": "GPU",
    "gpuClass": "standard"
  },
  "cells": [
    {
      "cell_type": "markdown",
      "metadata": {
        "id": "view-in-github",
        "colab_type": "text"
      },
      "source": [
        "<a href=\"https://colab.research.google.com/github/deniseiras/EscolaVeraoSantosDumont2023/blob/main/dl4sin.ipynb\" target=\"_parent\"><img src=\"https://colab.research.google.com/assets/colab-badge.svg\" alt=\"Open In Colab\"/></a>"
      ]
    },
    {
      "cell_type": "code",
      "metadata": {
        "id": "86WvDX5pBIMP"
      },
      "source": [
        "import torch\n",
        "import torch.nn as nn\n",
        "from torch.utils.data import Dataset, DataLoader\n",
        "import pandas as pd\n",
        "import numpy as np\n",
        "import matplotlib.pyplot as plt\n",
        "import os"
      ],
      "execution_count": null,
      "outputs": []
    },
    {
      "cell_type": "code",
      "source": [
        "input_dim = 4\n",
        "torch.rand(1, input_dim)"
      ],
      "metadata": {
        "colab": {
          "base_uri": "https://localhost:8080/"
        },
        "id": "b6hih9qEXtAu",
        "outputId": "cfd46b8a-914b-4e74-c1b0-105557126ee9"
      },
      "execution_count": null,
      "outputs": [
        {
          "output_type": "execute_result",
          "data": {
            "text/plain": [
              "tensor([[0.6653, 0.0772, 0.3671, 0.1653]])"
            ]
          },
          "metadata": {},
          "execution_count": 21
        }
      ]
    },
    {
      "cell_type": "markdown",
      "source": [
        "# Funções"
      ],
      "metadata": {
        "id": "g97_lWQcRRLp"
      }
    },
    {
      "cell_type": "code",
      "metadata": {
        "id": "iwC0kZHP81A8"
      },
      "source": [
        "def fit(epochs, lr, model, train_loader, val_loader, opt_func=torch.optim.SGD):\n",
        "\n",
        "    # to track the training loss as the model trains\n",
        "    train_losses = []\n",
        "    # to track the validation loss as the model trains\n",
        "    valid_losses = []\n",
        "    # to track the average training loss per epoch as the model trains\n",
        "    avg_train_losses = []\n",
        "    # to track the average validation loss per epoch as the model trains\n",
        "    avg_valid_losses = [] \n",
        "    \n",
        "    optimizer = opt_func(model.parameters(), lr)\n",
        "\n",
        "    for epoch in range(epochs):\n",
        "\n",
        "        ###################\n",
        "        # train the model #\n",
        "        ###################\n",
        "        model.train() # prep model for training\n",
        "        for data, target in train_loader:\n",
        "            # clear the gradients of all optimized variables\n",
        "            model.zero_grad()\n",
        "            # forward pass: compute predicted outputs by passing inputs to the model\n",
        "            output = model(data.float())\n",
        "\n",
        "            #print('Going to compute loss...')\n",
        "            # calculate the loss\n",
        "            loss = criterion(output, target.float())\n",
        "\n",
        "            #print('Done computing loss.')\n",
        "\n",
        "            # backward pass: compute gradient of the loss with respect to model parameters\n",
        "            loss.backward()\n",
        "            # perform a single optimization step (parameter update)\n",
        "            optimizer.step()\n",
        "            # record training loss\n",
        "            train_losses.append(loss.item())\n",
        "\n",
        "        ######################    \n",
        "        # validate the model #\n",
        "        ######################\n",
        "        model.eval() # prep model for evaluation\n",
        "        for data, target in val_loader:\n",
        "            # forward pass: compute predicted outputs by passing inputs to the model\n",
        "            output = model(data.float())\n",
        "            # calculate the loss\n",
        "            loss = criterion(output, target.float())\n",
        "            # record validation loss\n",
        "            valid_losses.append(loss.item())\n",
        "\n",
        "        # print training/validation statistics \n",
        "        # calculate average loss over an epoch\n",
        "        train_loss = np.average(train_losses)\n",
        "        valid_loss = np.average(valid_losses)\n",
        "        avg_train_losses.append(train_loss)\n",
        "        avg_valid_losses.append(valid_loss)\n",
        "        \n",
        "        epoch_len = len(str(n_epochs))\n",
        "        \n",
        "        print_msg = (f'[{epoch:>{epoch_len}}/{n_epochs:>{epoch_len}}] ' +\n",
        "                     f'train_loss: {train_loss:.5f} ' +\n",
        "                     f'valid_loss: {valid_loss:.5f}')\n",
        "        \n",
        "        print(print_msg)\n",
        "        \n",
        "        # clear lists to track next epoch\n",
        "        train_losses = []\n",
        "        valid_losses = []\n",
        "  \n",
        "    return  model, avg_train_losses, avg_valid_losses"
      ],
      "execution_count": null,
      "outputs": []
    },
    {
      "cell_type": "markdown",
      "metadata": {
        "id": "_ZamQu9Cg4Ju"
      },
      "source": [
        "A função `window_generator` definida abaixo implementa uma variante da técnica de janelas deslizantes. Essa função recebe dois argumentos:\n",
        "\n",
        "- `sequence`: a série temporal a ser processada para obtenção dos exemplos de treinamento;\n",
        "- `n_steps`: a quantidade de observações prévias a serem usadas como preditores."
      ]
    },
    {
      "cell_type": "code",
      "metadata": {
        "id": "IVkhAJA4BImV"
      },
      "source": [
        "def window_generator(sequence, n_steps):\n",
        "    x, y = list(), list()\n",
        "    for i in range(len(sequence)):\n",
        "        \n",
        "        end_ix = i + n_steps\n",
        "        \n",
        "        if end_ix > len(sequence)-1:\n",
        "            break\n",
        "        seq_x, seq_y = sequence[i:end_ix], sequence[end_ix]\n",
        "        x.append(seq_x)\n",
        "        y.append(seq_y)\n",
        "    return np.array(x), np.array(y)"
      ],
      "execution_count": null,
      "outputs": []
    },
    {
      "cell_type": "code",
      "source": [
        "\"\"\"\n",
        " Geração das séries sintéticas\n",
        "\"\"\"\n",
        "def generate_sin(look_back):\n",
        "    n_features = 1\n",
        "\n",
        "    print(train_series.shape)\n",
        "    print(val_series.shape)\n",
        "    print(test_series.shape)\n",
        "\n",
        "    # Inspeção visual da série gerada\n",
        "    fig, ax = plt.subplots(1, 1, figsize=(15, 4))\n",
        "    ax.plot(train_steps, train_series, lw=3, label='train data')\n",
        "    ax.plot(val_steps, val_series, lw=3, label='val data')\n",
        "    ax.plot(test_steps, test_series,  lw=3, label='test data')\n",
        "    ax.legend(loc=\"lower left\")\n",
        "    plt.show();\n",
        "    fig.savefig('sin.png', bbox_inches='tight')\n",
        "\n",
        "    # Janelamento (data windowing)\n",
        "    look_back = 4\n",
        "    X_train, y_train =  window_generator(train_series, look_back)\n",
        "    X_val, y_val =  window_generator(val_series, look_back)\n",
        "    X_test, y_test =  window_generator(test_series, look_back)\n",
        "\n",
        "    print(X_train.shape)\n",
        "    print(X_train[:, 0].shape)\n",
        "    print(y_train.shape)\n",
        "\n",
        "    print(X_val.shape)\n",
        "    print(y_val.shape)\n",
        "\n",
        "    print(X_test.shape)\n",
        "    print(y_test.shape)\n",
        "  \n",
        "    df_train = pd.DataFrame({'t0': X_train[:,0], \n",
        "                             't1': X_train[:,1], \n",
        "                             't2': X_train[:,2], \n",
        "                             't3': X_train[:,3], \n",
        "                             'y': y_train})\n",
        "    df_train.to_csv('train_sin.csv', index=False)\n",
        "\n",
        "    df_val = pd.DataFrame({'t0': X_val[:,0], \n",
        "                           't1': X_val[:,1], \n",
        "                           't2': X_val[:,2], \n",
        "                           't3': X_val[:,3], \n",
        "                           'y': y_val})\n",
        "    df_val.to_csv('val_sin.csv', index=False)\n",
        "    \n",
        "    df_test = pd.DataFrame({'t0': X_test[:,0], \n",
        "                            't1': X_test[:,1], \n",
        "                            't2': X_test[:,2], \n",
        "                            't3': X_test[:,3], \n",
        "                            'y': y_test})\n",
        "    df_test.to_csv('test_sin.csv', index=False)"
      ],
      "metadata": {
        "id": "mpxYL4PR-DzR"
      },
      "execution_count": null,
      "outputs": []
    },
    {
      "cell_type": "code",
      "source": [
        "train_steps = np.arange(0, 100, 0.5)\n",
        "train_series = np.sin(train_steps)\n",
        "\n",
        "val_steps = np.arange(100, 150, 0.5)\n",
        "val_series = np.sin(val_steps)\n",
        "\n",
        "test_steps = np.arange(150, 200, 0.5)\n",
        "test_series = np.sin(test_steps)\n",
        "\n",
        "look_back = 4\n",
        "\n",
        "generate_sin(look_back)"
      ],
      "metadata": {
        "colab": {
          "base_uri": "https://localhost:8080/",
          "height": 439
        },
        "id": "43j3w8Ki-ImL",
        "outputId": "9f53eb6f-03cf-4936-8447-a324c4be1de1"
      },
      "execution_count": null,
      "outputs": [
        {
          "output_type": "stream",
          "name": "stdout",
          "text": [
            "(200,)\n",
            "(100,)\n",
            "(100,)\n"
          ]
        },
        {
          "output_type": "display_data",
          "data": {
            "text/plain": [
              "<Figure size 1080x288 with 1 Axes>"
            ],
            "image/png": "[encoded data removed]"
          },
          "metadata": {
            "needs_background": "light"
          }
        },
        {
          "output_type": "stream",
          "name": "stdout",
          "text": [
            "(196, 4)\n",
            "(196,)\n",
            "(196,)\n",
            "(96, 4)\n",
            "(96,)\n",
            "(96, 4)\n",
            "(96,)\n"
          ]
        }
      ]
    },
    {
      "cell_type": "markdown",
      "source": [
        "# Geração da série sintética"
      ],
      "metadata": {
        "id": "BiSa78957evX"
      }
    },
    {
      "cell_type": "code",
      "source": [
        "df_train = pd.read_csv('train_sin.csv')\n",
        "df_val = pd.read_csv('val_sin.csv')\n",
        "df_test = pd.read_csv('test_sin.csv')\n",
        "\n",
        "print(df_train.shape)\n",
        "\n",
        "X_train = df_train.drop('y', axis=1).to_numpy()\n",
        "X_val = df_val.drop('y', axis=1).to_numpy()\n",
        "X_test = df_test.drop('y', axis=1).to_numpy()\n",
        "\n",
        "y_train = df_train.y.to_numpy()\n",
        "y_val = df_val.y.to_numpy()\n",
        "y_test = df_test.y.to_numpy()\n",
        "\n",
        "X_train = X_train[:, :, np.newaxis]\n",
        "y_train = y_train[:, np.newaxis]\n",
        "\n",
        "X_val = X_val[:, :, np.newaxis]\n",
        "y_val = y_val[:, np.newaxis]\n",
        "\n",
        "X_test = X_test[:, :, np.newaxis]\n",
        "y_test = y_test[:, np.newaxis]\n",
        "\n",
        "train_x = torch.from_numpy(X_train)\n",
        "train_y = torch.from_numpy(y_train)\n",
        "\n",
        "valid_x = torch.from_numpy(X_val)\n",
        "valid_y = torch.from_numpy(y_val)\n",
        "\n",
        "test_x = torch.from_numpy(X_test)\n",
        "test_y = torch.from_numpy(y_test)\n",
        "\n",
        "print(train_x.shape)\n",
        "print(valid_x.shape)\n",
        "print(test_x.shape)"
      ],
      "metadata": {
        "id": "TxS7UXidYDE9",
        "colab": {
          "base_uri": "https://localhost:8080/"
        },
        "outputId": "25a5490a-8b67-4aa8-8ac2-1b0d9510e772"
      },
      "execution_count": null,
      "outputs": [
        {
          "output_type": "stream",
          "name": "stdout",
          "text": [
            "(196, 5)\n",
            "torch.Size([196, 4, 1])\n",
            "torch.Size([96, 4, 1])\n",
            "torch.Size([96, 4, 1])\n"
          ]
        }
      ]
    },
    {
      "cell_type": "code",
      "source": [
        "df_train.head()"
      ],
      "metadata": {
        "colab": {
          "base_uri": "https://localhost:8080/",
          "height": 206
        },
        "id": "ZIkY2OMPDntj",
        "outputId": "62bff9ee-98cc-4c03-ada0-40c646d7783e"
      },
      "execution_count": null,
      "outputs": [
        {
          "output_type": "execute_result",
          "data": {
            "text/plain": [
              "         t0        t1        t2        t3         y\n",
              "0  0.000000  0.479426  0.841471  0.997495  0.909297\n",
              "1  0.479426  0.841471  0.997495  0.909297  0.598472\n",
              "2  0.841471  0.997495  0.909297  0.598472  0.141120\n",
              "3  0.997495  0.909297  0.598472  0.141120 -0.350783\n",
              "4  0.909297  0.598472  0.141120 -0.350783 -0.756802"
            ],
            "text/html": [
              "\n",
              "  <div id=\"df-1d5f6a46-4b1b-4268-b688-35119afcd9ec\">\n",
              "    <div class=\"colab-df-container\">\n",
              "      <div>\n",
              "<style scoped>\n",
              "    .dataframe tbody tr th:only-of-type {\n",
              "        vertical-align: middle;\n",
              "    }\n",
              "\n",
              "    .dataframe tbody tr th {\n",
              "        vertical-align: top;\n",
              "    }\n",
              "\n",
              "    .dataframe thead th {\n",
              "        text-align: right;\n",
              "    }\n",
              "</style>\n",
              "<table border=\"1\" class=\"dataframe\">\n",
              "  <thead>\n",
              "    <tr style=\"text-align: right;\">\n",
              "      <th></th>\n",
              "      <th>t0</th>\n",
              "      <th>t1</th>\n",
              "      <th>t2</th>\n",
              "      <th>t3</th>\n",
              "      <th>y</th>\n",
              "    </tr>\n",
              "  </thead>\n",
              "  <tbody>\n",
              "    <tr>\n",
              "      <th>0</th>\n",
              "      <td>0.000000</td>\n",
              "      <td>0.479426</td>\n",
              "      <td>0.841471</td>\n",
              "      <td>0.997495</td>\n",
              "      <td>0.909297</td>\n",
              "    </tr>\n",
              "    <tr>\n",
              "      <th>1</th>\n",
              "      <td>0.479426</td>\n",
              "      <td>0.841471</td>\n",
              "      <td>0.997495</td>\n",
              "      <td>0.909297</td>\n",
              "      <td>0.598472</td>\n",
              "    </tr>\n",
              "    <tr>\n",
              "      <th>2</th>\n",
              "      <td>0.841471</td>\n",
              "      <td>0.997495</td>\n",
              "      <td>0.909297</td>\n",
              "      <td>0.598472</td>\n",
              "      <td>0.141120</td>\n",
              "    </tr>\n",
              "    <tr>\n",
              "      <th>3</th>\n",
              "      <td>0.997495</td>\n",
              "      <td>0.909297</td>\n",
              "      <td>0.598472</td>\n",
              "      <td>0.141120</td>\n",
              "      <td>-0.350783</td>\n",
              "    </tr>\n",
              "    <tr>\n",
              "      <th>4</th>\n",
              "      <td>0.909297</td>\n",
              "      <td>0.598472</td>\n",
              "      <td>0.141120</td>\n",
              "      <td>-0.350783</td>\n",
              "      <td>-0.756802</td>\n",
              "    </tr>\n",
              "  </tbody>\n",
              "</table>\n",
              "</div>\n",
              "      <button class=\"colab-df-convert\" onclick=\"convertToInteractive('df-1d5f6a46-4b1b-4268-b688-35119afcd9ec')\"\n",
              "              title=\"Convert this dataframe to an interactive table.\"\n",
              "              style=\"display:none;\">\n",
              "        \n",
              "  <svg xmlns=\"http://www.w3.org/2000/svg\" height=\"24px\"viewBox=\"0 0 24 24\"\n",
              "       width=\"24px\">\n",
              "    <path d=\"M0 0h24v24H0V0z\" fill=\"none\"/>\n",
              "    <path d=\"M18.56 5.44l.94 2.06.94-2.06 2.06-.94-2.06-.94-.94-2.06-.94 2.06-2.06.94zm-11 1L8.5 8.5l.94-2.06 2.06-.94-2.06-.94L8.5 2.5l-.94 2.06-2.06.94zm10 10l.94 2.06.94-2.06 2.06-.94-2.06-.94-.94-2.06-.94 2.06-2.06.94z\"/><path d=\"M17.41 7.96l-1.37-1.37c-.4-.4-.92-.59-1.43-.59-.52 0-1.04.2-1.43.59L10.3 9.45l-7.72 7.72c-.78.78-.78 2.05 0 2.83L4 21.41c.39.39.9.59 1.41.59.51 0 1.02-.2 1.41-.59l7.78-7.78 2.81-2.81c.8-.78.8-2.07 0-2.86zM5.41 20L4 18.59l7.72-7.72 1.47 1.35L5.41 20z\"/>\n",
              "  </svg>\n",
              "      </button>\n",
              "      \n",
              "  <style>\n",
              "    .colab-df-container {\n",
              "      display:flex;\n",
              "      flex-wrap:wrap;\n",
              "      gap: 12px;\n",
              "    }\n",
              "\n",
              "    .colab-df-convert {\n",
              "      background-color: #E8F0FE;\n",
              "      border: none;\n",
              "      border-radius: 50%;\n",
              "      cursor: pointer;\n",
              "      display: none;\n",
              "      fill: #1967D2;\n",
              "      height: 32px;\n",
              "      padding: 0 0 0 0;\n",
              "      width: 32px;\n",
              "    }\n",
              "\n",
              "    .colab-df-convert:hover {\n",
              "      background-color: #E2EBFA;\n",
              "      box-shadow: 0px 1px 2px rgba(60, 64, 67, 0.3), 0px 1px 3px 1px rgba(60, 64, 67, 0.15);\n",
              "      fill: #174EA6;\n",
              "    }\n",
              "\n",
              "    [theme=dark] .colab-df-convert {\n",
              "      background-color: #3B4455;\n",
              "      fill: #D2E3FC;\n",
              "    }\n",
              "\n",
              "    [theme=dark] .colab-df-convert:hover {\n",
              "      background-color: #434B5C;\n",
              "      box-shadow: 0px 1px 3px 1px rgba(0, 0, 0, 0.15);\n",
              "      filter: drop-shadow(0px 1px 2px rgba(0, 0, 0, 0.3));\n",
              "      fill: #FFFFFF;\n",
              "    }\n",
              "  </style>\n",
              "\n",
              "      <script>\n",
              "        const buttonEl =\n",
              "          document.querySelector('#df-1d5f6a46-4b1b-4268-b688-35119afcd9ec button.colab-df-convert');\n",
              "        buttonEl.style.display =\n",
              "          google.colab.kernel.accessAllowed ? 'block' : 'none';\n",
              "\n",
              "        async function convertToInteractive(key) {\n",
              "          const element = document.querySelector('#df-1d5f6a46-4b1b-4268-b688-35119afcd9ec');\n",
              "          const dataTable =\n",
              "            await google.colab.kernel.invokeFunction('convertToInteractive',\n",
              "                                                     [key], {});\n",
              "          if (!dataTable) return;\n",
              "\n",
              "          const docLinkHtml = 'Like what you see? Visit the ' +\n",
              "            '<a target=\"_blank\" href=https://colab.research.google.com/notebooks/data_table.ipynb>data table notebook</a>'\n",
              "            + ' to learn more about interactive tables.';\n",
              "          element.innerHTML = '';\n",
              "          dataTable['output_type'] = 'display_data';\n",
              "          await google.colab.output.renderOutput(dataTable, element);\n",
              "          const docLink = document.createElement('div');\n",
              "          docLink.innerHTML = docLinkHtml;\n",
              "          element.appendChild(docLink);\n",
              "        }\n",
              "      </script>\n",
              "    </div>\n",
              "  </div>\n",
              "  "
            ]
          },
          "metadata": {},
          "execution_count": 27
        }
      ]
    },
    {
      "cell_type": "code",
      "source": [
        "train_x[0:3]"
      ],
      "metadata": {
        "colab": {
          "base_uri": "https://localhost:8080/"
        },
        "id": "CG9m4mPiDxcs",
        "outputId": "75bca8ae-6231-4d07-9835-28c7422ff8b4"
      },
      "execution_count": null,
      "outputs": [
        {
          "output_type": "execute_result",
          "data": {
            "text/plain": [
              "tensor([[[0.0000],\n",
              "         [0.4794],\n",
              "         [0.8415],\n",
              "         [0.9975]],\n",
              "\n",
              "        [[0.4794],\n",
              "         [0.8415],\n",
              "         [0.9975],\n",
              "         [0.9093]],\n",
              "\n",
              "        [[0.8415],\n",
              "         [0.9975],\n",
              "         [0.9093],\n",
              "         [0.5985]]], dtype=torch.float64)"
            ]
          },
          "metadata": {},
          "execution_count": 28
        }
      ]
    },
    {
      "cell_type": "code",
      "source": [
        "y_train[0:3]"
      ],
      "metadata": {
        "colab": {
          "base_uri": "https://localhost:8080/"
        },
        "id": "FDVXALCID9D9",
        "outputId": "cdac46b6-2009-429c-c890-bff9b5af73e5"
      },
      "execution_count": null,
      "outputs": [
        {
          "output_type": "execute_result",
          "data": {
            "text/plain": [
              "array([[0.90929743],\n",
              "       [0.59847214],\n",
              "       [0.14112001]])"
            ]
          },
          "metadata": {},
          "execution_count": 29
        }
      ]
    },
    {
      "cell_type": "markdown",
      "source": [
        "# MLP"
      ],
      "metadata": {
        "id": "g-yBlAqR8zy1"
      }
    },
    {
      "cell_type": "markdown",
      "source": [
        "## Preparação dos tensores"
      ],
      "metadata": {
        "id": "ssD9jdEl-qqH"
      }
    },
    {
      "cell_type": "markdown",
      "metadata": {
        "id": "LvLZuxZ--rDA"
      },
      "source": [
        "Objetos `TensorDataset` e `Dataloader` para os conjuntos de treino, validação e teste."
      ]
    },
    {
      "cell_type": "code",
      "metadata": {
        "id": "Ptdc5MwF-rDA"
      },
      "source": [
        "from torch.utils.data import TensorDataset\n",
        "\n",
        "train_x = train_x.squeeze()\n",
        "valid_x = valid_x.squeeze()\n",
        "test_x = test_x.squeeze()\n",
        "\n",
        "train_ds = TensorDataset(train_x, train_y)\n",
        "valid_ds = TensorDataset(valid_x, valid_y)\n",
        "test_ds = TensorDataset(test_x, test_y)\n",
        "\n",
        "BATCH_SIZE = 8\n",
        "train_loader = torch.utils.data.DataLoader(train_ds, batch_size = BATCH_SIZE, shuffle = True)\n",
        "valid_loader = torch.utils.data.DataLoader(valid_ds, batch_size = BATCH_SIZE, shuffle = True)\n",
        "test_loader = torch.utils.data.DataLoader(test_ds, batch_size = BATCH_SIZE, shuffle = True)"
      ],
      "execution_count": null,
      "outputs": []
    },
    {
      "cell_type": "code",
      "metadata": {
        "colab": {
          "base_uri": "https://localhost:8080/"
        },
        "id": "mIzZngph-rDA",
        "outputId": "9ad873de-7f94-413b-91f2-c8085f58ebb7"
      },
      "source": [
        "train_ds = TensorDataset(train_x, train_y)\n",
        "train_ds[0:3]"
      ],
      "execution_count": null,
      "outputs": [
        {
          "output_type": "execute_result",
          "data": {
            "text/plain": [
              "(tensor([[0.0000, 0.4794, 0.8415, 0.9975],\n",
              "         [0.4794, 0.8415, 0.9975, 0.9093],\n",
              "         [0.8415, 0.9975, 0.9093, 0.5985]], dtype=torch.float64),\n",
              " tensor([[0.9093],\n",
              "         [0.5985],\n",
              "         [0.1411]], dtype=torch.float64))"
            ]
          },
          "metadata": {},
          "execution_count": 31
        }
      ]
    },
    {
      "cell_type": "code",
      "source": [
        "for xb, yb in train_loader:\n",
        "    print(xb)\n",
        "    print(yb)\n",
        "    print(xb.shape)\n",
        "    print(yb.shape)\n",
        "    break"
      ],
      "metadata": {
        "colab": {
          "base_uri": "https://localhost:8080/"
        },
        "outputId": "607d1ac6-8f9c-4a8e-9981-1f9621a6c3ab",
        "id": "jYua7i0A-rDA"
      },
      "execution_count": null,
      "outputs": [
        {
          "output_type": "stream",
          "name": "stdout",
          "text": [
            "tensor([[ 0.0000,  0.4794,  0.8415,  0.9975],\n",
            "        [ 0.4794,  0.8415,  0.9975,  0.9093],\n",
            "        [ 0.8415,  0.9975,  0.9093,  0.5985],\n",
            "        [ 0.9975,  0.9093,  0.5985,  0.1411],\n",
            "        [ 0.9093,  0.5985,  0.1411, -0.3508],\n",
            "        [ 0.5985,  0.1411, -0.3508, -0.7568],\n",
            "        [ 0.1411, -0.3508, -0.7568, -0.9775],\n",
            "        [-0.3508, -0.7568, -0.9775, -0.9589]], dtype=torch.float64)\n",
            "tensor([[ 0.9093],\n",
            "        [ 0.5985],\n",
            "        [ 0.1411],\n",
            "        [-0.3508],\n",
            "        [-0.7568],\n",
            "        [-0.9775],\n",
            "        [-0.9589],\n",
            "        [-0.7055]], dtype=torch.float64)\n",
            "torch.Size([8, 4])\n",
            "torch.Size([8, 1])\n"
          ]
        }
      ]
    },
    {
      "cell_type": "markdown",
      "metadata": {
        "id": "sFGU_cmJ86nQ"
      },
      "source": [
        "## Definição da rede neural"
      ]
    },
    {
      "cell_type": "code",
      "metadata": {
        "id": "wBWnexef86nQ"
      },
      "source": [
        "import torch.nn.functional as F\n",
        "\n",
        "class MLPNet(nn.Module):\n",
        "    def __init__(self, in_size, hidden_size, out_size):\n",
        "        super(MLPNet,self).__init__()\n",
        "        # hidden layer\n",
        "        self.linear1 = nn.Linear(in_size, hidden_size)\n",
        "        # output layer\n",
        "        self.linear2 = nn.Linear(hidden_size, out_size)\n",
        "        \n",
        "    def forward(self, xb):\n",
        "        # Get intermediate outputs using hidden layer\n",
        "        out = self.linear1(xb)\n",
        "\n",
        "        # Apply activation function\n",
        "        out = F.relu(out)\n",
        "\n",
        "        # Get predictions using output layer\n",
        "        out = self.linear2(out)\n",
        "\n",
        "        return out        \n"
      ],
      "execution_count": null,
      "outputs": []
    },
    {
      "cell_type": "code",
      "source": [
        "device = torch.device(\"cuda:0\" if torch.cuda.is_available() else \"cpu\")\n",
        "model = MLPNet(in_size=4, hidden_size=50, out_size=1)\n",
        "print(model)"
      ],
      "metadata": {
        "colab": {
          "base_uri": "https://localhost:8080/"
        },
        "id": "-MS5dFwi-Y3-",
        "outputId": "6c979c28-371b-426a-ede3-1552f6663bb9"
      },
      "execution_count": null,
      "outputs": [
        {
          "output_type": "stream",
          "name": "stdout",
          "text": [
            "MLPNet(\n",
            "  (linear1): Linear(in_features=4, out_features=50, bias=True)\n",
            "  (linear2): Linear(in_features=50, out_features=1, bias=True)\n",
            ")\n"
          ]
        }
      ]
    },
    {
      "cell_type": "code",
      "source": [
        "criterion = nn.MSELoss()"
      ],
      "metadata": {
        "id": "CIJTUql4-Sz2"
      },
      "execution_count": null,
      "outputs": []
    },
    {
      "cell_type": "markdown",
      "source": [
        "Erro médio cometido pelo modelo (ainda não treinado) sobre o conjunto de teste:"
      ],
      "metadata": {
        "id": "Q2i4gCil-Sz2"
      }
    },
    {
      "cell_type": "code",
      "source": [
        "test_losses = []\n",
        "for xb, yb in test_loader:\n",
        "  output = model(xb.float())\n",
        "  loss = criterion(output, yb.float())\n",
        "  test_losses.append(loss.item())\n",
        "test_loss = np.average(test_losses)\n",
        "print(test_loss)"
      ],
      "metadata": {
        "colab": {
          "base_uri": "https://localhost:8080/"
        },
        "outputId": "5144680d-823f-4d65-dd20-4dedb877be89",
        "id": "MYhyCY-b-Sz2"
      },
      "execution_count": null,
      "outputs": [
        {
          "output_type": "stream",
          "name": "stdout",
          "text": [
            "0.6915060306588808\n"
          ]
        }
      ]
    },
    {
      "cell_type": "markdown",
      "metadata": {
        "id": "2kwksfL09-MD"
      },
      "source": [
        "## Ajuste do modelo"
      ]
    },
    {
      "cell_type": "code",
      "source": [
        "for t in model.parameters():\n",
        "    print(t.shape)"
      ],
      "metadata": {
        "colab": {
          "base_uri": "https://localhost:8080/"
        },
        "id": "9KxB2yIQww8L",
        "outputId": "d3d5ba42-8603-4980-fb07-066f52ef1716"
      },
      "execution_count": null,
      "outputs": [
        {
          "output_type": "stream",
          "name": "stdout",
          "text": [
            "torch.Size([50, 4])\n",
            "torch.Size([50])\n",
            "torch.Size([1, 50])\n",
            "torch.Size([1])\n"
          ]
        }
      ]
    },
    {
      "cell_type": "code",
      "metadata": {
        "colab": {
          "base_uri": "https://localhost:8080/"
        },
        "outputId": "01ee75eb-b456-46fa-e509-2f16e0d9cd0a",
        "id": "TdUZuyuJ9-MD"
      },
      "source": [
        "n_epochs = 1000\n",
        "model = model.float()\n",
        "model, train_loss, valid_loss = fit(n_epochs, \n",
        "                                    1e-5, model, \n",
        "                                    train_loader, \n",
        "                                    valid_loader, \n",
        "                                    opt_func=torch.optim.Adam)"
      ],
      "execution_count": null,
      "outputs": [
        {
          "output_type": "stream",
          "name": "stdout",
          "text": [
            "[   0/1000] train_loss: 0.67718 valid_loss: 0.68449\n",
            "[   1/1000] train_loss: 0.67505 valid_loss: 0.68236\n",
            "[   2/1000] train_loss: 0.67295 valid_loss: 0.68024\n",
            "[   3/1000] train_loss: 0.67086 valid_loss: 0.67812\n",
            "[   4/1000] train_loss: 0.66877 valid_loss: 0.67602\n",
            "[   5/1000] train_loss: 0.66670 valid_loss: 0.67392\n",
            "[   6/1000] train_loss: 0.66463 valid_loss: 0.67183\n",
            "[   7/1000] train_loss: 0.66257 valid_loss: 0.66975\n",
            "[   8/1000] train_loss: 0.66051 valid_loss: 0.66767\n",
            "[   9/1000] train_loss: 0.65847 valid_loss: 0.66560\n",
            "[  10/1000] train_loss: 0.65642 valid_loss: 0.66353\n",
            "[  11/1000] train_loss: 0.65439 valid_loss: 0.66148\n",
            "[  12/1000] train_loss: 0.65236 valid_loss: 0.65942\n",
            "[  13/1000] train_loss: 0.65034 valid_loss: 0.65738\n",
            "[  14/1000] train_loss: 0.64832 valid_loss: 0.65534\n",
            "[  15/1000] train_loss: 0.64630 valid_loss: 0.65330\n",
            "[  16/1000] train_loss: 0.64430 valid_loss: 0.65127\n",
            "[  17/1000] train_loss: 0.64230 valid_loss: 0.64925\n",
            "[  18/1000] train_loss: 0.64030 valid_loss: 0.64723\n",
            "[  19/1000] train_loss: 0.63831 valid_loss: 0.64522\n",
            "[  20/1000] train_loss: 0.63633 valid_loss: 0.64321\n",
            "[  21/1000] train_loss: 0.63435 valid_loss: 0.64121\n",
            "[  22/1000] train_loss: 0.63237 valid_loss: 0.63922\n",
            "[  23/1000] train_loss: 0.63040 valid_loss: 0.63723\n",
            "[  24/1000] train_loss: 0.62844 valid_loss: 0.63524\n",
            "[  25/1000] train_loss: 0.62648 valid_loss: 0.63326\n",
            "[  26/1000] train_loss: 0.62453 valid_loss: 0.63129\n",
            "[  27/1000] train_loss: 0.62258 valid_loss: 0.62932\n",
            "[  28/1000] train_loss: 0.62064 valid_loss: 0.62735\n",
            "[  29/1000] train_loss: 0.61870 valid_loss: 0.62539\n",
            "[  30/1000] train_loss: 0.61677 valid_loss: 0.62344\n",
            "[  31/1000] train_loss: 0.61484 valid_loss: 0.62149\n",
            "[  32/1000] train_loss: 0.61292 valid_loss: 0.61954\n",
            "[  33/1000] train_loss: 0.61100 valid_loss: 0.61761\n",
            "[  34/1000] train_loss: 0.60908 valid_loss: 0.61567\n",
            "[  35/1000] train_loss: 0.60717 valid_loss: 0.61374\n",
            "[  36/1000] train_loss: 0.60527 valid_loss: 0.61182\n",
            "[  37/1000] train_loss: 0.60337 valid_loss: 0.60990\n",
            "[  38/1000] train_loss: 0.60148 valid_loss: 0.60798\n",
            "[  39/1000] train_loss: 0.59958 valid_loss: 0.60607\n",
            "[  40/1000] train_loss: 0.59770 valid_loss: 0.60416\n",
            "[  41/1000] train_loss: 0.59582 valid_loss: 0.60226\n",
            "[  42/1000] train_loss: 0.59394 valid_loss: 0.60037\n",
            "[  43/1000] train_loss: 0.59207 valid_loss: 0.59848\n",
            "[  44/1000] train_loss: 0.59020 valid_loss: 0.59659\n",
            "[  45/1000] train_loss: 0.58834 valid_loss: 0.59471\n",
            "[  46/1000] train_loss: 0.58648 valid_loss: 0.59283\n",
            "[  47/1000] train_loss: 0.58462 valid_loss: 0.59096\n",
            "[  48/1000] train_loss: 0.58277 valid_loss: 0.58909\n",
            "[  49/1000] train_loss: 0.58092 valid_loss: 0.58722\n",
            "[  50/1000] train_loss: 0.57908 valid_loss: 0.58536\n",
            "[  51/1000] train_loss: 0.57725 valid_loss: 0.58351\n",
            "[  52/1000] train_loss: 0.57541 valid_loss: 0.58166\n",
            "[  53/1000] train_loss: 0.57359 valid_loss: 0.57981\n",
            "[  54/1000] train_loss: 0.57176 valid_loss: 0.57796\n",
            "[  55/1000] train_loss: 0.56995 valid_loss: 0.57613\n",
            "[  56/1000] train_loss: 0.56813 valid_loss: 0.57429\n",
            "[  57/1000] train_loss: 0.56632 valid_loss: 0.57246\n",
            "[  58/1000] train_loss: 0.56452 valid_loss: 0.57064\n",
            "[  59/1000] train_loss: 0.56271 valid_loss: 0.56881\n",
            "[  60/1000] train_loss: 0.56092 valid_loss: 0.56700\n",
            "[  61/1000] train_loss: 0.55912 valid_loss: 0.56518\n",
            "[  62/1000] train_loss: 0.55733 valid_loss: 0.56338\n",
            "[  63/1000] train_loss: 0.55555 valid_loss: 0.56157\n",
            "[  64/1000] train_loss: 0.55377 valid_loss: 0.55977\n",
            "[  65/1000] train_loss: 0.55199 valid_loss: 0.55797\n",
            "[  66/1000] train_loss: 0.55022 valid_loss: 0.55618\n",
            "[  67/1000] train_loss: 0.54845 valid_loss: 0.55439\n",
            "[  68/1000] train_loss: 0.54669 valid_loss: 0.55261\n",
            "[  69/1000] train_loss: 0.54493 valid_loss: 0.55083\n",
            "[  70/1000] train_loss: 0.54317 valid_loss: 0.54905\n",
            "[  71/1000] train_loss: 0.54141 valid_loss: 0.54728\n",
            "[  72/1000] train_loss: 0.53966 valid_loss: 0.54551\n",
            "[  73/1000] train_loss: 0.53792 valid_loss: 0.54375\n",
            "[  74/1000] train_loss: 0.53617 valid_loss: 0.54199\n",
            "[  75/1000] train_loss: 0.53443 valid_loss: 0.54023\n",
            "[  76/1000] train_loss: 0.53270 valid_loss: 0.53848\n",
            "[  77/1000] train_loss: 0.53096 valid_loss: 0.53673\n",
            "[  78/1000] train_loss: 0.52923 valid_loss: 0.53498\n",
            "[  79/1000] train_loss: 0.52751 valid_loss: 0.53324\n",
            "[  80/1000] train_loss: 0.52579 valid_loss: 0.53150\n",
            "[  81/1000] train_loss: 0.52407 valid_loss: 0.52977\n",
            "[  82/1000] train_loss: 0.52235 valid_loss: 0.52804\n",
            "[  83/1000] train_loss: 0.52064 valid_loss: 0.52631\n",
            "[  84/1000] train_loss: 0.51893 valid_loss: 0.52459\n",
            "[  85/1000] train_loss: 0.51723 valid_loss: 0.52287\n",
            "[  86/1000] train_loss: 0.51553 valid_loss: 0.52115\n",
            "[  87/1000] train_loss: 0.51383 valid_loss: 0.51944\n",
            "[  88/1000] train_loss: 0.51214 valid_loss: 0.51773\n",
            "[  89/1000] train_loss: 0.51045 valid_loss: 0.51603\n",
            "[  90/1000] train_loss: 0.50876 valid_loss: 0.51433\n",
            "[  91/1000] train_loss: 0.50708 valid_loss: 0.51263\n",
            "[  92/1000] train_loss: 0.50541 valid_loss: 0.51093\n",
            "[  93/1000] train_loss: 0.50373 valid_loss: 0.50924\n",
            "[  94/1000] train_loss: 0.50206 valid_loss: 0.50756\n",
            "[  95/1000] train_loss: 0.50040 valid_loss: 0.50587\n",
            "[  96/1000] train_loss: 0.49874 valid_loss: 0.50419\n",
            "[  97/1000] train_loss: 0.49708 valid_loss: 0.50251\n",
            "[  98/1000] train_loss: 0.49542 valid_loss: 0.50084\n",
            "[  99/1000] train_loss: 0.49377 valid_loss: 0.49917\n",
            "[ 100/1000] train_loss: 0.49212 valid_loss: 0.49750\n",
            "[ 101/1000] train_loss: 0.49047 valid_loss: 0.49584\n",
            "[ 102/1000] train_loss: 0.48883 valid_loss: 0.49418\n",
            "[ 103/1000] train_loss: 0.48719 valid_loss: 0.49252\n",
            "[ 104/1000] train_loss: 0.48556 valid_loss: 0.49087\n",
            "[ 105/1000] train_loss: 0.48393 valid_loss: 0.48922\n",
            "[ 106/1000] train_loss: 0.48230 valid_loss: 0.48757\n",
            "[ 107/1000] train_loss: 0.48068 valid_loss: 0.48593\n",
            "[ 108/1000] train_loss: 0.47906 valid_loss: 0.48429\n",
            "[ 109/1000] train_loss: 0.47745 valid_loss: 0.48266\n",
            "[ 110/1000] train_loss: 0.47584 valid_loss: 0.48104\n",
            "[ 111/1000] train_loss: 0.47424 valid_loss: 0.47942\n",
            "[ 112/1000] train_loss: 0.47264 valid_loss: 0.47780\n",
            "[ 113/1000] train_loss: 0.47105 valid_loss: 0.47619\n",
            "[ 114/1000] train_loss: 0.46946 valid_loss: 0.47458\n",
            "[ 115/1000] train_loss: 0.46787 valid_loss: 0.47297\n",
            "[ 116/1000] train_loss: 0.46629 valid_loss: 0.47137\n",
            "[ 117/1000] train_loss: 0.46471 valid_loss: 0.46978\n",
            "[ 118/1000] train_loss: 0.46314 valid_loss: 0.46819\n",
            "[ 119/1000] train_loss: 0.46157 valid_loss: 0.46660\n",
            "[ 120/1000] train_loss: 0.46000 valid_loss: 0.46501\n",
            "[ 121/1000] train_loss: 0.45844 valid_loss: 0.46343\n",
            "[ 122/1000] train_loss: 0.45688 valid_loss: 0.46185\n",
            "[ 123/1000] train_loss: 0.45532 valid_loss: 0.46027\n",
            "[ 124/1000] train_loss: 0.45376 valid_loss: 0.45870\n",
            "[ 125/1000] train_loss: 0.45221 valid_loss: 0.45713\n",
            "[ 126/1000] train_loss: 0.45066 valid_loss: 0.45557\n",
            "[ 127/1000] train_loss: 0.44912 valid_loss: 0.45401\n",
            "[ 128/1000] train_loss: 0.44758 valid_loss: 0.45245\n",
            "[ 129/1000] train_loss: 0.44604 valid_loss: 0.45089\n",
            "[ 130/1000] train_loss: 0.44451 valid_loss: 0.44934\n",
            "[ 131/1000] train_loss: 0.44298 valid_loss: 0.44779\n",
            "[ 132/1000] train_loss: 0.44145 valid_loss: 0.44625\n",
            "[ 133/1000] train_loss: 0.43993 valid_loss: 0.44470\n",
            "[ 134/1000] train_loss: 0.43841 valid_loss: 0.44316\n",
            "[ 135/1000] train_loss: 0.43689 valid_loss: 0.44162\n",
            "[ 136/1000] train_loss: 0.43538 valid_loss: 0.44009\n",
            "[ 137/1000] train_loss: 0.43387 valid_loss: 0.43856\n",
            "[ 138/1000] train_loss: 0.43237 valid_loss: 0.43704\n",
            "[ 139/1000] train_loss: 0.43086 valid_loss: 0.43551\n",
            "[ 140/1000] train_loss: 0.42936 valid_loss: 0.43399\n",
            "[ 141/1000] train_loss: 0.42787 valid_loss: 0.43248\n",
            "[ 142/1000] train_loss: 0.42638 valid_loss: 0.43097\n",
            "[ 143/1000] train_loss: 0.42489 valid_loss: 0.42946\n",
            "[ 144/1000] train_loss: 0.42340 valid_loss: 0.42795\n",
            "[ 145/1000] train_loss: 0.42192 valid_loss: 0.42645\n",
            "[ 146/1000] train_loss: 0.42044 valid_loss: 0.42495\n",
            "[ 147/1000] train_loss: 0.41896 valid_loss: 0.42345\n",
            "[ 148/1000] train_loss: 0.41748 valid_loss: 0.42196\n",
            "[ 149/1000] train_loss: 0.41601 valid_loss: 0.42047\n",
            "[ 150/1000] train_loss: 0.41454 valid_loss: 0.41899\n",
            "[ 151/1000] train_loss: 0.41308 valid_loss: 0.41750\n",
            "[ 152/1000] train_loss: 0.41162 valid_loss: 0.41602\n",
            "[ 153/1000] train_loss: 0.41015 valid_loss: 0.41455\n",
            "[ 154/1000] train_loss: 0.40869 valid_loss: 0.41307\n",
            "[ 155/1000] train_loss: 0.40724 valid_loss: 0.41160\n",
            "[ 156/1000] train_loss: 0.40579 valid_loss: 0.41013\n",
            "[ 157/1000] train_loss: 0.40434 valid_loss: 0.40867\n",
            "[ 158/1000] train_loss: 0.40289 valid_loss: 0.40721\n",
            "[ 159/1000] train_loss: 0.40145 valid_loss: 0.40575\n",
            "[ 160/1000] train_loss: 0.40002 valid_loss: 0.40429\n",
            "[ 161/1000] train_loss: 0.39858 valid_loss: 0.40284\n",
            "[ 162/1000] train_loss: 0.39715 valid_loss: 0.40139\n",
            "[ 163/1000] train_loss: 0.39572 valid_loss: 0.39995\n",
            "[ 164/1000] train_loss: 0.39429 valid_loss: 0.39850\n",
            "[ 165/1000] train_loss: 0.39287 valid_loss: 0.39706\n",
            "[ 166/1000] train_loss: 0.39145 valid_loss: 0.39563\n",
            "[ 167/1000] train_loss: 0.39003 valid_loss: 0.39419\n",
            "[ 168/1000] train_loss: 0.38861 valid_loss: 0.39276\n",
            "[ 169/1000] train_loss: 0.38720 valid_loss: 0.39133\n",
            "[ 170/1000] train_loss: 0.38579 valid_loss: 0.38990\n",
            "[ 171/1000] train_loss: 0.38439 valid_loss: 0.38848\n",
            "[ 172/1000] train_loss: 0.38298 valid_loss: 0.38706\n",
            "[ 173/1000] train_loss: 0.38158 valid_loss: 0.38564\n",
            "[ 174/1000] train_loss: 0.38019 valid_loss: 0.38423\n",
            "[ 175/1000] train_loss: 0.37879 valid_loss: 0.38282\n",
            "[ 176/1000] train_loss: 0.37740 valid_loss: 0.38141\n",
            "[ 177/1000] train_loss: 0.37601 valid_loss: 0.38000\n",
            "[ 178/1000] train_loss: 0.37462 valid_loss: 0.37860\n",
            "[ 179/1000] train_loss: 0.37324 valid_loss: 0.37720\n",
            "[ 180/1000] train_loss: 0.37186 valid_loss: 0.37580\n",
            "[ 181/1000] train_loss: 0.37048 valid_loss: 0.37440\n",
            "[ 182/1000] train_loss: 0.36910 valid_loss: 0.37301\n",
            "[ 183/1000] train_loss: 0.36773 valid_loss: 0.37162\n",
            "[ 184/1000] train_loss: 0.36636 valid_loss: 0.37024\n",
            "[ 185/1000] train_loss: 0.36499 valid_loss: 0.36885\n",
            "[ 186/1000] train_loss: 0.36363 valid_loss: 0.36747\n",
            "[ 187/1000] train_loss: 0.36227 valid_loss: 0.36610\n",
            "[ 188/1000] train_loss: 0.36091 valid_loss: 0.36472\n",
            "[ 189/1000] train_loss: 0.35956 valid_loss: 0.36335\n",
            "[ 190/1000] train_loss: 0.35821 valid_loss: 0.36198\n",
            "[ 191/1000] train_loss: 0.35686 valid_loss: 0.36062\n",
            "[ 192/1000] train_loss: 0.35551 valid_loss: 0.35925\n",
            "[ 193/1000] train_loss: 0.35417 valid_loss: 0.35789\n",
            "[ 194/1000] train_loss: 0.35283 valid_loss: 0.35654\n",
            "[ 195/1000] train_loss: 0.35150 valid_loss: 0.35518\n",
            "[ 196/1000] train_loss: 0.35016 valid_loss: 0.35383\n",
            "[ 197/1000] train_loss: 0.34883 valid_loss: 0.35249\n",
            "[ 198/1000] train_loss: 0.34750 valid_loss: 0.35114\n",
            "[ 199/1000] train_loss: 0.34618 valid_loss: 0.34980\n",
            "[ 200/1000] train_loss: 0.34486 valid_loss: 0.34846\n",
            "[ 201/1000] train_loss: 0.34354 valid_loss: 0.34713\n",
            "[ 202/1000] train_loss: 0.34222 valid_loss: 0.34579\n",
            "[ 203/1000] train_loss: 0.34091 valid_loss: 0.34446\n",
            "[ 204/1000] train_loss: 0.33960 valid_loss: 0.34314\n",
            "[ 205/1000] train_loss: 0.33829 valid_loss: 0.34181\n",
            "[ 206/1000] train_loss: 0.33698 valid_loss: 0.34049\n",
            "[ 207/1000] train_loss: 0.33568 valid_loss: 0.33917\n",
            "[ 208/1000] train_loss: 0.33438 valid_loss: 0.33786\n",
            "[ 209/1000] train_loss: 0.33308 valid_loss: 0.33654\n",
            "[ 210/1000] train_loss: 0.33178 valid_loss: 0.33523\n",
            "[ 211/1000] train_loss: 0.33049 valid_loss: 0.33392\n",
            "[ 212/1000] train_loss: 0.32920 valid_loss: 0.33262\n",
            "[ 213/1000] train_loss: 0.32791 valid_loss: 0.33132\n",
            "[ 214/1000] train_loss: 0.32663 valid_loss: 0.33002\n",
            "[ 215/1000] train_loss: 0.32534 valid_loss: 0.32872\n",
            "[ 216/1000] train_loss: 0.32407 valid_loss: 0.32743\n",
            "[ 217/1000] train_loss: 0.32279 valid_loss: 0.32614\n",
            "[ 218/1000] train_loss: 0.32152 valid_loss: 0.32485\n",
            "[ 219/1000] train_loss: 0.32025 valid_loss: 0.32356\n",
            "[ 220/1000] train_loss: 0.31898 valid_loss: 0.32228\n",
            "[ 221/1000] train_loss: 0.31771 valid_loss: 0.32100\n",
            "[ 222/1000] train_loss: 0.31645 valid_loss: 0.31972\n",
            "[ 223/1000] train_loss: 0.31519 valid_loss: 0.31844\n",
            "[ 224/1000] train_loss: 0.31393 valid_loss: 0.31717\n",
            "[ 225/1000] train_loss: 0.31267 valid_loss: 0.31590\n",
            "[ 226/1000] train_loss: 0.31142 valid_loss: 0.31463\n",
            "[ 227/1000] train_loss: 0.31017 valid_loss: 0.31337\n",
            "[ 228/1000] train_loss: 0.30892 valid_loss: 0.31211\n",
            "[ 229/1000] train_loss: 0.30768 valid_loss: 0.31085\n",
            "[ 230/1000] train_loss: 0.30644 valid_loss: 0.30959\n",
            "[ 231/1000] train_loss: 0.30520 valid_loss: 0.30834\n",
            "[ 232/1000] train_loss: 0.30396 valid_loss: 0.30709\n",
            "[ 233/1000] train_loss: 0.30273 valid_loss: 0.30584\n",
            "[ 234/1000] train_loss: 0.30150 valid_loss: 0.30459\n",
            "[ 235/1000] train_loss: 0.30027 valid_loss: 0.30335\n",
            "[ 236/1000] train_loss: 0.29905 valid_loss: 0.30211\n",
            "[ 237/1000] train_loss: 0.29783 valid_loss: 0.30087\n",
            "[ 238/1000] train_loss: 0.29660 valid_loss: 0.29963\n",
            "[ 239/1000] train_loss: 0.29539 valid_loss: 0.29840\n",
            "[ 240/1000] train_loss: 0.29417 valid_loss: 0.29717\n",
            "[ 241/1000] train_loss: 0.29296 valid_loss: 0.29594\n",
            "[ 242/1000] train_loss: 0.29175 valid_loss: 0.29472\n",
            "[ 243/1000] train_loss: 0.29055 valid_loss: 0.29350\n",
            "[ 244/1000] train_loss: 0.28934 valid_loss: 0.29228\n",
            "[ 245/1000] train_loss: 0.28814 valid_loss: 0.29106\n",
            "[ 246/1000] train_loss: 0.28694 valid_loss: 0.28984\n",
            "[ 247/1000] train_loss: 0.28575 valid_loss: 0.28863\n",
            "[ 248/1000] train_loss: 0.28455 valid_loss: 0.28742\n",
            "[ 249/1000] train_loss: 0.28336 valid_loss: 0.28622\n",
            "[ 250/1000] train_loss: 0.28218 valid_loss: 0.28501\n",
            "[ 251/1000] train_loss: 0.28099 valid_loss: 0.28381\n",
            "[ 252/1000] train_loss: 0.27981 valid_loss: 0.28261\n",
            "[ 253/1000] train_loss: 0.27863 valid_loss: 0.28142\n",
            "[ 254/1000] train_loss: 0.27746 valid_loss: 0.28022\n",
            "[ 255/1000] train_loss: 0.27628 valid_loss: 0.27903\n",
            "[ 256/1000] train_loss: 0.27511 valid_loss: 0.27784\n",
            "[ 257/1000] train_loss: 0.27394 valid_loss: 0.27666\n",
            "[ 258/1000] train_loss: 0.27277 valid_loss: 0.27547\n",
            "[ 259/1000] train_loss: 0.27161 valid_loss: 0.27429\n",
            "[ 260/1000] train_loss: 0.27045 valid_loss: 0.27311\n",
            "[ 261/1000] train_loss: 0.26929 valid_loss: 0.27194\n",
            "[ 262/1000] train_loss: 0.26813 valid_loss: 0.27076\n",
            "[ 263/1000] train_loss: 0.26698 valid_loss: 0.26959\n",
            "[ 264/1000] train_loss: 0.26582 valid_loss: 0.26842\n",
            "[ 265/1000] train_loss: 0.26467 valid_loss: 0.26726\n",
            "[ 266/1000] train_loss: 0.26353 valid_loss: 0.26609\n",
            "[ 267/1000] train_loss: 0.26238 valid_loss: 0.26493\n",
            "[ 268/1000] train_loss: 0.26124 valid_loss: 0.26377\n",
            "[ 269/1000] train_loss: 0.26010 valid_loss: 0.26262\n",
            "[ 270/1000] train_loss: 0.25896 valid_loss: 0.26146\n",
            "[ 271/1000] train_loss: 0.25782 valid_loss: 0.26031\n",
            "[ 272/1000] train_loss: 0.25669 valid_loss: 0.25917\n",
            "[ 273/1000] train_loss: 0.25556 valid_loss: 0.25802\n",
            "[ 274/1000] train_loss: 0.25443 valid_loss: 0.25688\n",
            "[ 275/1000] train_loss: 0.25331 valid_loss: 0.25574\n",
            "[ 276/1000] train_loss: 0.25219 valid_loss: 0.25460\n",
            "[ 277/1000] train_loss: 0.25106 valid_loss: 0.25346\n",
            "[ 278/1000] train_loss: 0.24995 valid_loss: 0.25233\n",
            "[ 279/1000] train_loss: 0.24883 valid_loss: 0.25120\n",
            "[ 280/1000] train_loss: 0.24772 valid_loss: 0.25007\n",
            "[ 281/1000] train_loss: 0.24661 valid_loss: 0.24895\n",
            "[ 282/1000] train_loss: 0.24550 valid_loss: 0.24782\n",
            "[ 283/1000] train_loss: 0.24439 valid_loss: 0.24670\n",
            "[ 284/1000] train_loss: 0.24328 valid_loss: 0.24558\n",
            "[ 285/1000] train_loss: 0.24218 valid_loss: 0.24447\n",
            "[ 286/1000] train_loss: 0.24108 valid_loss: 0.24335\n",
            "[ 287/1000] train_loss: 0.23998 valid_loss: 0.24224\n",
            "[ 288/1000] train_loss: 0.23889 valid_loss: 0.24113\n",
            "[ 289/1000] train_loss: 0.23779 valid_loss: 0.24003\n",
            "[ 290/1000] train_loss: 0.23670 valid_loss: 0.23892\n",
            "[ 291/1000] train_loss: 0.23562 valid_loss: 0.23782\n",
            "[ 292/1000] train_loss: 0.23453 valid_loss: 0.23672\n",
            "[ 293/1000] train_loss: 0.23345 valid_loss: 0.23563\n",
            "[ 294/1000] train_loss: 0.23237 valid_loss: 0.23453\n",
            "[ 295/1000] train_loss: 0.23129 valid_loss: 0.23344\n",
            "[ 296/1000] train_loss: 0.23022 valid_loss: 0.23235\n",
            "[ 297/1000] train_loss: 0.22914 valid_loss: 0.23127\n",
            "[ 298/1000] train_loss: 0.22807 valid_loss: 0.23018\n",
            "[ 299/1000] train_loss: 0.22700 valid_loss: 0.22910\n",
            "[ 300/1000] train_loss: 0.22593 valid_loss: 0.22802\n",
            "[ 301/1000] train_loss: 0.22487 valid_loss: 0.22694\n",
            "[ 302/1000] train_loss: 0.22381 valid_loss: 0.22587\n",
            "[ 303/1000] train_loss: 0.22275 valid_loss: 0.22480\n",
            "[ 304/1000] train_loss: 0.22169 valid_loss: 0.22373\n",
            "[ 305/1000] train_loss: 0.22064 valid_loss: 0.22266\n",
            "[ 306/1000] train_loss: 0.21959 valid_loss: 0.22159\n",
            "[ 307/1000] train_loss: 0.21854 valid_loss: 0.22053\n",
            "[ 308/1000] train_loss: 0.21749 valid_loss: 0.21947\n",
            "[ 309/1000] train_loss: 0.21645 valid_loss: 0.21841\n",
            "[ 310/1000] train_loss: 0.21541 valid_loss: 0.21736\n",
            "[ 311/1000] train_loss: 0.21437 valid_loss: 0.21631\n",
            "[ 312/1000] train_loss: 0.21333 valid_loss: 0.21526\n",
            "[ 313/1000] train_loss: 0.21230 valid_loss: 0.21421\n",
            "[ 314/1000] train_loss: 0.21127 valid_loss: 0.21316\n",
            "[ 315/1000] train_loss: 0.21024 valid_loss: 0.21212\n",
            "[ 316/1000] train_loss: 0.20921 valid_loss: 0.21108\n",
            "[ 317/1000] train_loss: 0.20819 valid_loss: 0.21004\n",
            "[ 318/1000] train_loss: 0.20717 valid_loss: 0.20900\n",
            "[ 319/1000] train_loss: 0.20615 valid_loss: 0.20797\n",
            "[ 320/1000] train_loss: 0.20513 valid_loss: 0.20694\n",
            "[ 321/1000] train_loss: 0.20412 valid_loss: 0.20591\n",
            "[ 322/1000] train_loss: 0.20311 valid_loss: 0.20488\n",
            "[ 323/1000] train_loss: 0.20210 valid_loss: 0.20385\n",
            "[ 324/1000] train_loss: 0.20109 valid_loss: 0.20283\n",
            "[ 325/1000] train_loss: 0.20009 valid_loss: 0.20181\n",
            "[ 326/1000] train_loss: 0.19908 valid_loss: 0.20080\n",
            "[ 327/1000] train_loss: 0.19808 valid_loss: 0.19978\n",
            "[ 328/1000] train_loss: 0.19709 valid_loss: 0.19877\n",
            "[ 329/1000] train_loss: 0.19609 valid_loss: 0.19776\n",
            "[ 330/1000] train_loss: 0.19510 valid_loss: 0.19675\n",
            "[ 331/1000] train_loss: 0.19411 valid_loss: 0.19575\n",
            "[ 332/1000] train_loss: 0.19312 valid_loss: 0.19474\n",
            "[ 333/1000] train_loss: 0.19213 valid_loss: 0.19374\n",
            "[ 334/1000] train_loss: 0.19115 valid_loss: 0.19274\n",
            "[ 335/1000] train_loss: 0.19017 valid_loss: 0.19174\n",
            "[ 336/1000] train_loss: 0.18919 valid_loss: 0.19075\n",
            "[ 337/1000] train_loss: 0.18821 valid_loss: 0.18976\n",
            "[ 338/1000] train_loss: 0.18723 valid_loss: 0.18877\n",
            "[ 339/1000] train_loss: 0.18626 valid_loss: 0.18778\n",
            "[ 340/1000] train_loss: 0.18528 valid_loss: 0.18679\n",
            "[ 341/1000] train_loss: 0.18431 valid_loss: 0.18581\n",
            "[ 342/1000] train_loss: 0.18334 valid_loss: 0.18483\n",
            "[ 343/1000] train_loss: 0.18238 valid_loss: 0.18385\n",
            "[ 344/1000] train_loss: 0.18142 valid_loss: 0.18287\n",
            "[ 345/1000] train_loss: 0.18046 valid_loss: 0.18190\n",
            "[ 346/1000] train_loss: 0.17950 valid_loss: 0.18093\n",
            "[ 347/1000] train_loss: 0.17854 valid_loss: 0.17996\n",
            "[ 348/1000] train_loss: 0.17759 valid_loss: 0.17900\n",
            "[ 349/1000] train_loss: 0.17664 valid_loss: 0.17803\n",
            "[ 350/1000] train_loss: 0.17569 valid_loss: 0.17707\n",
            "[ 351/1000] train_loss: 0.17474 valid_loss: 0.17611\n",
            "[ 352/1000] train_loss: 0.17380 valid_loss: 0.17515\n",
            "[ 353/1000] train_loss: 0.17286 valid_loss: 0.17420\n",
            "[ 354/1000] train_loss: 0.17191 valid_loss: 0.17325\n",
            "[ 355/1000] train_loss: 0.17098 valid_loss: 0.17230\n",
            "[ 356/1000] train_loss: 0.17004 valid_loss: 0.17135\n",
            "[ 357/1000] train_loss: 0.16911 valid_loss: 0.17040\n",
            "[ 358/1000] train_loss: 0.16818 valid_loss: 0.16946\n",
            "[ 359/1000] train_loss: 0.16725 valid_loss: 0.16852\n",
            "[ 360/1000] train_loss: 0.16633 valid_loss: 0.16759\n",
            "[ 361/1000] train_loss: 0.16540 valid_loss: 0.16665\n",
            "[ 362/1000] train_loss: 0.16448 valid_loss: 0.16572\n",
            "[ 363/1000] train_loss: 0.16356 valid_loss: 0.16479\n",
            "[ 364/1000] train_loss: 0.16265 valid_loss: 0.16386\n",
            "[ 365/1000] train_loss: 0.16174 valid_loss: 0.16294\n",
            "[ 366/1000] train_loss: 0.16083 valid_loss: 0.16202\n",
            "[ 367/1000] train_loss: 0.15992 valid_loss: 0.16110\n",
            "[ 368/1000] train_loss: 0.15902 valid_loss: 0.16018\n",
            "[ 369/1000] train_loss: 0.15811 valid_loss: 0.15926\n",
            "[ 370/1000] train_loss: 0.15721 valid_loss: 0.15835\n",
            "[ 371/1000] train_loss: 0.15632 valid_loss: 0.15744\n",
            "[ 372/1000] train_loss: 0.15542 valid_loss: 0.15653\n",
            "[ 373/1000] train_loss: 0.15453 valid_loss: 0.15563\n",
            "[ 374/1000] train_loss: 0.15364 valid_loss: 0.15473\n",
            "[ 375/1000] train_loss: 0.15275 valid_loss: 0.15383\n",
            "[ 376/1000] train_loss: 0.15187 valid_loss: 0.15293\n",
            "[ 377/1000] train_loss: 0.15098 valid_loss: 0.15203\n",
            "[ 378/1000] train_loss: 0.15010 valid_loss: 0.15114\n",
            "[ 379/1000] train_loss: 0.14922 valid_loss: 0.15025\n",
            "[ 380/1000] train_loss: 0.14834 valid_loss: 0.14936\n",
            "[ 381/1000] train_loss: 0.14747 valid_loss: 0.14847\n",
            "[ 382/1000] train_loss: 0.14660 valid_loss: 0.14759\n",
            "[ 383/1000] train_loss: 0.14573 valid_loss: 0.14670\n",
            "[ 384/1000] train_loss: 0.14486 valid_loss: 0.14583\n",
            "[ 385/1000] train_loss: 0.14400 valid_loss: 0.14495\n",
            "[ 386/1000] train_loss: 0.14314 valid_loss: 0.14408\n",
            "[ 387/1000] train_loss: 0.14228 valid_loss: 0.14321\n",
            "[ 388/1000] train_loss: 0.14143 valid_loss: 0.14234\n",
            "[ 389/1000] train_loss: 0.14057 valid_loss: 0.14147\n",
            "[ 390/1000] train_loss: 0.13972 valid_loss: 0.14061\n",
            "[ 391/1000] train_loss: 0.13888 valid_loss: 0.13975\n",
            "[ 392/1000] train_loss: 0.13803 valid_loss: 0.13889\n",
            "[ 393/1000] train_loss: 0.13719 valid_loss: 0.13804\n",
            "[ 394/1000] train_loss: 0.13635 valid_loss: 0.13718\n",
            "[ 395/1000] train_loss: 0.13551 valid_loss: 0.13633\n",
            "[ 396/1000] train_loss: 0.13468 valid_loss: 0.13549\n",
            "[ 397/1000] train_loss: 0.13385 valid_loss: 0.13464\n",
            "[ 398/1000] train_loss: 0.13302 valid_loss: 0.13380\n",
            "[ 399/1000] train_loss: 0.13219 valid_loss: 0.13296\n",
            "[ 400/1000] train_loss: 0.13136 valid_loss: 0.13213\n",
            "[ 401/1000] train_loss: 0.13054 valid_loss: 0.13129\n",
            "[ 402/1000] train_loss: 0.12972 valid_loss: 0.13046\n",
            "[ 403/1000] train_loss: 0.12891 valid_loss: 0.12963\n",
            "[ 404/1000] train_loss: 0.12809 valid_loss: 0.12881\n",
            "[ 405/1000] train_loss: 0.12728 valid_loss: 0.12799\n",
            "[ 406/1000] train_loss: 0.12647 valid_loss: 0.12717\n",
            "[ 407/1000] train_loss: 0.12566 valid_loss: 0.12635\n",
            "[ 408/1000] train_loss: 0.12486 valid_loss: 0.12553\n",
            "[ 409/1000] train_loss: 0.12406 valid_loss: 0.12472\n",
            "[ 410/1000] train_loss: 0.12326 valid_loss: 0.12391\n",
            "[ 411/1000] train_loss: 0.12247 valid_loss: 0.12311\n",
            "[ 412/1000] train_loss: 0.12168 valid_loss: 0.12231\n",
            "[ 413/1000] train_loss: 0.12089 valid_loss: 0.12151\n",
            "[ 414/1000] train_loss: 0.12010 valid_loss: 0.12071\n",
            "[ 415/1000] train_loss: 0.11932 valid_loss: 0.11992\n",
            "[ 416/1000] train_loss: 0.11854 valid_loss: 0.11912\n",
            "[ 417/1000] train_loss: 0.11776 valid_loss: 0.11834\n",
            "[ 418/1000] train_loss: 0.11698 valid_loss: 0.11755\n",
            "[ 419/1000] train_loss: 0.11621 valid_loss: 0.11677\n",
            "[ 420/1000] train_loss: 0.11544 valid_loss: 0.11599\n",
            "[ 421/1000] train_loss: 0.11467 valid_loss: 0.11521\n",
            "[ 422/1000] train_loss: 0.11391 valid_loss: 0.11443\n",
            "[ 423/1000] train_loss: 0.11314 valid_loss: 0.11366\n",
            "[ 424/1000] train_loss: 0.11238 valid_loss: 0.11289\n",
            "[ 425/1000] train_loss: 0.11163 valid_loss: 0.11212\n",
            "[ 426/1000] train_loss: 0.11087 valid_loss: 0.11136\n",
            "[ 427/1000] train_loss: 0.11012 valid_loss: 0.11060\n",
            "[ 428/1000] train_loss: 0.10937 valid_loss: 0.10984\n",
            "[ 429/1000] train_loss: 0.10863 valid_loss: 0.10909\n",
            "[ 430/1000] train_loss: 0.10789 valid_loss: 0.10834\n",
            "[ 431/1000] train_loss: 0.10715 valid_loss: 0.10759\n",
            "[ 432/1000] train_loss: 0.10641 valid_loss: 0.10684\n",
            "[ 433/1000] train_loss: 0.10568 valid_loss: 0.10610\n",
            "[ 434/1000] train_loss: 0.10495 valid_loss: 0.10536\n",
            "[ 435/1000] train_loss: 0.10422 valid_loss: 0.10462\n",
            "[ 436/1000] train_loss: 0.10349 valid_loss: 0.10389\n",
            "[ 437/1000] train_loss: 0.10277 valid_loss: 0.10316\n",
            "[ 438/1000] train_loss: 0.10205 valid_loss: 0.10243\n",
            "[ 439/1000] train_loss: 0.10133 valid_loss: 0.10171\n",
            "[ 440/1000] train_loss: 0.10062 valid_loss: 0.10098\n",
            "[ 441/1000] train_loss: 0.09991 valid_loss: 0.10027\n",
            "[ 442/1000] train_loss: 0.09920 valid_loss: 0.09955\n",
            "[ 443/1000] train_loss: 0.09849 valid_loss: 0.09884\n",
            "[ 444/1000] train_loss: 0.09779 valid_loss: 0.09813\n",
            "[ 445/1000] train_loss: 0.09709 valid_loss: 0.09742\n",
            "[ 446/1000] train_loss: 0.09640 valid_loss: 0.09672\n",
            "[ 447/1000] train_loss: 0.09570 valid_loss: 0.09602\n",
            "[ 448/1000] train_loss: 0.09501 valid_loss: 0.09533\n",
            "[ 449/1000] train_loss: 0.09433 valid_loss: 0.09463\n",
            "[ 450/1000] train_loss: 0.09365 valid_loss: 0.09394\n",
            "[ 451/1000] train_loss: 0.09296 valid_loss: 0.09326\n",
            "[ 452/1000] train_loss: 0.09229 valid_loss: 0.09257\n",
            "[ 453/1000] train_loss: 0.09161 valid_loss: 0.09189\n",
            "[ 454/1000] train_loss: 0.09094 valid_loss: 0.09122\n",
            "[ 455/1000] train_loss: 0.09027 valid_loss: 0.09054\n",
            "[ 456/1000] train_loss: 0.08961 valid_loss: 0.08987\n",
            "[ 457/1000] train_loss: 0.08894 valid_loss: 0.08920\n",
            "[ 458/1000] train_loss: 0.08828 valid_loss: 0.08854\n",
            "[ 459/1000] train_loss: 0.08763 valid_loss: 0.08787\n",
            "[ 460/1000] train_loss: 0.08697 valid_loss: 0.08721\n",
            "[ 461/1000] train_loss: 0.08632 valid_loss: 0.08656\n",
            "[ 462/1000] train_loss: 0.08568 valid_loss: 0.08590\n",
            "[ 463/1000] train_loss: 0.08503 valid_loss: 0.08525\n",
            "[ 464/1000] train_loss: 0.08439 valid_loss: 0.08461\n",
            "[ 465/1000] train_loss: 0.08375 valid_loss: 0.08396\n",
            "[ 466/1000] train_loss: 0.08312 valid_loss: 0.08332\n",
            "[ 467/1000] train_loss: 0.08249 valid_loss: 0.08269\n",
            "[ 468/1000] train_loss: 0.08186 valid_loss: 0.08205\n",
            "[ 469/1000] train_loss: 0.08123 valid_loss: 0.08142\n",
            "[ 470/1000] train_loss: 0.08061 valid_loss: 0.08079\n",
            "[ 471/1000] train_loss: 0.07999 valid_loss: 0.08017\n",
            "[ 472/1000] train_loss: 0.07938 valid_loss: 0.07955\n",
            "[ 473/1000] train_loss: 0.07877 valid_loss: 0.07893\n",
            "[ 474/1000] train_loss: 0.07816 valid_loss: 0.07831\n",
            "[ 475/1000] train_loss: 0.07755 valid_loss: 0.07770\n",
            "[ 476/1000] train_loss: 0.07695 valid_loss: 0.07709\n",
            "[ 477/1000] train_loss: 0.07635 valid_loss: 0.07649\n",
            "[ 478/1000] train_loss: 0.07575 valid_loss: 0.07589\n",
            "[ 479/1000] train_loss: 0.07516 valid_loss: 0.07529\n",
            "[ 480/1000] train_loss: 0.07457 valid_loss: 0.07469\n",
            "[ 481/1000] train_loss: 0.07398 valid_loss: 0.07410\n",
            "[ 482/1000] train_loss: 0.07339 valid_loss: 0.07351\n",
            "[ 483/1000] train_loss: 0.07281 valid_loss: 0.07292\n",
            "[ 484/1000] train_loss: 0.07223 valid_loss: 0.07234\n",
            "[ 485/1000] train_loss: 0.07166 valid_loss: 0.07176\n",
            "[ 486/1000] train_loss: 0.07109 valid_loss: 0.07118\n",
            "[ 487/1000] train_loss: 0.07052 valid_loss: 0.07061\n",
            "[ 488/1000] train_loss: 0.06996 valid_loss: 0.07004\n",
            "[ 489/1000] train_loss: 0.06940 valid_loss: 0.06947\n",
            "[ 490/1000] train_loss: 0.06884 valid_loss: 0.06891\n",
            "[ 491/1000] train_loss: 0.06828 valid_loss: 0.06835\n",
            "[ 492/1000] train_loss: 0.06773 valid_loss: 0.06779\n",
            "[ 493/1000] train_loss: 0.06718 valid_loss: 0.06724\n",
            "[ 494/1000] train_loss: 0.06664 valid_loss: 0.06669\n",
            "[ 495/1000] train_loss: 0.06610 valid_loss: 0.06614\n",
            "[ 496/1000] train_loss: 0.06556 valid_loss: 0.06559\n",
            "[ 497/1000] train_loss: 0.06502 valid_loss: 0.06505\n",
            "[ 498/1000] train_loss: 0.06449 valid_loss: 0.06451\n",
            "[ 499/1000] train_loss: 0.06396 valid_loss: 0.06398\n",
            "[ 500/1000] train_loss: 0.06343 valid_loss: 0.06345\n",
            "[ 501/1000] train_loss: 0.06291 valid_loss: 0.06292\n",
            "[ 502/1000] train_loss: 0.06239 valid_loss: 0.06239\n",
            "[ 503/1000] train_loss: 0.06187 valid_loss: 0.06187\n",
            "[ 504/1000] train_loss: 0.06136 valid_loss: 0.06135\n",
            "[ 505/1000] train_loss: 0.06085 valid_loss: 0.06084\n",
            "[ 506/1000] train_loss: 0.06034 valid_loss: 0.06032\n",
            "[ 507/1000] train_loss: 0.05984 valid_loss: 0.05982\n",
            "[ 508/1000] train_loss: 0.05934 valid_loss: 0.05931\n",
            "[ 509/1000] train_loss: 0.05884 valid_loss: 0.05881\n",
            "[ 510/1000] train_loss: 0.05835 valid_loss: 0.05831\n",
            "[ 511/1000] train_loss: 0.05786 valid_loss: 0.05781\n",
            "[ 512/1000] train_loss: 0.05737 valid_loss: 0.05732\n",
            "[ 513/1000] train_loss: 0.05688 valid_loss: 0.05683\n",
            "[ 514/1000] train_loss: 0.05640 valid_loss: 0.05634\n",
            "[ 515/1000] train_loss: 0.05593 valid_loss: 0.05586\n",
            "[ 516/1000] train_loss: 0.05545 valid_loss: 0.05538\n",
            "[ 517/1000] train_loss: 0.05498 valid_loss: 0.05490\n",
            "[ 518/1000] train_loss: 0.05451 valid_loss: 0.05443\n",
            "[ 519/1000] train_loss: 0.05405 valid_loss: 0.05396\n",
            "[ 520/1000] train_loss: 0.05359 valid_loss: 0.05350\n",
            "[ 521/1000] train_loss: 0.05313 valid_loss: 0.05303\n",
            "[ 522/1000] train_loss: 0.05268 valid_loss: 0.05257\n",
            "[ 523/1000] train_loss: 0.05222 valid_loss: 0.05212\n",
            "[ 524/1000] train_loss: 0.05178 valid_loss: 0.05166\n",
            "[ 525/1000] train_loss: 0.05133 valid_loss: 0.05121\n",
            "[ 526/1000] train_loss: 0.05089 valid_loss: 0.05076\n",
            "[ 527/1000] train_loss: 0.05045 valid_loss: 0.05032\n",
            "[ 528/1000] train_loss: 0.05001 valid_loss: 0.04988\n",
            "[ 529/1000] train_loss: 0.04958 valid_loss: 0.04944\n",
            "[ 530/1000] train_loss: 0.04915 valid_loss: 0.04901\n",
            "[ 531/1000] train_loss: 0.04872 valid_loss: 0.04857\n",
            "[ 532/1000] train_loss: 0.04830 valid_loss: 0.04815\n",
            "[ 533/1000] train_loss: 0.04788 valid_loss: 0.04772\n",
            "[ 534/1000] train_loss: 0.04746 valid_loss: 0.04730\n",
            "[ 535/1000] train_loss: 0.04705 valid_loss: 0.04688\n",
            "[ 536/1000] train_loss: 0.04664 valid_loss: 0.04647\n",
            "[ 537/1000] train_loss: 0.04623 valid_loss: 0.04605\n",
            "[ 538/1000] train_loss: 0.04583 valid_loss: 0.04564\n",
            "[ 539/1000] train_loss: 0.04542 valid_loss: 0.04524\n",
            "[ 540/1000] train_loss: 0.04502 valid_loss: 0.04483\n",
            "[ 541/1000] train_loss: 0.04463 valid_loss: 0.04443\n",
            "[ 542/1000] train_loss: 0.04423 valid_loss: 0.04404\n",
            "[ 543/1000] train_loss: 0.04384 valid_loss: 0.04364\n",
            "[ 544/1000] train_loss: 0.04345 valid_loss: 0.04325\n",
            "[ 545/1000] train_loss: 0.04307 valid_loss: 0.04287\n",
            "[ 546/1000] train_loss: 0.04269 valid_loss: 0.04248\n",
            "[ 547/1000] train_loss: 0.04231 valid_loss: 0.04210\n",
            "[ 548/1000] train_loss: 0.04194 valid_loss: 0.04172\n",
            "[ 549/1000] train_loss: 0.04156 valid_loss: 0.04135\n",
            "[ 550/1000] train_loss: 0.04120 valid_loss: 0.04098\n",
            "[ 551/1000] train_loss: 0.04083 valid_loss: 0.04061\n",
            "[ 552/1000] train_loss: 0.04047 valid_loss: 0.04024\n",
            "[ 553/1000] train_loss: 0.04011 valid_loss: 0.03988\n",
            "[ 554/1000] train_loss: 0.03975 valid_loss: 0.03952\n",
            "[ 555/1000] train_loss: 0.03940 valid_loss: 0.03917\n",
            "[ 556/1000] train_loss: 0.03905 valid_loss: 0.03881\n",
            "[ 557/1000] train_loss: 0.03870 valid_loss: 0.03846\n",
            "[ 558/1000] train_loss: 0.03835 valid_loss: 0.03812\n",
            "[ 559/1000] train_loss: 0.03801 valid_loss: 0.03777\n",
            "[ 560/1000] train_loss: 0.03767 valid_loss: 0.03743\n",
            "[ 561/1000] train_loss: 0.03734 valid_loss: 0.03709\n",
            "[ 562/1000] train_loss: 0.03700 valid_loss: 0.03676\n",
            "[ 563/1000] train_loss: 0.03667 valid_loss: 0.03643\n",
            "[ 564/1000] train_loss: 0.03635 valid_loss: 0.03610\n",
            "[ 565/1000] train_loss: 0.03602 valid_loss: 0.03577\n",
            "[ 566/1000] train_loss: 0.03570 valid_loss: 0.03545\n",
            "[ 567/1000] train_loss: 0.03538 valid_loss: 0.03513\n",
            "[ 568/1000] train_loss: 0.03507 valid_loss: 0.03481\n",
            "[ 569/1000] train_loss: 0.03475 valid_loss: 0.03450\n",
            "[ 570/1000] train_loss: 0.03444 valid_loss: 0.03419\n",
            "[ 571/1000] train_loss: 0.03414 valid_loss: 0.03388\n",
            "[ 572/1000] train_loss: 0.03383 valid_loss: 0.03357\n",
            "[ 573/1000] train_loss: 0.03353 valid_loss: 0.03327\n",
            "[ 574/1000] train_loss: 0.03323 valid_loss: 0.03297\n",
            "[ 575/1000] train_loss: 0.03294 valid_loss: 0.03267\n",
            "[ 576/1000] train_loss: 0.03264 valid_loss: 0.03238\n",
            "[ 577/1000] train_loss: 0.03235 valid_loss: 0.03209\n",
            "[ 578/1000] train_loss: 0.03206 valid_loss: 0.03180\n",
            "[ 579/1000] train_loss: 0.03178 valid_loss: 0.03151\n",
            "[ 580/1000] train_loss: 0.03150 valid_loss: 0.03123\n",
            "[ 581/1000] train_loss: 0.03122 valid_loss: 0.03095\n",
            "[ 582/1000] train_loss: 0.03094 valid_loss: 0.03067\n",
            "[ 583/1000] train_loss: 0.03066 valid_loss: 0.03039\n",
            "[ 584/1000] train_loss: 0.03039 valid_loss: 0.03012\n",
            "[ 585/1000] train_loss: 0.03012 valid_loss: 0.02985\n",
            "[ 586/1000] train_loss: 0.02985 valid_loss: 0.02958\n",
            "[ 587/1000] train_loss: 0.02959 valid_loss: 0.02931\n",
            "[ 588/1000] train_loss: 0.02932 valid_loss: 0.02905\n",
            "[ 589/1000] train_loss: 0.02906 valid_loss: 0.02879\n",
            "[ 590/1000] train_loss: 0.02880 valid_loss: 0.02853\n",
            "[ 591/1000] train_loss: 0.02855 valid_loss: 0.02827\n",
            "[ 592/1000] train_loss: 0.02830 valid_loss: 0.02802\n",
            "[ 593/1000] train_loss: 0.02804 valid_loss: 0.02777\n",
            "[ 594/1000] train_loss: 0.02780 valid_loss: 0.02752\n",
            "[ 595/1000] train_loss: 0.02755 valid_loss: 0.02727\n",
            "[ 596/1000] train_loss: 0.02730 valid_loss: 0.02703\n",
            "[ 597/1000] train_loss: 0.02706 valid_loss: 0.02679\n",
            "[ 598/1000] train_loss: 0.02682 valid_loss: 0.02655\n",
            "[ 599/1000] train_loss: 0.02658 valid_loss: 0.02631\n",
            "[ 600/1000] train_loss: 0.02635 valid_loss: 0.02607\n",
            "[ 601/1000] train_loss: 0.02611 valid_loss: 0.02584\n",
            "[ 602/1000] train_loss: 0.02588 valid_loss: 0.02561\n",
            "[ 603/1000] train_loss: 0.02565 valid_loss: 0.02538\n",
            "[ 604/1000] train_loss: 0.02542 valid_loss: 0.02515\n",
            "[ 605/1000] train_loss: 0.02520 valid_loss: 0.02493\n",
            "[ 606/1000] train_loss: 0.02497 valid_loss: 0.02471\n",
            "[ 607/1000] train_loss: 0.02475 valid_loss: 0.02449\n",
            "[ 608/1000] train_loss: 0.02453 valid_loss: 0.02427\n",
            "[ 609/1000] train_loss: 0.02432 valid_loss: 0.02405\n",
            "[ 610/1000] train_loss: 0.02410 valid_loss: 0.02384\n",
            "[ 611/1000] train_loss: 0.02389 valid_loss: 0.02363\n",
            "[ 612/1000] train_loss: 0.02368 valid_loss: 0.02342\n",
            "[ 613/1000] train_loss: 0.02347 valid_loss: 0.02321\n",
            "[ 614/1000] train_loss: 0.02326 valid_loss: 0.02300\n",
            "[ 615/1000] train_loss: 0.02305 valid_loss: 0.02280\n",
            "[ 616/1000] train_loss: 0.02285 valid_loss: 0.02259\n",
            "[ 617/1000] train_loss: 0.02265 valid_loss: 0.02239\n",
            "[ 618/1000] train_loss: 0.02244 valid_loss: 0.02219\n",
            "[ 619/1000] train_loss: 0.02224 valid_loss: 0.02199\n",
            "[ 620/1000] train_loss: 0.02205 valid_loss: 0.02180\n",
            "[ 621/1000] train_loss: 0.02185 valid_loss: 0.02160\n",
            "[ 622/1000] train_loss: 0.02166 valid_loss: 0.02141\n",
            "[ 623/1000] train_loss: 0.02146 valid_loss: 0.02122\n",
            "[ 624/1000] train_loss: 0.02127 valid_loss: 0.02103\n",
            "[ 625/1000] train_loss: 0.02108 valid_loss: 0.02084\n",
            "[ 626/1000] train_loss: 0.02089 valid_loss: 0.02066\n",
            "[ 627/1000] train_loss: 0.02071 valid_loss: 0.02047\n",
            "[ 628/1000] train_loss: 0.02052 valid_loss: 0.02029\n",
            "[ 629/1000] train_loss: 0.02034 valid_loss: 0.02011\n",
            "[ 630/1000] train_loss: 0.02016 valid_loss: 0.01993\n",
            "[ 631/1000] train_loss: 0.01998 valid_loss: 0.01975\n",
            "[ 632/1000] train_loss: 0.01980 valid_loss: 0.01957\n",
            "[ 633/1000] train_loss: 0.01962 valid_loss: 0.01940\n",
            "[ 634/1000] train_loss: 0.01945 valid_loss: 0.01922\n",
            "[ 635/1000] train_loss: 0.01927 valid_loss: 0.01905\n",
            "[ 636/1000] train_loss: 0.01910 valid_loss: 0.01888\n",
            "[ 637/1000] train_loss: 0.01893 valid_loss: 0.01871\n",
            "[ 638/1000] train_loss: 0.01876 valid_loss: 0.01854\n",
            "[ 639/1000] train_loss: 0.01859 valid_loss: 0.01837\n",
            "[ 640/1000] train_loss: 0.01843 valid_loss: 0.01821\n",
            "[ 641/1000] train_loss: 0.01826 valid_loss: 0.01804\n",
            "[ 642/1000] train_loss: 0.01810 valid_loss: 0.01788\n",
            "[ 643/1000] train_loss: 0.01793 valid_loss: 0.01772\n",
            "[ 644/1000] train_loss: 0.01777 valid_loss: 0.01756\n",
            "[ 645/1000] train_loss: 0.01761 valid_loss: 0.01740\n",
            "[ 646/1000] train_loss: 0.01745 valid_loss: 0.01724\n",
            "[ 647/1000] train_loss: 0.01729 valid_loss: 0.01708\n",
            "[ 648/1000] train_loss: 0.01714 valid_loss: 0.01692\n",
            "[ 649/1000] train_loss: 0.01698 valid_loss: 0.01677\n",
            "[ 650/1000] train_loss: 0.01683 valid_loss: 0.01661\n",
            "[ 651/1000] train_loss: 0.01667 valid_loss: 0.01646\n",
            "[ 652/1000] train_loss: 0.01652 valid_loss: 0.01631\n",
            "[ 653/1000] train_loss: 0.01637 valid_loss: 0.01616\n",
            "[ 654/1000] train_loss: 0.01622 valid_loss: 0.01601\n",
            "[ 655/1000] train_loss: 0.01607 valid_loss: 0.01586\n",
            "[ 656/1000] train_loss: 0.01593 valid_loss: 0.01571\n",
            "[ 657/1000] train_loss: 0.01578 valid_loss: 0.01557\n",
            "[ 658/1000] train_loss: 0.01563 valid_loss: 0.01542\n",
            "[ 659/1000] train_loss: 0.01549 valid_loss: 0.01528\n",
            "[ 660/1000] train_loss: 0.01535 valid_loss: 0.01514\n",
            "[ 661/1000] train_loss: 0.01521 valid_loss: 0.01499\n",
            "[ 662/1000] train_loss: 0.01507 valid_loss: 0.01485\n",
            "[ 663/1000] train_loss: 0.01493 valid_loss: 0.01471\n",
            "[ 664/1000] train_loss: 0.01479 valid_loss: 0.01458\n",
            "[ 665/1000] train_loss: 0.01465 valid_loss: 0.01444\n",
            "[ 666/1000] train_loss: 0.01451 valid_loss: 0.01430\n",
            "[ 667/1000] train_loss: 0.01437 valid_loss: 0.01417\n",
            "[ 668/1000] train_loss: 0.01424 valid_loss: 0.01403\n",
            "[ 669/1000] train_loss: 0.01410 valid_loss: 0.01390\n",
            "[ 670/1000] train_loss: 0.01397 valid_loss: 0.01376\n",
            "[ 671/1000] train_loss: 0.01384 valid_loss: 0.01363\n",
            "[ 672/1000] train_loss: 0.01371 valid_loss: 0.01350\n",
            "[ 673/1000] train_loss: 0.01357 valid_loss: 0.01337\n",
            "[ 674/1000] train_loss: 0.01344 valid_loss: 0.01324\n",
            "[ 675/1000] train_loss: 0.01331 valid_loss: 0.01312\n",
            "[ 676/1000] train_loss: 0.01319 valid_loss: 0.01299\n",
            "[ 677/1000] train_loss: 0.01306 valid_loss: 0.01286\n",
            "[ 678/1000] train_loss: 0.01293 valid_loss: 0.01274\n",
            "[ 679/1000] train_loss: 0.01280 valid_loss: 0.01261\n",
            "[ 680/1000] train_loss: 0.01268 valid_loss: 0.01249\n",
            "[ 681/1000] train_loss: 0.01255 valid_loss: 0.01237\n",
            "[ 682/1000] train_loss: 0.01243 valid_loss: 0.01224\n",
            "[ 683/1000] train_loss: 0.01231 valid_loss: 0.01212\n",
            "[ 684/1000] train_loss: 0.01219 valid_loss: 0.01200\n",
            "[ 685/1000] train_loss: 0.01206 valid_loss: 0.01189\n",
            "[ 686/1000] train_loss: 0.01194 valid_loss: 0.01177\n",
            "[ 687/1000] train_loss: 0.01183 valid_loss: 0.01165\n",
            "[ 688/1000] train_loss: 0.01171 valid_loss: 0.01153\n",
            "[ 689/1000] train_loss: 0.01159 valid_loss: 0.01142\n",
            "[ 690/1000] train_loss: 0.01147 valid_loss: 0.01131\n",
            "[ 691/1000] train_loss: 0.01136 valid_loss: 0.01119\n",
            "[ 692/1000] train_loss: 0.01124 valid_loss: 0.01108\n",
            "[ 693/1000] train_loss: 0.01113 valid_loss: 0.01097\n",
            "[ 694/1000] train_loss: 0.01102 valid_loss: 0.01086\n",
            "[ 695/1000] train_loss: 0.01090 valid_loss: 0.01074\n",
            "[ 696/1000] train_loss: 0.01079 valid_loss: 0.01063\n",
            "[ 697/1000] train_loss: 0.01068 valid_loss: 0.01053\n",
            "[ 698/1000] train_loss: 0.01057 valid_loss: 0.01042\n",
            "[ 699/1000] train_loss: 0.01046 valid_loss: 0.01031\n",
            "[ 700/1000] train_loss: 0.01035 valid_loss: 0.01020\n",
            "[ 701/1000] train_loss: 0.01024 valid_loss: 0.01009\n",
            "[ 702/1000] train_loss: 0.01014 valid_loss: 0.00999\n",
            "[ 703/1000] train_loss: 0.01003 valid_loss: 0.00988\n",
            "[ 704/1000] train_loss: 0.00992 valid_loss: 0.00978\n",
            "[ 705/1000] train_loss: 0.00982 valid_loss: 0.00967\n",
            "[ 706/1000] train_loss: 0.00972 valid_loss: 0.00957\n",
            "[ 707/1000] train_loss: 0.00961 valid_loss: 0.00947\n",
            "[ 708/1000] train_loss: 0.00951 valid_loss: 0.00937\n",
            "[ 709/1000] train_loss: 0.00941 valid_loss: 0.00927\n",
            "[ 710/1000] train_loss: 0.00931 valid_loss: 0.00917\n",
            "[ 711/1000] train_loss: 0.00921 valid_loss: 0.00907\n",
            "[ 712/1000] train_loss: 0.00911 valid_loss: 0.00897\n",
            "[ 713/1000] train_loss: 0.00901 valid_loss: 0.00887\n",
            "[ 714/1000] train_loss: 0.00891 valid_loss: 0.00878\n",
            "[ 715/1000] train_loss: 0.00881 valid_loss: 0.00868\n",
            "[ 716/1000] train_loss: 0.00871 valid_loss: 0.00858\n",
            "[ 717/1000] train_loss: 0.00862 valid_loss: 0.00849\n",
            "[ 718/1000] train_loss: 0.00852 valid_loss: 0.00839\n",
            "[ 719/1000] train_loss: 0.00843 valid_loss: 0.00830\n",
            "[ 720/1000] train_loss: 0.00833 valid_loss: 0.00821\n",
            "[ 721/1000] train_loss: 0.00824 valid_loss: 0.00812\n",
            "[ 722/1000] train_loss: 0.00815 valid_loss: 0.00802\n",
            "[ 723/1000] train_loss: 0.00806 valid_loss: 0.00793\n",
            "[ 724/1000] train_loss: 0.00796 valid_loss: 0.00784\n",
            "[ 725/1000] train_loss: 0.00787 valid_loss: 0.00775\n",
            "[ 726/1000] train_loss: 0.00778 valid_loss: 0.00766\n",
            "[ 727/1000] train_loss: 0.00769 valid_loss: 0.00758\n",
            "[ 728/1000] train_loss: 0.00760 valid_loss: 0.00749\n",
            "[ 729/1000] train_loss: 0.00752 valid_loss: 0.00740\n",
            "[ 730/1000] train_loss: 0.00743 valid_loss: 0.00732\n",
            "[ 731/1000] train_loss: 0.00734 valid_loss: 0.00723\n",
            "[ 732/1000] train_loss: 0.00726 valid_loss: 0.00714\n",
            "[ 733/1000] train_loss: 0.00717 valid_loss: 0.00706\n",
            "[ 734/1000] train_loss: 0.00708 valid_loss: 0.00698\n",
            "[ 735/1000] train_loss: 0.00700 valid_loss: 0.00689\n",
            "[ 736/1000] train_loss: 0.00692 valid_loss: 0.00681\n",
            "[ 737/1000] train_loss: 0.00683 valid_loss: 0.00673\n",
            "[ 738/1000] train_loss: 0.00675 valid_loss: 0.00665\n",
            "[ 739/1000] train_loss: 0.00667 valid_loss: 0.00657\n",
            "[ 740/1000] train_loss: 0.00659 valid_loss: 0.00649\n",
            "[ 741/1000] train_loss: 0.00651 valid_loss: 0.00641\n",
            "[ 742/1000] train_loss: 0.00643 valid_loss: 0.00633\n",
            "[ 743/1000] train_loss: 0.00635 valid_loss: 0.00625\n",
            "[ 744/1000] train_loss: 0.00627 valid_loss: 0.00618\n",
            "[ 745/1000] train_loss: 0.00619 valid_loss: 0.00610\n",
            "[ 746/1000] train_loss: 0.00612 valid_loss: 0.00602\n",
            "[ 747/1000] train_loss: 0.00604 valid_loss: 0.00595\n",
            "[ 748/1000] train_loss: 0.00596 valid_loss: 0.00587\n",
            "[ 749/1000] train_loss: 0.00589 valid_loss: 0.00580\n",
            "[ 750/1000] train_loss: 0.00582 valid_loss: 0.00573\n",
            "[ 751/1000] train_loss: 0.00574 valid_loss: 0.00565\n",
            "[ 752/1000] train_loss: 0.00567 valid_loss: 0.00558\n",
            "[ 753/1000] train_loss: 0.00560 valid_loss: 0.00551\n",
            "[ 754/1000] train_loss: 0.00552 valid_loss: 0.00544\n",
            "[ 755/1000] train_loss: 0.00545 valid_loss: 0.00536\n",
            "[ 756/1000] train_loss: 0.00538 valid_loss: 0.00529\n",
            "[ 757/1000] train_loss: 0.00531 valid_loss: 0.00522\n",
            "[ 758/1000] train_loss: 0.00524 valid_loss: 0.00516\n",
            "[ 759/1000] train_loss: 0.00517 valid_loss: 0.00509\n",
            "[ 760/1000] train_loss: 0.00510 valid_loss: 0.00502\n",
            "[ 761/1000] train_loss: 0.00504 valid_loss: 0.00495\n",
            "[ 762/1000] train_loss: 0.00497 valid_loss: 0.00489\n",
            "[ 763/1000] train_loss: 0.00490 valid_loss: 0.00482\n",
            "[ 764/1000] train_loss: 0.00484 valid_loss: 0.00475\n",
            "[ 765/1000] train_loss: 0.00477 valid_loss: 0.00469\n",
            "[ 766/1000] train_loss: 0.00471 valid_loss: 0.00462\n",
            "[ 767/1000] train_loss: 0.00464 valid_loss: 0.00456\n",
            "[ 768/1000] train_loss: 0.00458 valid_loss: 0.00450\n",
            "[ 769/1000] train_loss: 0.00451 valid_loss: 0.00443\n",
            "[ 770/1000] train_loss: 0.00445 valid_loss: 0.00437\n",
            "[ 771/1000] train_loss: 0.00439 valid_loss: 0.00431\n",
            "[ 772/1000] train_loss: 0.00433 valid_loss: 0.00425\n",
            "[ 773/1000] train_loss: 0.00427 valid_loss: 0.00419\n",
            "[ 774/1000] train_loss: 0.00421 valid_loss: 0.00413\n",
            "[ 775/1000] train_loss: 0.00415 valid_loss: 0.00407\n",
            "[ 776/1000] train_loss: 0.00409 valid_loss: 0.00401\n",
            "[ 777/1000] train_loss: 0.00403 valid_loss: 0.00396\n",
            "[ 778/1000] train_loss: 0.00397 valid_loss: 0.00390\n",
            "[ 779/1000] train_loss: 0.00391 valid_loss: 0.00384\n",
            "[ 780/1000] train_loss: 0.00386 valid_loss: 0.00379\n",
            "[ 781/1000] train_loss: 0.00380 valid_loss: 0.00373\n",
            "[ 782/1000] train_loss: 0.00375 valid_loss: 0.00367\n",
            "[ 783/1000] train_loss: 0.00369 valid_loss: 0.00362\n",
            "[ 784/1000] train_loss: 0.00364 valid_loss: 0.00357\n",
            "[ 785/1000] train_loss: 0.00358 valid_loss: 0.00351\n",
            "[ 786/1000] train_loss: 0.00353 valid_loss: 0.00346\n",
            "[ 787/1000] train_loss: 0.00347 valid_loss: 0.00341\n",
            "[ 788/1000] train_loss: 0.00342 valid_loss: 0.00335\n",
            "[ 789/1000] train_loss: 0.00337 valid_loss: 0.00330\n",
            "[ 790/1000] train_loss: 0.00332 valid_loss: 0.00325\n",
            "[ 791/1000] train_loss: 0.00327 valid_loss: 0.00320\n",
            "[ 792/1000] train_loss: 0.00322 valid_loss: 0.00315\n",
            "[ 793/1000] train_loss: 0.00317 valid_loss: 0.00310\n",
            "[ 794/1000] train_loss: 0.00312 valid_loss: 0.00306\n",
            "[ 795/1000] train_loss: 0.00307 valid_loss: 0.00301\n",
            "[ 796/1000] train_loss: 0.00302 valid_loss: 0.00296\n",
            "[ 797/1000] train_loss: 0.00297 valid_loss: 0.00291\n",
            "[ 798/1000] train_loss: 0.00293 valid_loss: 0.00287\n",
            "[ 799/1000] train_loss: 0.00288 valid_loss: 0.00282\n",
            "[ 800/1000] train_loss: 0.00283 valid_loss: 0.00277\n",
            "[ 801/1000] train_loss: 0.00279 valid_loss: 0.00273\n",
            "[ 802/1000] train_loss: 0.00274 valid_loss: 0.00269\n",
            "[ 803/1000] train_loss: 0.00270 valid_loss: 0.00264\n",
            "[ 804/1000] train_loss: 0.00265 valid_loss: 0.00260\n",
            "[ 805/1000] train_loss: 0.00261 valid_loss: 0.00256\n",
            "[ 806/1000] train_loss: 0.00256 valid_loss: 0.00251\n",
            "[ 807/1000] train_loss: 0.00252 valid_loss: 0.00247\n",
            "[ 808/1000] train_loss: 0.00248 valid_loss: 0.00243\n",
            "[ 809/1000] train_loss: 0.00244 valid_loss: 0.00239\n",
            "[ 810/1000] train_loss: 0.00240 valid_loss: 0.00235\n",
            "[ 811/1000] train_loss: 0.00236 valid_loss: 0.00231\n",
            "[ 812/1000] train_loss: 0.00232 valid_loss: 0.00227\n",
            "[ 813/1000] train_loss: 0.00228 valid_loss: 0.00223\n",
            "[ 814/1000] train_loss: 0.00224 valid_loss: 0.00219\n",
            "[ 815/1000] train_loss: 0.00220 valid_loss: 0.00215\n",
            "[ 816/1000] train_loss: 0.00216 valid_loss: 0.00212\n",
            "[ 817/1000] train_loss: 0.00212 valid_loss: 0.00208\n",
            "[ 818/1000] train_loss: 0.00209 valid_loss: 0.00204\n",
            "[ 819/1000] train_loss: 0.00205 valid_loss: 0.00201\n",
            "[ 820/1000] train_loss: 0.00201 valid_loss: 0.00197\n",
            "[ 821/1000] train_loss: 0.00198 valid_loss: 0.00194\n",
            "[ 822/1000] train_loss: 0.00194 valid_loss: 0.00190\n",
            "[ 823/1000] train_loss: 0.00191 valid_loss: 0.00187\n",
            "[ 824/1000] train_loss: 0.00187 valid_loss: 0.00184\n",
            "[ 825/1000] train_loss: 0.00184 valid_loss: 0.00180\n",
            "[ 826/1000] train_loss: 0.00181 valid_loss: 0.00177\n",
            "[ 827/1000] train_loss: 0.00177 valid_loss: 0.00174\n",
            "[ 828/1000] train_loss: 0.00174 valid_loss: 0.00171\n",
            "[ 829/1000] train_loss: 0.00171 valid_loss: 0.00167\n",
            "[ 830/1000] train_loss: 0.00168 valid_loss: 0.00164\n",
            "[ 831/1000] train_loss: 0.00165 valid_loss: 0.00161\n",
            "[ 832/1000] train_loss: 0.00161 valid_loss: 0.00158\n",
            "[ 833/1000] train_loss: 0.00158 valid_loss: 0.00155\n",
            "[ 834/1000] train_loss: 0.00156 valid_loss: 0.00152\n",
            "[ 835/1000] train_loss: 0.00153 valid_loss: 0.00150\n",
            "[ 836/1000] train_loss: 0.00150 valid_loss: 0.00147\n",
            "[ 837/1000] train_loss: 0.00147 valid_loss: 0.00144\n",
            "[ 838/1000] train_loss: 0.00144 valid_loss: 0.00141\n",
            "[ 839/1000] train_loss: 0.00141 valid_loss: 0.00139\n",
            "[ 840/1000] train_loss: 0.00139 valid_loss: 0.00136\n",
            "[ 841/1000] train_loss: 0.00136 valid_loss: 0.00133\n",
            "[ 842/1000] train_loss: 0.00133 valid_loss: 0.00131\n",
            "[ 843/1000] train_loss: 0.00131 valid_loss: 0.00128\n",
            "[ 844/1000] train_loss: 0.00128 valid_loss: 0.00126\n",
            "[ 845/1000] train_loss: 0.00126 valid_loss: 0.00123\n",
            "[ 846/1000] train_loss: 0.00123 valid_loss: 0.00121\n",
            "[ 847/1000] train_loss: 0.00121 valid_loss: 0.00119\n",
            "[ 848/1000] train_loss: 0.00119 valid_loss: 0.00116\n",
            "[ 849/1000] train_loss: 0.00116 valid_loss: 0.00114\n",
            "[ 850/1000] train_loss: 0.00114 valid_loss: 0.00112\n",
            "[ 851/1000] train_loss: 0.00112 valid_loss: 0.00109\n",
            "[ 852/1000] train_loss: 0.00110 valid_loss: 0.00107\n",
            "[ 853/1000] train_loss: 0.00107 valid_loss: 0.00105\n",
            "[ 854/1000] train_loss: 0.00105 valid_loss: 0.00103\n",
            "[ 855/1000] train_loss: 0.00103 valid_loss: 0.00101\n",
            "[ 856/1000] train_loss: 0.00101 valid_loss: 0.00099\n",
            "[ 857/1000] train_loss: 0.00099 valid_loss: 0.00097\n",
            "[ 858/1000] train_loss: 0.00097 valid_loss: 0.00095\n",
            "[ 859/1000] train_loss: 0.00095 valid_loss: 0.00093\n",
            "[ 860/1000] train_loss: 0.00093 valid_loss: 0.00091\n",
            "[ 861/1000] train_loss: 0.00091 valid_loss: 0.00090\n",
            "[ 862/1000] train_loss: 0.00090 valid_loss: 0.00088\n",
            "[ 863/1000] train_loss: 0.00088 valid_loss: 0.00086\n",
            "[ 864/1000] train_loss: 0.00086 valid_loss: 0.00084\n",
            "[ 865/1000] train_loss: 0.00084 valid_loss: 0.00083\n",
            "[ 866/1000] train_loss: 0.00083 valid_loss: 0.00081\n",
            "[ 867/1000] train_loss: 0.00081 valid_loss: 0.00079\n",
            "[ 868/1000] train_loss: 0.00079 valid_loss: 0.00078\n",
            "[ 869/1000] train_loss: 0.00078 valid_loss: 0.00076\n",
            "[ 870/1000] train_loss: 0.00076 valid_loss: 0.00075\n",
            "[ 871/1000] train_loss: 0.00075 valid_loss: 0.00073\n",
            "[ 872/1000] train_loss: 0.00073 valid_loss: 0.00072\n",
            "[ 873/1000] train_loss: 0.00072 valid_loss: 0.00070\n",
            "[ 874/1000] train_loss: 0.00070 valid_loss: 0.00069\n",
            "[ 875/1000] train_loss: 0.00069 valid_loss: 0.00067\n",
            "[ 876/1000] train_loss: 0.00067 valid_loss: 0.00066\n",
            "[ 877/1000] train_loss: 0.00066 valid_loss: 0.00065\n",
            "[ 878/1000] train_loss: 0.00065 valid_loss: 0.00063\n",
            "[ 879/1000] train_loss: 0.00063 valid_loss: 0.00062\n",
            "[ 880/1000] train_loss: 0.00062 valid_loss: 0.00061\n",
            "[ 881/1000] train_loss: 0.00061 valid_loss: 0.00060\n",
            "[ 882/1000] train_loss: 0.00060 valid_loss: 0.00058\n",
            "[ 883/1000] train_loss: 0.00058 valid_loss: 0.00057\n",
            "[ 884/1000] train_loss: 0.00057 valid_loss: 0.00056\n",
            "[ 885/1000] train_loss: 0.00056 valid_loss: 0.00055\n",
            "[ 886/1000] train_loss: 0.00055 valid_loss: 0.00054\n",
            "[ 887/1000] train_loss: 0.00054 valid_loss: 0.00053\n",
            "[ 888/1000] train_loss: 0.00053 valid_loss: 0.00052\n",
            "[ 889/1000] train_loss: 0.00052 valid_loss: 0.00051\n",
            "[ 890/1000] train_loss: 0.00051 valid_loss: 0.00050\n",
            "[ 891/1000] train_loss: 0.00050 valid_loss: 0.00049\n",
            "[ 892/1000] train_loss: 0.00049 valid_loss: 0.00048\n",
            "[ 893/1000] train_loss: 0.00048 valid_loss: 0.00047\n",
            "[ 894/1000] train_loss: 0.00047 valid_loss: 0.00046\n",
            "[ 895/1000] train_loss: 0.00046 valid_loss: 0.00045\n",
            "[ 896/1000] train_loss: 0.00045 valid_loss: 0.00044\n",
            "[ 897/1000] train_loss: 0.00044 valid_loss: 0.00043\n",
            "[ 898/1000] train_loss: 0.00043 valid_loss: 0.00043\n",
            "[ 899/1000] train_loss: 0.00043 valid_loss: 0.00042\n",
            "[ 900/1000] train_loss: 0.00042 valid_loss: 0.00041\n",
            "[ 901/1000] train_loss: 0.00041 valid_loss: 0.00040\n",
            "[ 902/1000] train_loss: 0.00040 valid_loss: 0.00039\n",
            "[ 903/1000] train_loss: 0.00040 valid_loss: 0.00039\n",
            "[ 904/1000] train_loss: 0.00039 valid_loss: 0.00038\n",
            "[ 905/1000] train_loss: 0.00038 valid_loss: 0.00037\n",
            "[ 906/1000] train_loss: 0.00037 valid_loss: 0.00037\n",
            "[ 907/1000] train_loss: 0.00037 valid_loss: 0.00036\n",
            "[ 908/1000] train_loss: 0.00036 valid_loss: 0.00035\n",
            "[ 909/1000] train_loss: 0.00035 valid_loss: 0.00035\n",
            "[ 910/1000] train_loss: 0.00035 valid_loss: 0.00034\n",
            "[ 911/1000] train_loss: 0.00034 valid_loss: 0.00034\n",
            "[ 912/1000] train_loss: 0.00034 valid_loss: 0.00033\n",
            "[ 913/1000] train_loss: 0.00033 valid_loss: 0.00032\n",
            "[ 914/1000] train_loss: 0.00032 valid_loss: 0.00032\n",
            "[ 915/1000] train_loss: 0.00032 valid_loss: 0.00031\n",
            "[ 916/1000] train_loss: 0.00031 valid_loss: 0.00031\n",
            "[ 917/1000] train_loss: 0.00031 valid_loss: 0.00030\n",
            "[ 918/1000] train_loss: 0.00030 valid_loss: 0.00030\n",
            "[ 919/1000] train_loss: 0.00030 valid_loss: 0.00029\n",
            "[ 920/1000] train_loss: 0.00029 valid_loss: 0.00029\n",
            "[ 921/1000] train_loss: 0.00029 valid_loss: 0.00028\n",
            "[ 922/1000] train_loss: 0.00028 valid_loss: 0.00028\n",
            "[ 923/1000] train_loss: 0.00028 valid_loss: 0.00027\n",
            "[ 924/1000] train_loss: 0.00028 valid_loss: 0.00027\n",
            "[ 925/1000] train_loss: 0.00027 valid_loss: 0.00027\n",
            "[ 926/1000] train_loss: 0.00027 valid_loss: 0.00026\n",
            "[ 927/1000] train_loss: 0.00026 valid_loss: 0.00026\n",
            "[ 928/1000] train_loss: 0.00026 valid_loss: 0.00025\n",
            "[ 929/1000] train_loss: 0.00025 valid_loss: 0.00025\n",
            "[ 930/1000] train_loss: 0.00025 valid_loss: 0.00025\n",
            "[ 931/1000] train_loss: 0.00025 valid_loss: 0.00024\n",
            "[ 932/1000] train_loss: 0.00024 valid_loss: 0.00024\n",
            "[ 933/1000] train_loss: 0.00024 valid_loss: 0.00024\n",
            "[ 934/1000] train_loss: 0.00024 valid_loss: 0.00023\n",
            "[ 935/1000] train_loss: 0.00023 valid_loss: 0.00023\n",
            "[ 936/1000] train_loss: 0.00023 valid_loss: 0.00023\n",
            "[ 937/1000] train_loss: 0.00023 valid_loss: 0.00022\n",
            "[ 938/1000] train_loss: 0.00022 valid_loss: 0.00022\n",
            "[ 939/1000] train_loss: 0.00022 valid_loss: 0.00022\n",
            "[ 940/1000] train_loss: 0.00022 valid_loss: 0.00021\n",
            "[ 941/1000] train_loss: 0.00021 valid_loss: 0.00021\n",
            "[ 942/1000] train_loss: 0.00021 valid_loss: 0.00021\n",
            "[ 943/1000] train_loss: 0.00021 valid_loss: 0.00020\n",
            "[ 944/1000] train_loss: 0.00021 valid_loss: 0.00020\n",
            "[ 945/1000] train_loss: 0.00020 valid_loss: 0.00020\n",
            "[ 946/1000] train_loss: 0.00020 valid_loss: 0.00020\n",
            "[ 947/1000] train_loss: 0.00020 valid_loss: 0.00019\n",
            "[ 948/1000] train_loss: 0.00020 valid_loss: 0.00019\n",
            "[ 949/1000] train_loss: 0.00019 valid_loss: 0.00019\n",
            "[ 950/1000] train_loss: 0.00019 valid_loss: 0.00019\n",
            "[ 951/1000] train_loss: 0.00019 valid_loss: 0.00018\n",
            "[ 952/1000] train_loss: 0.00019 valid_loss: 0.00018\n",
            "[ 953/1000] train_loss: 0.00018 valid_loss: 0.00018\n",
            "[ 954/1000] train_loss: 0.00018 valid_loss: 0.00018\n",
            "[ 955/1000] train_loss: 0.00018 valid_loss: 0.00017\n",
            "[ 956/1000] train_loss: 0.00018 valid_loss: 0.00017\n",
            "[ 957/1000] train_loss: 0.00017 valid_loss: 0.00017\n",
            "[ 958/1000] train_loss: 0.00017 valid_loss: 0.00017\n",
            "[ 959/1000] train_loss: 0.00017 valid_loss: 0.00017\n",
            "[ 960/1000] train_loss: 0.00017 valid_loss: 0.00016\n",
            "[ 961/1000] train_loss: 0.00017 valid_loss: 0.00016\n",
            "[ 962/1000] train_loss: 0.00016 valid_loss: 0.00016\n",
            "[ 963/1000] train_loss: 0.00016 valid_loss: 0.00016\n",
            "[ 964/1000] train_loss: 0.00016 valid_loss: 0.00016\n",
            "[ 965/1000] train_loss: 0.00016 valid_loss: 0.00015\n",
            "[ 966/1000] train_loss: 0.00015 valid_loss: 0.00015\n",
            "[ 967/1000] train_loss: 0.00015 valid_loss: 0.00015\n",
            "[ 968/1000] train_loss: 0.00015 valid_loss: 0.00015\n",
            "[ 969/1000] train_loss: 0.00015 valid_loss: 0.00015\n",
            "[ 970/1000] train_loss: 0.00015 valid_loss: 0.00014\n",
            "[ 971/1000] train_loss: 0.00015 valid_loss: 0.00014\n",
            "[ 972/1000] train_loss: 0.00014 valid_loss: 0.00014\n",
            "[ 973/1000] train_loss: 0.00014 valid_loss: 0.00014\n",
            "[ 974/1000] train_loss: 0.00014 valid_loss: 0.00014\n",
            "[ 975/1000] train_loss: 0.00014 valid_loss: 0.00013\n",
            "[ 976/1000] train_loss: 0.00014 valid_loss: 0.00013\n",
            "[ 977/1000] train_loss: 0.00014 valid_loss: 0.00013\n",
            "[ 978/1000] train_loss: 0.00013 valid_loss: 0.00013\n",
            "[ 979/1000] train_loss: 0.00013 valid_loss: 0.00013\n",
            "[ 980/1000] train_loss: 0.00013 valid_loss: 0.00013\n",
            "[ 981/1000] train_loss: 0.00013 valid_loss: 0.00012\n",
            "[ 982/1000] train_loss: 0.00013 valid_loss: 0.00012\n",
            "[ 983/1000] train_loss: 0.00013 valid_loss: 0.00012\n",
            "[ 984/1000] train_loss: 0.00012 valid_loss: 0.00012\n",
            "[ 985/1000] train_loss: 0.00012 valid_loss: 0.00012\n",
            "[ 986/1000] train_loss: 0.00012 valid_loss: 0.00012\n",
            "[ 987/1000] train_loss: 0.00012 valid_loss: 0.00012\n",
            "[ 988/1000] train_loss: 0.00012 valid_loss: 0.00011\n",
            "[ 989/1000] train_loss: 0.00012 valid_loss: 0.00011\n",
            "[ 990/1000] train_loss: 0.00011 valid_loss: 0.00011\n",
            "[ 991/1000] train_loss: 0.00011 valid_loss: 0.00011\n",
            "[ 992/1000] train_loss: 0.00011 valid_loss: 0.00011\n",
            "[ 993/1000] train_loss: 0.00011 valid_loss: 0.00011\n",
            "[ 994/1000] train_loss: 0.00011 valid_loss: 0.00011\n",
            "[ 995/1000] train_loss: 0.00011 valid_loss: 0.00010\n",
            "[ 996/1000] train_loss: 0.00011 valid_loss: 0.00010\n",
            "[ 997/1000] train_loss: 0.00010 valid_loss: 0.00010\n",
            "[ 998/1000] train_loss: 0.00010 valid_loss: 0.00010\n",
            "[ 999/1000] train_loss: 0.00010 valid_loss: 0.00010\n"
          ]
        }
      ]
    },
    {
      "cell_type": "code",
      "source": [
        "fig = plt.figure(figsize=(10,8))\n",
        "plt.plot(range(1,len(train_loss)+1),train_loss, label='Training Loss')\n",
        "plt.plot(range(1,len(valid_loss)+1),valid_loss,label='Validation Loss')\n",
        "\n",
        "plt.xlabel('epochs')\n",
        "plt.ylabel('loss')\n",
        "plt.xlim(0, len(train_loss)+1)\n",
        "plt.grid(True)\n",
        "plt.legend()\n",
        "plt.tight_layout()\n",
        "plt.show()\n",
        "fig.savefig('loss_plot.png', bbox_inches='tight')"
      ],
      "metadata": {
        "colab": {
          "base_uri": "https://localhost:8080/",
          "height": 585
        },
        "id": "3FJ1kvMHAp5J",
        "outputId": "4e823b89-c7ed-4797-87c7-701987efe7bc"
      },
      "execution_count": null,
      "outputs": [
        {
          "output_type": "display_data",
          "data": {
            "text/plain": [
              "<Figure size 720x576 with 1 Axes>"
            ],
            "image/png": "[encoded data removed]"
          },
          "metadata": {
            "needs_background": "light"
          }
        }
      ]
    },
    {
      "cell_type": "markdown",
      "source": [
        "## Inferência (predição)"
      ],
      "metadata": {
        "id": "1E3szZo4AOpP"
      }
    },
    {
      "cell_type": "markdown",
      "source": [
        "Inferência sobre um único exemplo:"
      ],
      "metadata": {
        "id": "BIrxLxokWGOx"
      }
    },
    {
      "cell_type": "code",
      "source": [
        "xb[0]"
      ],
      "metadata": {
        "id": "AS6oySo0cPcS",
        "outputId": "edc27a2f-8c1b-45ac-9641-8d1cbd3aa249",
        "colab": {
          "base_uri": "https://localhost:8080/"
        }
      },
      "execution_count": null,
      "outputs": [
        {
          "output_type": "execute_result",
          "data": {
            "text/plain": [
              "tensor([-0.7024, -0.2751,  0.2195,  0.6603], dtype=torch.float64)"
            ]
          },
          "metadata": {},
          "execution_count": 50
        }
      ]
    },
    {
      "cell_type": "code",
      "source": [
        "model(xb[0].float())"
      ],
      "metadata": {
        "colab": {
          "base_uri": "https://localhost:8080/"
        },
        "id": "AUMzJTLXcHN1",
        "outputId": "c39f8b09-ef89-400a-bdb9-0f50671dee44"
      },
      "execution_count": null,
      "outputs": [
        {
          "output_type": "execute_result",
          "data": {
            "text/plain": [
              "tensor([0.9343], grad_fn=<AddBackward0>)"
            ]
          },
          "metadata": {},
          "execution_count": 49
        }
      ]
    },
    {
      "cell_type": "code",
      "source": [
        "example = np.array([-0.7024, -0.2751,  0.2195,  0.6603])\n",
        "example = torch.from_numpy(example)\n",
        "print(example)\n",
        "model(example.float())"
      ],
      "metadata": {
        "colab": {
          "base_uri": "https://localhost:8080/"
        },
        "id": "eA6x-uB1TaiU",
        "outputId": "3d225cf6-d9be-489b-987c-82d34e925b89"
      },
      "execution_count": null,
      "outputs": [
        {
          "output_type": "stream",
          "name": "stdout",
          "text": [
            "tensor([-0.7024, -0.2751,  0.2195,  0.6603], dtype=torch.float64)\n"
          ]
        },
        {
          "output_type": "execute_result",
          "data": {
            "text/plain": [
              "tensor([0.9343], grad_fn=<AddBackward0>)"
            ]
          },
          "metadata": {},
          "execution_count": 45
        }
      ]
    },
    {
      "cell_type": "markdown",
      "source": [
        "Inferência sobre todos os exemplos do conjunto de teste:"
      ],
      "metadata": {
        "id": "WBjGtg-yV_OO"
      }
    },
    {
      "cell_type": "code",
      "source": [
        "test_losses = []\n",
        "outputs = []\n",
        "with torch.no_grad():\n",
        "  for xb, yb in test_loader:\n",
        "    output = model(xb.float())\n",
        "    outputs.append(output)\n",
        "test_predictions = torch.vstack(outputs).squeeze(1)\n",
        "\n",
        "fig, ax = plt.subplots(1, 1, figsize=(15, 5))\n",
        "ax.plot(train_steps, train_series, lw=2, label='train data')\n",
        "ax.plot(val_steps, val_series, lw=2, label='val data')\n",
        "ax.plot(test_steps, test_series, lw=3, c='y', label='test data')\n",
        "ax.plot(test_steps[look_back:], test_predictions, lw=3, c='r',linestyle = ':', label='predictions')\n",
        "ax.legend(loc=\"lower left\")\n",
        "plt.show()"
      ],
      "metadata": {
        "colab": {
          "base_uri": "https://localhost:8080/",
          "height": 320
        },
        "id": "BGCKUkr_AOpP",
        "outputId": "82385e36-1fb0-4a86-a49f-3bba6983d2fa"
      },
      "execution_count": null,
      "outputs": [
        {
          "output_type": "display_data",
          "data": {
            "text/plain": [
              "<Figure size 1080x360 with 1 Axes>"
            ],
            "image/png": "[encoded data removed]"
          },
          "metadata": {
            "needs_background": "light"
          }
        }
      ]
    },
    {
      "cell_type": "code",
      "source": [],
      "metadata": {
        "colab": {
          "base_uri": "https://localhost:8080/",
          "height": 320
        },
        "outputId": "84040396-99eb-43fe-ca6a-75206dcec438",
        "id": "M6DMPUHEAOpQ"
      },
      "execution_count": null,
      "outputs": [
        {
          "output_type": "display_data",
          "data": {
            "text/plain": [
              "<Figure size 1080x360 with 1 Axes>"
            ],
            "image/png": "[encoded data removed]"
          },
          "metadata": {
            "needs_background": "light"
          }
        }
      ]
    },
    {
      "cell_type": "code",
      "source": [],
      "metadata": {
        "id": "ukN6mRhyAH8s"
      },
      "execution_count": null,
      "outputs": []
    },
    {
      "cell_type": "markdown",
      "source": [
        "# Conv1D"
      ],
      "metadata": {
        "id": "sqriRAbOImmn"
      }
    },
    {
      "cell_type": "markdown",
      "source": [
        "### Preparação dos tensores"
      ],
      "metadata": {
        "id": "1aa-F8VRKUwA"
      }
    },
    {
      "cell_type": "markdown",
      "source": [
        "O PyTorch espera que cada tensor usado no treinamento tenha a forma `[batch, channels_in, time]`. Em particular, a dimensão das features `channels_in` deve ser a central nos tensores. Sendo assim, o código abaixo usa a função `permute` para pivotear (reposicionar) a ordem das dimensões dentro de cada tensor: as posições das dimensões originais 0, 1 e 2 são trocadas para as posições 0, 2 e 1."
      ],
      "metadata": {
        "id": "KDCd2J4NVnhT"
      }
    },
    {
      "cell_type": "code",
      "source": [
        "train_x = torch.permute(train_x, (0, 2, 1))\n",
        "valid_x = torch.permute(valid_x, (0, 2, 1))\n",
        "test_x = torch.permute(test_x, (0, 2, 1))\n",
        "\n",
        "print(train_x.shape)\n",
        "print(valid_x.shape)\n",
        "print(test_x.shape)"
      ],
      "metadata": {
        "colab": {
          "base_uri": "https://localhost:8080/"
        },
        "id": "oFprzsGXQa9i",
        "outputId": "a345753d-a736-45fe-c41e-63ce023e902a"
      },
      "execution_count": null,
      "outputs": [
        {
          "output_type": "stream",
          "name": "stdout",
          "text": [
            "torch.Size([196, 1, 4])\n",
            "torch.Size([96, 1, 4])\n",
            "torch.Size([96, 1, 4])\n"
          ]
        }
      ]
    },
    {
      "cell_type": "markdown",
      "metadata": {
        "id": "RdvClgwgBMkQ"
      },
      "source": [
        "Objetos `TensorDataset` e `Dataloader` para os conjuntos de treino, validação e teste."
      ]
    },
    {
      "cell_type": "code",
      "metadata": {
        "id": "wcjg4VABBMkR"
      },
      "source": [
        "from torch.utils.data import TensorDataset\n",
        "\n",
        "train_ds = TensorDataset(train_x, train_y)\n",
        "valid_ds = TensorDataset(valid_x, valid_y)\n",
        "test_ds = TensorDataset(test_x, test_y)\n",
        "\n",
        "BATCH_SIZE = 8\n",
        "train_loader = torch.utils.data.DataLoader(train_ds, batch_size = BATCH_SIZE, shuffle = False)\n",
        "valid_loader = torch.utils.data.DataLoader(valid_ds, batch_size = BATCH_SIZE, shuffle = False)\n",
        "test_loader = torch.utils.data.DataLoader(test_ds, batch_size = BATCH_SIZE, shuffle = False)"
      ],
      "execution_count": null,
      "outputs": []
    },
    {
      "cell_type": "code",
      "metadata": {
        "id": "if_yvjW3BMkR"
      },
      "source": [
        "train_ds = TensorDataset(train_x, train_y)\n",
        "train_ds[0:5]"
      ],
      "execution_count": null,
      "outputs": []
    },
    {
      "cell_type": "code",
      "source": [
        "for xb, yb in train_loader:\n",
        "    print(xb)\n",
        "    print(yb)\n",
        "    break"
      ],
      "metadata": {
        "colab": {
          "base_uri": "https://localhost:8080/"
        },
        "id": "N8j-_2i-eiAE",
        "outputId": "6e1c218c-b26c-47df-b2e6-bcb0d3a62a5f"
      },
      "execution_count": null,
      "outputs": [
        {
          "output_type": "stream",
          "name": "stdout",
          "text": [
            "tensor([[[ 0.0000,  0.4794,  0.8415,  0.9975]],\n",
            "\n",
            "        [[ 0.4794,  0.8415,  0.9975,  0.9093]],\n",
            "\n",
            "        [[ 0.8415,  0.9975,  0.9093,  0.5985]],\n",
            "\n",
            "        [[ 0.9975,  0.9093,  0.5985,  0.1411]],\n",
            "\n",
            "        [[ 0.9093,  0.5985,  0.1411, -0.3508]],\n",
            "\n",
            "        [[ 0.5985,  0.1411, -0.3508, -0.7568]],\n",
            "\n",
            "        [[ 0.1411, -0.3508, -0.7568, -0.9775]],\n",
            "\n",
            "        [[-0.3508, -0.7568, -0.9775, -0.9589]]], dtype=torch.float64)\n",
            "tensor([[ 0.9093],\n",
            "        [ 0.5985],\n",
            "        [ 0.1411],\n",
            "        [-0.3508],\n",
            "        [-0.7568],\n",
            "        [-0.9775],\n",
            "        [-0.9589],\n",
            "        [-0.7055]], dtype=torch.float64)\n"
          ]
        }
      ]
    },
    {
      "cell_type": "markdown",
      "metadata": {
        "id": "YaWefijSrbOS"
      },
      "source": [
        "## Definição da rede neural"
      ]
    },
    {
      "cell_type": "code",
      "metadata": {
        "id": "2JyCil4kBIhH"
      },
      "source": [
        "class Conv1DNet(nn.Module):\n",
        "    def __init__(self, in_channels):\n",
        "        super(Conv1DNet,self).__init__()\n",
        "        self.conv1d = nn.Conv1d(in_channels = in_channels, out_channels = 64, kernel_size = 2)\n",
        "        self.relu = nn.ReLU()#inplace = True)\n",
        "        self.fc1 = nn.Linear(192,50)\n",
        "        self.fc2 = nn.Linear(50,1)\n",
        "\n",
        "    def forward(self,x):\n",
        "        #print('Input: ', x.shape)\n",
        "        x = self.conv1d(x)\n",
        "        #print('After conv1: ', x.shape)\n",
        "        x = self.relu(x)\n",
        "        #print('After ReLU: ', x.shape)\n",
        "        #x = x.view(x.shape[0], -1)\n",
        "        x = nn.Flatten(1, -1)(x)\n",
        "        #print('After view (flatenning): ', x.shape)\n",
        "        x = self.fc1(x)\n",
        "        #print('After fc1: ', x.shape)\n",
        "        x = self.relu(x)\n",
        "        x = self.fc2(x)\n",
        "        #print('return')\n",
        "        #print(x.shape)\n",
        "        return x"
      ],
      "execution_count": null,
      "outputs": []
    },
    {
      "cell_type": "markdown",
      "source": [
        "A cada passo de tempo consideramos apenas um valor: `in_channels = 1`."
      ],
      "metadata": {
        "id": "VCvk3rzNUQRW"
      }
    },
    {
      "cell_type": "code",
      "source": [
        "device = torch.device(\"cuda:0\" if torch.cuda.is_available() else \"cpu\")\n",
        "model = Conv1DNet(in_channels=1).to(device)"
      ],
      "metadata": {
        "id": "-4tSwK8jAh5B"
      },
      "execution_count": null,
      "outputs": []
    },
    {
      "cell_type": "code",
      "metadata": {
        "id": "C3DWd7Xrrpzx"
      },
      "source": [
        "print(model)"
      ],
      "execution_count": null,
      "outputs": []
    },
    {
      "cell_type": "code",
      "source": [
        "criterion = nn.MSELoss()"
      ],
      "metadata": {
        "id": "_aDmtpSLbN8o"
      },
      "execution_count": null,
      "outputs": []
    },
    {
      "cell_type": "code",
      "source": [
        "for xb, yb in train_loader:\n",
        "  print(xb.shape)\n",
        "  print(yb.shape)\n",
        "  break"
      ],
      "metadata": {
        "colab": {
          "base_uri": "https://localhost:8080/"
        },
        "id": "ralsKmzbfsSr",
        "outputId": "9f79de44-c3e9-4201-dd89-c483a76a3e8f"
      },
      "execution_count": null,
      "outputs": [
        {
          "output_type": "stream",
          "name": "stdout",
          "text": [
            "torch.Size([8, 1, 4])\n",
            "torch.Size([8, 1])\n"
          ]
        }
      ]
    },
    {
      "cell_type": "markdown",
      "source": [
        "Erro médio cometido pelo modelo (ainda não treinado) sobre o conjunto de teste:"
      ],
      "metadata": {
        "id": "dl5HLu_RctkD"
      }
    },
    {
      "cell_type": "code",
      "source": [
        "test_losses = []\n",
        "for xb, yb in test_loader:\n",
        "  output = model(xb.float())\n",
        "  loss = criterion(output, yb.float())\n",
        "  test_losses.append(loss.item())\n",
        "test_loss = np.average(test_losses)\n",
        "print(test_loss)"
      ],
      "metadata": {
        "colab": {
          "base_uri": "https://localhost:8080/"
        },
        "id": "iKNs69uDc1RA",
        "outputId": "aab14796-e10e-41fb-ad50-29d480c42482"
      },
      "execution_count": null,
      "outputs": [
        {
          "output_type": "stream",
          "name": "stdout",
          "text": [
            "0.5421097377936045\n"
          ]
        }
      ]
    },
    {
      "cell_type": "markdown",
      "metadata": {
        "id": "5G2sQrv3lRh-"
      },
      "source": [
        "## Ajuste do modelo"
      ]
    },
    {
      "cell_type": "code",
      "metadata": {
        "id": "OF5PT89r9Gf_",
        "colab": {
          "base_uri": "https://localhost:8080/"
        },
        "outputId": "889d83c9-8c49-4b47-e339-cfc9544329b5"
      },
      "source": [
        "n_epochs = 300\n",
        "model = model.float()\n",
        "model, train_loss, valid_loss = fit(n_epochs, 1e-5, model, train_loader, valid_loader, opt_func=torch.optim.Adam)"
      ],
      "execution_count": null,
      "outputs": [
        {
          "output_type": "stream",
          "name": "stdout",
          "text": [
            "[  0/300] train_loss: 0.53285 valid_loss: 0.53229\n",
            "[  1/300] train_loss: 0.52460 valid_loss: 0.52419\n",
            "[  2/300] train_loss: 0.51668 valid_loss: 0.51629\n",
            "[  3/300] train_loss: 0.50892 valid_loss: 0.50847\n",
            "[  4/300] train_loss: 0.50121 valid_loss: 0.50067\n",
            "[  5/300] train_loss: 0.49352 valid_loss: 0.49287\n",
            "[  6/300] train_loss: 0.48585 valid_loss: 0.48510\n",
            "[  7/300] train_loss: 0.47817 valid_loss: 0.47732\n",
            "[  8/300] train_loss: 0.47049 valid_loss: 0.46955\n",
            "[  9/300] train_loss: 0.46282 valid_loss: 0.46176\n",
            "[ 10/300] train_loss: 0.45516 valid_loss: 0.45398\n",
            "[ 11/300] train_loss: 0.44751 valid_loss: 0.44622\n",
            "[ 12/300] train_loss: 0.43988 valid_loss: 0.43845\n",
            "[ 13/300] train_loss: 0.43221 valid_loss: 0.43064\n",
            "[ 14/300] train_loss: 0.42452 valid_loss: 0.42283\n",
            "[ 15/300] train_loss: 0.41687 valid_loss: 0.41509\n",
            "[ 16/300] train_loss: 0.40930 valid_loss: 0.40743\n",
            "[ 17/300] train_loss: 0.40173 valid_loss: 0.39976\n",
            "[ 18/300] train_loss: 0.39417 valid_loss: 0.39209\n",
            "[ 19/300] train_loss: 0.38660 valid_loss: 0.38440\n",
            "[ 20/300] train_loss: 0.37902 valid_loss: 0.37668\n",
            "[ 21/300] train_loss: 0.37137 valid_loss: 0.36890\n",
            "[ 22/300] train_loss: 0.36372 valid_loss: 0.36115\n",
            "[ 23/300] train_loss: 0.35608 valid_loss: 0.35339\n",
            "[ 24/300] train_loss: 0.34842 valid_loss: 0.34565\n",
            "[ 25/300] train_loss: 0.34081 valid_loss: 0.33799\n",
            "[ 26/300] train_loss: 0.33327 valid_loss: 0.33042\n",
            "[ 27/300] train_loss: 0.32580 valid_loss: 0.32295\n",
            "[ 28/300] train_loss: 0.31843 valid_loss: 0.31554\n",
            "[ 29/300] train_loss: 0.31114 valid_loss: 0.30821\n",
            "[ 30/300] train_loss: 0.30393 valid_loss: 0.30098\n",
            "[ 31/300] train_loss: 0.29681 valid_loss: 0.29385\n",
            "[ 32/300] train_loss: 0.28979 valid_loss: 0.28679\n",
            "[ 33/300] train_loss: 0.28283 valid_loss: 0.27981\n",
            "[ 34/300] train_loss: 0.27594 valid_loss: 0.27292\n",
            "[ 35/300] train_loss: 0.26910 valid_loss: 0.26607\n",
            "[ 36/300] train_loss: 0.26232 valid_loss: 0.25929\n",
            "[ 37/300] train_loss: 0.25560 valid_loss: 0.25256\n",
            "[ 38/300] train_loss: 0.24890 valid_loss: 0.24587\n",
            "[ 39/300] train_loss: 0.24231 valid_loss: 0.23933\n",
            "[ 40/300] train_loss: 0.23589 valid_loss: 0.23296\n",
            "[ 41/300] train_loss: 0.22958 valid_loss: 0.22668\n",
            "[ 42/300] train_loss: 0.22337 valid_loss: 0.22050\n",
            "[ 43/300] train_loss: 0.21727 valid_loss: 0.21442\n",
            "[ 44/300] train_loss: 0.21126 valid_loss: 0.20843\n",
            "[ 45/300] train_loss: 0.20535 valid_loss: 0.20255\n",
            "[ 46/300] train_loss: 0.19954 valid_loss: 0.19676\n",
            "[ 47/300] train_loss: 0.19384 valid_loss: 0.19107\n",
            "[ 48/300] train_loss: 0.18823 valid_loss: 0.18547\n",
            "[ 49/300] train_loss: 0.18271 valid_loss: 0.17995\n",
            "[ 50/300] train_loss: 0.17725 valid_loss: 0.17450\n",
            "[ 51/300] train_loss: 0.17184 valid_loss: 0.16912\n",
            "[ 52/300] train_loss: 0.16649 valid_loss: 0.16376\n",
            "[ 53/300] train_loss: 0.16112 valid_loss: 0.15841\n",
            "[ 54/300] train_loss: 0.15580 valid_loss: 0.15314\n",
            "[ 55/300] train_loss: 0.15058 valid_loss: 0.14798\n",
            "[ 56/300] train_loss: 0.14546 valid_loss: 0.14293\n",
            "[ 57/300] train_loss: 0.14045 valid_loss: 0.13798\n",
            "[ 58/300] train_loss: 0.13555 valid_loss: 0.13313\n",
            "[ 59/300] train_loss: 0.13075 valid_loss: 0.12837\n",
            "[ 60/300] train_loss: 0.12603 valid_loss: 0.12370\n",
            "[ 61/300] train_loss: 0.12140 valid_loss: 0.11911\n",
            "[ 62/300] train_loss: 0.11686 valid_loss: 0.11461\n",
            "[ 63/300] train_loss: 0.11242 valid_loss: 0.11022\n",
            "[ 64/300] train_loss: 0.10808 valid_loss: 0.10594\n",
            "[ 65/300] train_loss: 0.10386 valid_loss: 0.10177\n",
            "[ 66/300] train_loss: 0.09975 valid_loss: 0.09773\n",
            "[ 67/300] train_loss: 0.09578 valid_loss: 0.09380\n",
            "[ 68/300] train_loss: 0.09192 valid_loss: 0.09000\n",
            "[ 69/300] train_loss: 0.08819 valid_loss: 0.08632\n",
            "[ 70/300] train_loss: 0.08457 valid_loss: 0.08276\n",
            "[ 71/300] train_loss: 0.08108 valid_loss: 0.07931\n",
            "[ 72/300] train_loss: 0.07770 valid_loss: 0.07598\n",
            "[ 73/300] train_loss: 0.07442 valid_loss: 0.07276\n",
            "[ 74/300] train_loss: 0.07126 valid_loss: 0.06965\n",
            "[ 75/300] train_loss: 0.06821 valid_loss: 0.06664\n",
            "[ 76/300] train_loss: 0.06526 valid_loss: 0.06373\n",
            "[ 77/300] train_loss: 0.06241 valid_loss: 0.06092\n",
            "[ 78/300] train_loss: 0.05965 valid_loss: 0.05821\n",
            "[ 79/300] train_loss: 0.05699 valid_loss: 0.05559\n",
            "[ 80/300] train_loss: 0.05442 valid_loss: 0.05306\n",
            "[ 81/300] train_loss: 0.05194 valid_loss: 0.05062\n",
            "[ 82/300] train_loss: 0.04954 valid_loss: 0.04826\n",
            "[ 83/300] train_loss: 0.04724 valid_loss: 0.04599\n",
            "[ 84/300] train_loss: 0.04501 valid_loss: 0.04380\n",
            "[ 85/300] train_loss: 0.04287 valid_loss: 0.04169\n",
            "[ 86/300] train_loss: 0.04080 valid_loss: 0.03966\n",
            "[ 87/300] train_loss: 0.03882 valid_loss: 0.03771\n",
            "[ 88/300] train_loss: 0.03691 valid_loss: 0.03584\n",
            "[ 89/300] train_loss: 0.03507 valid_loss: 0.03403\n",
            "[ 90/300] train_loss: 0.03330 valid_loss: 0.03230\n",
            "[ 91/300] train_loss: 0.03161 valid_loss: 0.03064\n",
            "[ 92/300] train_loss: 0.02999 valid_loss: 0.02905\n",
            "[ 93/300] train_loss: 0.02843 valid_loss: 0.02753\n",
            "[ 94/300] train_loss: 0.02694 valid_loss: 0.02607\n",
            "[ 95/300] train_loss: 0.02551 valid_loss: 0.02468\n",
            "[ 96/300] train_loss: 0.02415 valid_loss: 0.02335\n",
            "[ 97/300] train_loss: 0.02285 valid_loss: 0.02207\n",
            "[ 98/300] train_loss: 0.02160 valid_loss: 0.02086\n",
            "[ 99/300] train_loss: 0.02041 valid_loss: 0.01970\n",
            "[100/300] train_loss: 0.01928 valid_loss: 0.01859\n",
            "[101/300] train_loss: 0.01820 valid_loss: 0.01754\n",
            "[102/300] train_loss: 0.01717 valid_loss: 0.01654\n",
            "[103/300] train_loss: 0.01619 valid_loss: 0.01559\n",
            "[104/300] train_loss: 0.01526 valid_loss: 0.01469\n",
            "[105/300] train_loss: 0.01438 valid_loss: 0.01383\n",
            "[106/300] train_loss: 0.01354 valid_loss: 0.01301\n",
            "[107/300] train_loss: 0.01275 valid_loss: 0.01224\n",
            "[108/300] train_loss: 0.01199 valid_loss: 0.01151\n",
            "[109/300] train_loss: 0.01128 valid_loss: 0.01082\n",
            "[110/300] train_loss: 0.01061 valid_loss: 0.01017\n",
            "[111/300] train_loss: 0.00997 valid_loss: 0.00955\n",
            "[112/300] train_loss: 0.00937 valid_loss: 0.00897\n",
            "[113/300] train_loss: 0.00880 valid_loss: 0.00842\n",
            "[114/300] train_loss: 0.00826 valid_loss: 0.00791\n",
            "[115/300] train_loss: 0.00776 valid_loss: 0.00742\n",
            "[116/300] train_loss: 0.00728 valid_loss: 0.00696\n",
            "[117/300] train_loss: 0.00684 valid_loss: 0.00653\n",
            "[118/300] train_loss: 0.00642 valid_loss: 0.00613\n",
            "[119/300] train_loss: 0.00602 valid_loss: 0.00575\n",
            "[120/300] train_loss: 0.00565 valid_loss: 0.00540\n",
            "[121/300] train_loss: 0.00531 valid_loss: 0.00506\n",
            "[122/300] train_loss: 0.00498 valid_loss: 0.00475\n",
            "[123/300] train_loss: 0.00468 valid_loss: 0.00446\n",
            "[124/300] train_loss: 0.00439 valid_loss: 0.00419\n",
            "[125/300] train_loss: 0.00412 valid_loss: 0.00393\n",
            "[126/300] train_loss: 0.00387 valid_loss: 0.00369\n",
            "[127/300] train_loss: 0.00364 valid_loss: 0.00347\n",
            "[128/300] train_loss: 0.00342 valid_loss: 0.00326\n",
            "[129/300] train_loss: 0.00322 valid_loss: 0.00307\n",
            "[130/300] train_loss: 0.00302 valid_loss: 0.00288\n",
            "[131/300] train_loss: 0.00285 valid_loss: 0.00271\n",
            "[132/300] train_loss: 0.00268 valid_loss: 0.00255\n",
            "[133/300] train_loss: 0.00252 valid_loss: 0.00241\n",
            "[134/300] train_loss: 0.00238 valid_loss: 0.00227\n",
            "[135/300] train_loss: 0.00224 valid_loss: 0.00214\n",
            "[136/300] train_loss: 0.00211 valid_loss: 0.00201\n",
            "[137/300] train_loss: 0.00199 valid_loss: 0.00190\n",
            "[138/300] train_loss: 0.00188 valid_loss: 0.00179\n",
            "[139/300] train_loss: 0.00177 valid_loss: 0.00169\n",
            "[140/300] train_loss: 0.00167 valid_loss: 0.00160\n",
            "[141/300] train_loss: 0.00158 valid_loss: 0.00151\n",
            "[142/300] train_loss: 0.00149 valid_loss: 0.00143\n",
            "[143/300] train_loss: 0.00141 valid_loss: 0.00135\n",
            "[144/300] train_loss: 0.00133 valid_loss: 0.00127\n",
            "[145/300] train_loss: 0.00126 valid_loss: 0.00120\n",
            "[146/300] train_loss: 0.00119 valid_loss: 0.00114\n",
            "[147/300] train_loss: 0.00112 valid_loss: 0.00108\n",
            "[148/300] train_loss: 0.00106 valid_loss: 0.00102\n",
            "[149/300] train_loss: 0.00100 valid_loss: 0.00096\n",
            "[150/300] train_loss: 0.00095 valid_loss: 0.00091\n",
            "[151/300] train_loss: 0.00090 valid_loss: 0.00086\n",
            "[152/300] train_loss: 0.00085 valid_loss: 0.00081\n",
            "[153/300] train_loss: 0.00080 valid_loss: 0.00077\n",
            "[154/300] train_loss: 0.00076 valid_loss: 0.00073\n",
            "[155/300] train_loss: 0.00072 valid_loss: 0.00069\n",
            "[156/300] train_loss: 0.00068 valid_loss: 0.00065\n",
            "[157/300] train_loss: 0.00064 valid_loss: 0.00061\n",
            "[158/300] train_loss: 0.00061 valid_loss: 0.00058\n",
            "[159/300] train_loss: 0.00058 valid_loss: 0.00055\n",
            "[160/300] train_loss: 0.00054 valid_loss: 0.00052\n",
            "[161/300] train_loss: 0.00052 valid_loss: 0.00049\n",
            "[162/300] train_loss: 0.00049 valid_loss: 0.00047\n",
            "[163/300] train_loss: 0.00046 valid_loss: 0.00044\n",
            "[164/300] train_loss: 0.00044 valid_loss: 0.00042\n",
            "[165/300] train_loss: 0.00041 valid_loss: 0.00040\n",
            "[166/300] train_loss: 0.00039 valid_loss: 0.00038\n",
            "[167/300] train_loss: 0.00037 valid_loss: 0.00036\n",
            "[168/300] train_loss: 0.00035 valid_loss: 0.00034\n",
            "[169/300] train_loss: 0.00033 valid_loss: 0.00032\n",
            "[170/300] train_loss: 0.00032 valid_loss: 0.00030\n",
            "[171/300] train_loss: 0.00030 valid_loss: 0.00029\n",
            "[172/300] train_loss: 0.00029 valid_loss: 0.00027\n",
            "[173/300] train_loss: 0.00027 valid_loss: 0.00026\n",
            "[174/300] train_loss: 0.00026 valid_loss: 0.00025\n",
            "[175/300] train_loss: 0.00025 valid_loss: 0.00023\n",
            "[176/300] train_loss: 0.00023 valid_loss: 0.00022\n",
            "[177/300] train_loss: 0.00022 valid_loss: 0.00021\n",
            "[178/300] train_loss: 0.00021 valid_loss: 0.00020\n",
            "[179/300] train_loss: 0.00020 valid_loss: 0.00019\n",
            "[180/300] train_loss: 0.00019 valid_loss: 0.00018\n",
            "[181/300] train_loss: 0.00018 valid_loss: 0.00017\n",
            "[182/300] train_loss: 0.00017 valid_loss: 0.00017\n",
            "[183/300] train_loss: 0.00017 valid_loss: 0.00016\n",
            "[184/300] train_loss: 0.00016 valid_loss: 0.00015\n",
            "[185/300] train_loss: 0.00015 valid_loss: 0.00014\n",
            "[186/300] train_loss: 0.00014 valid_loss: 0.00014\n",
            "[187/300] train_loss: 0.00014 valid_loss: 0.00013\n",
            "[188/300] train_loss: 0.00013 valid_loss: 0.00013\n",
            "[189/300] train_loss: 0.00013 valid_loss: 0.00012\n",
            "[190/300] train_loss: 0.00012 valid_loss: 0.00012\n",
            "[191/300] train_loss: 0.00012 valid_loss: 0.00011\n",
            "[192/300] train_loss: 0.00011 valid_loss: 0.00011\n",
            "[193/300] train_loss: 0.00011 valid_loss: 0.00010\n",
            "[194/300] train_loss: 0.00010 valid_loss: 0.00010\n",
            "[195/300] train_loss: 0.00010 valid_loss: 0.00009\n",
            "[196/300] train_loss: 0.00010 valid_loss: 0.00009\n",
            "[197/300] train_loss: 0.00009 valid_loss: 0.00009\n",
            "[198/300] train_loss: 0.00009 valid_loss: 0.00008\n",
            "[199/300] train_loss: 0.00009 valid_loss: 0.00008\n",
            "[200/300] train_loss: 0.00008 valid_loss: 0.00008\n",
            "[201/300] train_loss: 0.00008 valid_loss: 0.00008\n",
            "[202/300] train_loss: 0.00008 valid_loss: 0.00007\n",
            "[203/300] train_loss: 0.00008 valid_loss: 0.00007\n",
            "[204/300] train_loss: 0.00007 valid_loss: 0.00007\n",
            "[205/300] train_loss: 0.00007 valid_loss: 0.00007\n",
            "[206/300] train_loss: 0.00007 valid_loss: 0.00007\n",
            "[207/300] train_loss: 0.00007 valid_loss: 0.00006\n",
            "[208/300] train_loss: 0.00007 valid_loss: 0.00006\n",
            "[209/300] train_loss: 0.00006 valid_loss: 0.00006\n",
            "[210/300] train_loss: 0.00006 valid_loss: 0.00006\n",
            "[211/300] train_loss: 0.00006 valid_loss: 0.00006\n",
            "[212/300] train_loss: 0.00006 valid_loss: 0.00006\n",
            "[213/300] train_loss: 0.00006 valid_loss: 0.00005\n",
            "[214/300] train_loss: 0.00006 valid_loss: 0.00005\n",
            "[215/300] train_loss: 0.00006 valid_loss: 0.00005\n",
            "[216/300] train_loss: 0.00006 valid_loss: 0.00005\n",
            "[217/300] train_loss: 0.00005 valid_loss: 0.00005\n",
            "[218/300] train_loss: 0.00005 valid_loss: 0.00005\n",
            "[219/300] train_loss: 0.00005 valid_loss: 0.00005\n",
            "[220/300] train_loss: 0.00005 valid_loss: 0.00005\n",
            "[221/300] train_loss: 0.00005 valid_loss: 0.00005\n",
            "[222/300] train_loss: 0.00005 valid_loss: 0.00005\n",
            "[223/300] train_loss: 0.00005 valid_loss: 0.00005\n",
            "[224/300] train_loss: 0.00005 valid_loss: 0.00004\n",
            "[225/300] train_loss: 0.00005 valid_loss: 0.00004\n",
            "[226/300] train_loss: 0.00005 valid_loss: 0.00004\n",
            "[227/300] train_loss: 0.00005 valid_loss: 0.00004\n",
            "[228/300] train_loss: 0.00004 valid_loss: 0.00004\n",
            "[229/300] train_loss: 0.00004 valid_loss: 0.00004\n",
            "[230/300] train_loss: 0.00004 valid_loss: 0.00004\n",
            "[231/300] train_loss: 0.00004 valid_loss: 0.00004\n",
            "[232/300] train_loss: 0.00004 valid_loss: 0.00004\n",
            "[233/300] train_loss: 0.00004 valid_loss: 0.00004\n",
            "[234/300] train_loss: 0.00004 valid_loss: 0.00004\n",
            "[235/300] train_loss: 0.00004 valid_loss: 0.00004\n",
            "[236/300] train_loss: 0.00004 valid_loss: 0.00004\n",
            "[237/300] train_loss: 0.00004 valid_loss: 0.00004\n",
            "[238/300] train_loss: 0.00004 valid_loss: 0.00004\n",
            "[239/300] train_loss: 0.00004 valid_loss: 0.00004\n",
            "[240/300] train_loss: 0.00004 valid_loss: 0.00004\n",
            "[241/300] train_loss: 0.00004 valid_loss: 0.00003\n",
            "[242/300] train_loss: 0.00004 valid_loss: 0.00003\n",
            "[243/300] train_loss: 0.00004 valid_loss: 0.00003\n",
            "[244/300] train_loss: 0.00004 valid_loss: 0.00003\n",
            "[245/300] train_loss: 0.00004 valid_loss: 0.00003\n",
            "[246/300] train_loss: 0.00003 valid_loss: 0.00003\n",
            "[247/300] train_loss: 0.00003 valid_loss: 0.00003\n",
            "[248/300] train_loss: 0.00003 valid_loss: 0.00003\n",
            "[249/300] train_loss: 0.00003 valid_loss: 0.00003\n",
            "[250/300] train_loss: 0.00003 valid_loss: 0.00003\n",
            "[251/300] train_loss: 0.00003 valid_loss: 0.00003\n",
            "[252/300] train_loss: 0.00003 valid_loss: 0.00003\n",
            "[253/300] train_loss: 0.00003 valid_loss: 0.00003\n",
            "[254/300] train_loss: 0.00003 valid_loss: 0.00003\n",
            "[255/300] train_loss: 0.00003 valid_loss: 0.00003\n",
            "[256/300] train_loss: 0.00003 valid_loss: 0.00003\n",
            "[257/300] train_loss: 0.00003 valid_loss: 0.00003\n",
            "[258/300] train_loss: 0.00003 valid_loss: 0.00003\n",
            "[259/300] train_loss: 0.00003 valid_loss: 0.00003\n",
            "[260/300] train_loss: 0.00003 valid_loss: 0.00003\n",
            "[261/300] train_loss: 0.00003 valid_loss: 0.00003\n",
            "[262/300] train_loss: 0.00003 valid_loss: 0.00003\n",
            "[263/300] train_loss: 0.00003 valid_loss: 0.00003\n",
            "[264/300] train_loss: 0.00003 valid_loss: 0.00003\n",
            "[265/300] train_loss: 0.00003 valid_loss: 0.00003\n",
            "[266/300] train_loss: 0.00003 valid_loss: 0.00003\n",
            "[267/300] train_loss: 0.00003 valid_loss: 0.00003\n",
            "[268/300] train_loss: 0.00003 valid_loss: 0.00003\n",
            "[269/300] train_loss: 0.00003 valid_loss: 0.00002\n",
            "[270/300] train_loss: 0.00003 valid_loss: 0.00002\n",
            "[271/300] train_loss: 0.00003 valid_loss: 0.00002\n",
            "[272/300] train_loss: 0.00003 valid_loss: 0.00002\n",
            "[273/300] train_loss: 0.00003 valid_loss: 0.00002\n",
            "[274/300] train_loss: 0.00003 valid_loss: 0.00002\n",
            "[275/300] train_loss: 0.00003 valid_loss: 0.00002\n",
            "[276/300] train_loss: 0.00002 valid_loss: 0.00002\n",
            "[277/300] train_loss: 0.00002 valid_loss: 0.00002\n",
            "[278/300] train_loss: 0.00002 valid_loss: 0.00002\n",
            "[279/300] train_loss: 0.00002 valid_loss: 0.00002\n",
            "[280/300] train_loss: 0.00002 valid_loss: 0.00002\n",
            "[281/300] train_loss: 0.00002 valid_loss: 0.00002\n",
            "[282/300] train_loss: 0.00002 valid_loss: 0.00002\n",
            "[283/300] train_loss: 0.00002 valid_loss: 0.00002\n",
            "[284/300] train_loss: 0.00002 valid_loss: 0.00002\n",
            "[285/300] train_loss: 0.00002 valid_loss: 0.00002\n",
            "[286/300] train_loss: 0.00002 valid_loss: 0.00002\n",
            "[287/300] train_loss: 0.00002 valid_loss: 0.00002\n",
            "[288/300] train_loss: 0.00002 valid_loss: 0.00002\n",
            "[289/300] train_loss: 0.00002 valid_loss: 0.00002\n",
            "[290/300] train_loss: 0.00002 valid_loss: 0.00002\n",
            "[291/300] train_loss: 0.00002 valid_loss: 0.00002\n",
            "[292/300] train_loss: 0.00002 valid_loss: 0.00002\n",
            "[293/300] train_loss: 0.00002 valid_loss: 0.00002\n",
            "[294/300] train_loss: 0.00002 valid_loss: 0.00002\n",
            "[295/300] train_loss: 0.00002 valid_loss: 0.00002\n",
            "[296/300] train_loss: 0.00002 valid_loss: 0.00002\n",
            "[297/300] train_loss: 0.00002 valid_loss: 0.00002\n",
            "[298/300] train_loss: 0.00002 valid_loss: 0.00002\n",
            "[299/300] train_loss: 0.00002 valid_loss: 0.00002\n"
          ]
        }
      ]
    },
    {
      "cell_type": "code",
      "metadata": {
        "id": "ii_jN4ZFczHo",
        "colab": {
          "base_uri": "https://localhost:8080/",
          "height": 585
        },
        "outputId": "0596738f-416c-4f8e-cc83-c38621dbd89b"
      },
      "source": [
        "fig = plt.figure(figsize=(10,8))\n",
        "plt.plot(range(1,len(train_loss)+1),train_loss, label='Training Loss')\n",
        "plt.plot(range(1,len(valid_loss)+1),valid_loss,label='Validation Loss')\n",
        "\n",
        "plt.xlabel('epochs')\n",
        "plt.ylabel('loss')\n",
        "plt.xlim(0, len(train_loss)+1)\n",
        "plt.grid(True)\n",
        "plt.legend()\n",
        "plt.tight_layout()\n",
        "plt.show()\n",
        "fig.savefig('loss_plot.png', bbox_inches='tight')"
      ],
      "execution_count": null,
      "outputs": [
        {
          "output_type": "display_data",
          "data": {
            "text/plain": [
              "<Figure size 720x576 with 1 Axes>"
            ],
            "image/png": "[encoded data removed]"
          },
          "metadata": {
            "needs_background": "light"
          }
        }
      ]
    },
    {
      "cell_type": "code",
      "metadata": {
        "id": "YC0JQSAVBLst",
        "colab": {
          "base_uri": "https://localhost:8080/"
        },
        "outputId": "3d5e4b33-5b0e-4ea1-fc12-86501cc846f2"
      },
      "source": [
        "test_losses = []\n",
        "for xb, yb in test_loader:\n",
        "  output = model(xb.float())\n",
        "  # calculate the loss\n",
        "  loss = criterion(output, yb.float())\n",
        "  # record validation loss\n",
        "  test_losses.append(loss.item())\n",
        "test_loss = np.average(test_losses)\n",
        "print(test_loss)"
      ],
      "execution_count": null,
      "outputs": [
        {
          "output_type": "stream",
          "name": "stdout",
          "text": [
            "1.878384758432124e-05\n"
          ]
        }
      ]
    },
    {
      "cell_type": "markdown",
      "source": [
        "## Inferência (predição)"
      ],
      "metadata": {
        "id": "nxZxhq53_JPe"
      }
    },
    {
      "cell_type": "code",
      "source": [
        "test_losses = []\n",
        "outputs = []\n",
        "with torch.no_grad():\n",
        "  for xb, yb in test_loader:\n",
        "    output = model(xb.float())\n",
        "    outputs.append(output)\n",
        "test_predictions = torch.vstack(outputs).squeeze(1)"
      ],
      "metadata": {
        "id": "TsDHw2TsB-qJ"
      },
      "execution_count": null,
      "outputs": []
    },
    {
      "cell_type": "code",
      "source": [
        "test_predictions.numpy()"
      ],
      "metadata": {
        "colab": {
          "base_uri": "https://localhost:8080/"
        },
        "id": "nccaq1AZaM-u",
        "outputId": "1b0d081c-b707-41ac-c809-9d926cd96daa"
      },
      "execution_count": null,
      "outputs": [
        {
          "output_type": "execute_result",
          "data": {
            "text/plain": [
              "array([ 9.3599945e-01,  9.8783022e-01,  8.0408913e-01,  4.2385870e-01,\n",
              "       -6.4854428e-02, -5.3606367e-01, -8.6840445e-01, -9.9842674e-01,\n",
              "       -8.8534433e-01, -5.4133296e-01, -7.9956867e-02,  4.0288585e-01,\n",
              "        7.9284692e-01,  9.9087650e-01,  9.3803972e-01,  6.6234297e-01,\n",
              "        2.2234191e-01, -2.7448618e-01, -7.0226014e-01, -9.5928115e-01,\n",
              "       -9.8133737e-01, -7.5585890e-01, -3.5155046e-01,  1.2588568e-01,\n",
              "        6.0494882e-01,  9.0549952e-01,  9.9650007e-01,  8.4174246e-01,\n",
              "        4.8195487e-01,  2.1417588e-03, -4.7798347e-01, -8.3314937e-01,\n",
              "       -9.9495888e-01, -9.1751224e-01, -5.9609723e-01, -1.4493281e-01,\n",
              "        3.3842176e-01,  7.5754946e-01,  9.7874933e-01,  9.5945281e-01,\n",
              "        7.1188647e-01,  2.8716612e-01, -2.1022975e-01, -6.5593404e-01,\n",
              "       -9.4053334e-01, -9.9069041e-01, -7.9893458e-01, -4.1196859e-01,\n",
              "        6.2903181e-02,  5.4509330e-01,  8.7169278e-01,  1.0017244e+00,\n",
              "        8.7557417e-01,  5.3931469e-01,  7.0836723e-02, -4.1833538e-01,\n",
              "       -7.9752070e-01, -9.8590690e-01, -9.4330329e-01, -6.4850706e-01,\n",
              "       -2.0898436e-01,  2.7291220e-01,  7.1844524e-01,  9.6178347e-01,\n",
              "        9.7465783e-01,  7.5646180e-01,  3.4867287e-01, -1.4611474e-01,\n",
              "       -6.0470235e-01, -9.1205931e-01, -9.9651498e-01, -8.4064859e-01,\n",
              "       -4.7034389e-01,  9.5227361e-04,  4.8280627e-01,  8.3814985e-01,\n",
              "        9.9972492e-01,  9.0483516e-01,  5.9541661e-01,  1.3816483e-01,\n",
              "       -3.5582739e-01, -7.5873286e-01, -9.7552568e-01, -9.6272844e-01,\n",
              "       -6.9731021e-01, -2.7250469e-01,  2.0704828e-01,  6.7546302e-01,\n",
              "        9.4311041e-01,  9.8522717e-01,  7.9375792e-01,  4.0824348e-01,\n",
              "       -8.2081482e-02, -5.5103695e-01, -8.7802082e-01, -9.9870127e-01],\n",
              "      dtype=float32)"
            ]
          },
          "metadata": {},
          "execution_count": 21
        }
      ]
    },
    {
      "cell_type": "code",
      "source": [
        "fig, ax = plt.subplots(1, 1, figsize=(15, 5))\n",
        "ax.plot(train_steps, train_series, lw=2, label='train data')\n",
        "ax.plot(val_steps, val_series, lw=2, label='val data')\n",
        "ax.plot(test_steps, test_series, lw=3, c='y', label='test data')\n",
        "ax.plot(test_steps[look_back:], test_predictions, lw=3, c='r',linestyle = ':', label='predictions')\n",
        "ax.legend(loc=\"lower left\")\n",
        "plt.show();"
      ],
      "metadata": {
        "colab": {
          "base_uri": "https://localhost:8080/",
          "height": 320
        },
        "outputId": "3025c638-736e-45ae-efd4-0916a2afbbae",
        "id": "5yP-6ein_JPe"
      },
      "execution_count": null,
      "outputs": [
        {
          "output_type": "display_data",
          "data": {
            "text/plain": [
              "<Figure size 1080x360 with 1 Axes>"
            ],
            "image/png": "[encoded data removed]"
          },
          "metadata": {
            "needs_background": "light"
          }
        }
      ]
    },
    {
      "cell_type": "markdown",
      "source": [
        "Salva predições em arquivo"
      ],
      "metadata": {
        "id": "VBFzRcgzZQ_u"
      }
    },
    {
      "cell_type": "code",
      "source": [],
      "metadata": {
        "id": "erbzEvXxwBIW"
      },
      "execution_count": null,
      "outputs": []
    },
    {
      "cell_type": "markdown",
      "source": [
        "# LSTM"
      ],
      "metadata": {
        "id": "NmmexDj28Zqq"
      }
    },
    {
      "cell_type": "markdown",
      "source": [
        "### Preparação dos tensores"
      ],
      "metadata": {
        "id": "LihKLugZ7HvR"
      }
    },
    {
      "cell_type": "code",
      "source": [
        "X_train = torch.from_numpy(X_train)\n",
        "y_train = torch.from_numpy(y_train)\n",
        "\n",
        "X_val = torch.from_numpy(X_val)\n",
        "y_val = torch.from_numpy(y_val)\n",
        "\n",
        "X_test = torch.from_numpy(X_test)\n",
        "y_test = torch.from_numpy(y_test)"
      ],
      "metadata": {
        "id": "dIUWmNmH_Mtb"
      },
      "execution_count": null,
      "outputs": []
    },
    {
      "cell_type": "code",
      "source": [
        "y_train.shape"
      ],
      "metadata": {
        "id": "ieYiX91v9-eC"
      },
      "execution_count": null,
      "outputs": []
    },
    {
      "cell_type": "code",
      "source": [
        "train_x = torch.permute(X_train, (2, 0, 1))\n",
        "train_labels = torch.permute(y_train, (1, 0))\n",
        "train_labels = train_labels[:, :, None]\n",
        "\n",
        "val_x = torch.permute(X_val, (2, 0, 1))\n",
        "val_labels = torch.permute(y_val, (1, 0))\n",
        "val_labels = val_labels[:, :, None]\n",
        "\n",
        "test_x = torch.permute(X_test, (2, 0, 1))\n",
        "test_labels = torch.permute(y_test, (1, 0))\n",
        "test_labels = test_labels[:, :, None]\n",
        "\n",
        "print(train_x.shape)\n",
        "print(train_labels.shape)\n",
        "print(val_x.shape)\n",
        "print(val_labels.shape)\n",
        "print(test_x.shape)\n",
        "print(test_labels.shape)"
      ],
      "metadata": {
        "id": "NQpfgJ2uB47h"
      },
      "execution_count": null,
      "outputs": []
    },
    {
      "cell_type": "markdown",
      "metadata": {
        "id": "raTnI-cHEDWo"
      },
      "source": [
        "Objetos `TensorDataset` e `Dataloader` para os conjuntos de treino, validação e teste."
      ]
    },
    {
      "cell_type": "code",
      "metadata": {
        "id": "Wcu-7XJxEDWp"
      },
      "source": [
        "from torch.utils.data import TensorDataset\n",
        "\n",
        "train_ds = TensorDataset(train_x, train_labels)\n",
        "val_ds = TensorDataset(val_x, val_labels)\n",
        "test_ds = TensorDataset(test_x, test_labels)\n",
        "\n",
        "BATCH_SIZE = 64\n",
        "train_loader = torch.utils.data.DataLoader(train_ds, batch_size = BATCH_SIZE, shuffle = False)\n",
        "val_loader = torch.utils.data.DataLoader(val_ds, batch_size = BATCH_SIZE, shuffle = False)\n",
        "test_loader = torch.utils.data.DataLoader(test_ds, batch_size = BATCH_SIZE, shuffle = False)"
      ],
      "execution_count": null,
      "outputs": []
    },
    {
      "cell_type": "markdown",
      "source": [
        "## Definição da rede neural"
      ],
      "metadata": {
        "id": "lWDWxQhb0S58"
      }
    },
    {
      "cell_type": "code",
      "source": [
        "class LSTMNet(nn.Module):\n",
        "    def __init__(self, n_neurons, input_shape):\n",
        "        super(LSTMNet, self).__init__()\n",
        "        self.lstm = nn.LSTM(input_size=input_shape, hidden_size=n_neurons)\n",
        "        self.fc = nn.Linear(n_neurons, 1)\n",
        "    \n",
        "    def forward(self, x):\n",
        "        out, _ = self.lstm(x)\n",
        "        out = self.fc(out)\n",
        "        return out"
      ],
      "metadata": {
        "id": "9pdI6j_sImX5"
      },
      "execution_count": null,
      "outputs": []
    },
    {
      "cell_type": "markdown",
      "source": [
        "## Ajuste do modelo"
      ],
      "metadata": {
        "id": "A0tZzpxe0V6H"
      }
    },
    {
      "cell_type": "code",
      "source": [
        "n_neurons = 4\n",
        "criterion = nn.MSELoss()\n",
        "n_epochs = 1000\n",
        "lr = 0.001\n",
        "\n",
        "device = torch.device(\"cuda:0\" if torch.cuda.is_available() else \"cpu\")\n",
        "model = model.float()\n",
        "model = LSTMNet(n_neurons, look_back).to(device)\n",
        "\n",
        "print(model)\n",
        "\n",
        "optimizer = torch.optim.Adam\n",
        "model, train_loss, valid_loss = fit(n_epochs, lr, model, train_loader, val_loader, opt_func=optimizer)"
      ],
      "metadata": {
        "id": "zqnAeO3OImp6"
      },
      "execution_count": null,
      "outputs": []
    },
    {
      "cell_type": "code",
      "source": [
        "fig = plt.figure(figsize=(10,8))\n",
        "plt.plot(range(1,len(train_loss)+1),train_loss, label='Training Loss')\n",
        "plt.plot(range(1,len(valid_loss)+1),valid_loss,label='Validation Loss')\n",
        "\n",
        "plt.xlabel('epochs')\n",
        "plt.ylabel('loss')\n",
        "plt.xlim(0, len(train_loss)+1)\n",
        "plt.grid(True)\n",
        "plt.legend()\n",
        "plt.tight_layout()\n",
        "plt.show()\n",
        "fig.savefig('loss_plot.png', bbox_inches='tight')"
      ],
      "metadata": {
        "id": "dUwga5ieJr-7"
      },
      "execution_count": null,
      "outputs": []
    },
    {
      "cell_type": "markdown",
      "source": [
        "## Inferência (predição)"
      ],
      "metadata": {
        "id": "rI0jRj2g9tRM"
      }
    },
    {
      "cell_type": "code",
      "source": [
        "test_losses = []\n",
        "outputs = []\n",
        "with torch.no_grad():\n",
        "  for xb, yb in test_loader:\n",
        "    output = model(xb.float())\n",
        "    outputs.append(output)\n",
        "test_predictions = torch.vstack(outputs)\n",
        "print(test_predictions.shape)\n",
        "test_predictions = test_predictions.squeeze(0)\n",
        "test_predictions = test_predictions.squeeze(1)\n",
        "print(test_predictions.shape)"
      ],
      "metadata": {
        "id": "EboXnfd9qK9P"
      },
      "execution_count": null,
      "outputs": []
    },
    {
      "cell_type": "code",
      "source": [
        "fig, ax = plt.subplots(1, 1, figsize=(15, 5))\n",
        "ax.plot(train_steps,train_series, lw=2, label='train data')\n",
        "ax.plot(val_steps,val_series, lw=2, label='val data')\n",
        "ax.plot(test_steps,test_series, lw=3, c='y', label='test data')\n",
        "ax.plot(test_steps[look_back:],test_predictions, lw=3, c='r',linestyle = ':', label='predictions')\n",
        "ax.legend(loc=\"lower left\")\n",
        "plt.show();"
      ],
      "metadata": {
        "id": "OcL_3CZxRTGf"
      },
      "execution_count": null,
      "outputs": []
    }
  ]
}