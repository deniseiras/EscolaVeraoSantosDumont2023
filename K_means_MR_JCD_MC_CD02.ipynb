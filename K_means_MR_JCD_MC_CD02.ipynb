{
  "nbformat": 4,
  "nbformat_minor": 0,
  "metadata": {
    "colab": {
      "provenance": [],
      "include_colab_link": true
    },
    "kernelspec": {
      "name": "python3",
      "display_name": "Python 3"
    },
    "language_info": {
      "name": "python"
    }
  },
  "cells": [
    {
      "cell_type": "markdown",
      "metadata": {
        "id": "view-in-github",
        "colab_type": "text"
      },
      "source": [
        "<a href=\"https://colab.research.google.com/github/deniseiras/EscolaVeraoSantosDumont2023/blob/main/K_means_MR_JCD_MC_CD02.ipynb\" target=\"_parent\"><img src=\"https://colab.research.google.com/assets/colab-badge.svg\" alt=\"Open In Colab\"/></a>"
      ]
    },
    {
      "cell_type": "markdown",
      "source": [
        "## Introdução ao K-means\n",
        "[link text](https://pt.wikipedia.org/wiki/K-means)\n",
        "![picture](https://drive.google.com/uc?export=view&id=160HEkR11QhXN8id6pJLIvN-6lKQiUwZo)"
      ],
      "metadata": {
        "id": "oLVcI2B6iSay"
      }
    },
    {
      "cell_type": "markdown",
      "source": [
        "## K-Means Versão spark\n",
        "  Neste exemplo consideramos que geramos 1000 pontos randomicos, no intervalo\n",
        "  [1,5000] e queremos clusterizar em k grupos."
      ],
      "metadata": {
        "id": "JglQBkEgxWFq"
      }
    },
    {
      "cell_type": "markdown",
      "source": [
        "Iniciamos instalando o pyspark"
      ],
      "metadata": {
        "id": "ItQBlXjrxwqz"
      }
    },
    {
      "cell_type": "code",
      "source": [
        "pip install pyspark\n"
      ],
      "metadata": {
        "colab": {
          "base_uri": "https://localhost:8080/"
        },
        "id": "uiGEOlx23cED",
        "outputId": "20311bb8-8d05-4af2-8d0b-5cab7e818688"
      },
      "execution_count": null,
      "outputs": [
        {
          "output_type": "stream",
          "name": "stdout",
          "text": [
            "Collecting pyspark\n",
            "  Downloading pyspark-3.2.1.tar.gz (281.4 MB)\n",
            "\u001b[K     |████████████████████████████████| 281.4 MB 28 kB/s \n",
            "\u001b[?25hCollecting py4j==0.10.9.3\n",
            "  Downloading py4j-0.10.9.3-py2.py3-none-any.whl (198 kB)\n",
            "\u001b[K     |████████████████████████████████| 198 kB 52.3 MB/s \n",
            "\u001b[?25hBuilding wheels for collected packages: pyspark\n",
            "  Building wheel for pyspark (setup.py) ... \u001b[?25l\u001b[?25hdone\n",
            "  Created wheel for pyspark: filename=pyspark-3.2.1-py2.py3-none-any.whl size=281853642 sha256=2e8af2be60295e97446df4d040e46ca79b5b9fc3c3f634b23b69fdcf8a71520e\n",
            "  Stored in directory: /root/.cache/pip/wheels/9f/f5/07/7cd8017084dce4e93e84e92efd1e1d5334db05f2e83bcef74f\n",
            "Successfully built pyspark\n",
            "Installing collected packages: py4j, pyspark\n",
            "Successfully installed py4j-0.10.9.3 pyspark-3.2.1\n"
          ]
        }
      ]
    },
    {
      "cell_type": "markdown",
      "source": [
        "## Importamos pyspark - API python para Spark\n",
        "##            radom - para geração pesudo-aleatório de inteiros"
      ],
      "metadata": {
        "id": "Thz_F268x52m"
      }
    },
    {
      "cell_type": "code",
      "source": [
        "import pyspark as ps\n",
        "import random"
      ],
      "metadata": {
        "id": "Rk7rU1Ar3xa_"
      },
      "execution_count": null,
      "outputs": []
    },
    {
      "cell_type": "markdown",
      "source": [
        "# Importamos o SparkContext para definição do espaço RDD\n",
        "- Deve existir apenas um SparkContext por job spark\n",
        "- Note que estamos usando a API RDD.. Mais adiante, usaremos Dataframe"
      ],
      "metadata": {
        "id": "N4DI7mN0yN0B"
      }
    },
    {
      "cell_type": "code",
      "source": [
        "from pyspark.context import SparkContext\n",
        "sc= SparkContext(appName=\"K-means\", master=\"local[4]\")"
      ],
      "metadata": {
        "id": "YHMm1Dw7ACHr"
      },
      "execution_count": null,
      "outputs": []
    },
    {
      "cell_type": "markdown",
      "source": [
        "## Iniciamos um acumulador - Fica armazenado no Driver e pode ser acumulado \n",
        "## a partir dos nós trabalhadores"
      ],
      "metadata": {
        "id": "fA6nXqqjyebn"
      }
    },
    {
      "cell_type": "code",
      "source": [
        "# creates and initializes an accumulator to zero \n",
        "acum=sc.accumulator(0) "
      ],
      "metadata": {
        "id": "M1guqjQ6wqst"
      },
      "execution_count": null,
      "outputs": []
    },
    {
      "cell_type": "markdown",
      "source": [
        "## Criamos uma classe para iniciar as duas listas:\n",
        "\n",
        "*   centroids - conjunto de centroids dos clustes. Inicialmente vazia\n",
        "*   points - lista de pontos a clusterizar\n",
        "\n",
        "\n",
        "  - "
      ],
      "metadata": {
        "id": "C_X8mtlzyzPy"
      }
    },
    {
      "cell_type": "code",
      "source": [
        "class K_means_exemplo_MR:\n",
        "  def __init__(self, k):\n",
        "    self.centroids=random.sample(range(1,1000),k)\n",
        "    self.points=sc.parallelize(random.sample(range(1,5000),1000),2)\n",
        "  \n"
      ],
      "metadata": {
        "id": "aJ8tmRlCchSp"
      },
      "execution_count": null,
      "outputs": []
    },
    {
      "cell_type": "markdown",
      "source": [
        "## Função findCluster\n",
        "  input= p-> ponto sendo avaliado; centroids-> lista de centroids\n",
        "  Objetivo:\n",
        "    c=varrer a lista e encontrar o centroid mais proximo ao ponto \"p\""
      ],
      "metadata": {
        "id": "HtJf8ZHhzMMq"
      }
    },
    {
      "cell_type": "code",
      "source": [
        "def findCluster(p,centroids):\n",
        "    min=999999\n",
        "    for c in centroids:\n",
        "      newdist=abs(p-c)\n",
        "      if  newdist < min:\n",
        "        centroid=c\n",
        "        min = newdist\n",
        "    return [centroid,p]"
      ],
      "metadata": {
        "id": "qO5lzEWTUV-V"
      },
      "execution_count": null,
      "outputs": []
    },
    {
      "cell_type": "markdown",
      "source": [
        "## Função K_Means - função principal\n",
        "  obtém a lista de centroids  randômicos - iniciais (centroids_updt)\n",
        "  inicializa a lista de centroids\n",
        "  realiza um loop até que o processo convirja e centroids == centroids_updt\n",
        "     a função map chama a findCluster-> forma o par (centroid, ponto)\n",
        "     utiliza a função groupByKey para gerar (K,[V])\n",
        "     calcula a media com a soma/|V| dos valores em V\n",
        "     transforma a tupla em  RDD com centroids\n",
        "     incrementa no acumulador o numero de iterações"
      ],
      "metadata": {
        "id": "tQJWHGbf04sd"
      }
    },
    {
      "cell_type": "code",
      "source": [
        "def k_means(k):\n",
        "\n",
        "  k_means = K_means_exemplo_MR(k)\n",
        "  centroids = list([])\n",
        "  centroids_updt = k_means.centroids\n",
        "  print(\"centroids\"+str((centroids)))\n",
        "  print(\"centroid_upd\"+str(centroids_updt))\n",
        "  points=k_means.points\n",
        "  print(str(points.count()))\n",
        "  iter=0\n",
        "  while (sorted(centroids) != sorted(centroids_updt)):\n",
        "    centroids=centroids_updt\n",
        "    keysValues=points.map(lambda j:findCluster(j,centroids))\n",
        "    #MapValues- Passa cada valor do par (key, Values) a função, sem mudar a chave\n",
        "    reducedKeys=keysValues.groupByKey().mapValues(lambda x: sum(x) / len(x))\n",
        "    newKeys=reducedKeys.map(lambda x:x[1])\n",
        "    centroids_updt=newKeys.collect()\n",
        "    acum.add(1)\n",
        "\n",
        "  return centroids_updt"
      ],
      "metadata": {
        "id": "M-w8-SyBSu6l"
      },
      "execution_count": null,
      "outputs": []
    },
    {
      "cell_type": "markdown",
      "source": [
        "## Invoca o process"
      ],
      "metadata": {
        "id": "M_uz2S9H21Ut"
      }
    },
    {
      "cell_type": "code",
      "source": [
        "k=3\n",
        "groups = k_means(k)\n",
        "print(str(groups)+ \"Number of iterations: \"+str(acum))"
      ],
      "metadata": {
        "colab": {
          "base_uri": "https://localhost:8080/"
        },
        "id": "eGs3ek9liyqK",
        "outputId": "58b68cc2-f6a4-4155-e8ef-4000fef88aae"
      },
      "execution_count": null,
      "outputs": [
        {
          "output_type": "stream",
          "name": "stdout",
          "text": [
            "centroids[]\n",
            "centroid_upd[971, 425, 928]\n",
            "1000\n",
            "[2638.045731707317, 890.1173184357542, 4215.232484076433]Number of iterations: 35\n"
          ]
        }
      ]
    }
  ]
}