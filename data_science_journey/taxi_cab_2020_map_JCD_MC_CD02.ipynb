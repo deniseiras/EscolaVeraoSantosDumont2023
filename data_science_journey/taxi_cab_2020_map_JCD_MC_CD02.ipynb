{
  "nbformat": 4,
  "nbformat_minor": 0,
  "metadata": {
    "colab": {
      "provenance": [],
      "include_colab_link": true
    },
    "kernelspec": {
      "name": "python3",
      "display_name": "Python 3"
    },
    "language_info": {
      "name": "python"
    }
  },
  "cells": [
    {
      "cell_type": "markdown",
      "metadata": {
        "id": "view-in-github",
        "colab_type": "text"
      },
      "source": [
        "<a href=\"https://colab.research.google.com/github/deniseiras/EscolaVeraoSantosDumont2023/blob/main/taxi_cab_2020_map_JCD_MC_CD02.ipynb\" target=\"_parent\"><img src=\"https://colab.research.google.com/assets/colab-badge.svg\" alt=\"Open In Colab\"/></a>"
      ]
    },
    {
      "cell_type": "markdown",
      "source": [
        "## Yellow Taxi cab: registra viagens de taxi em Manhattan\n",
        "![picture](https://drive.google.com/uc?export=view&id=1hoFUFSm5IJG-5CQYBtqDK_e2MvMODc1P)\n",
        "## Este notebook explora o processamento de dados tabulares (i.e viagens de taxi)\n",
        "## Neste exemplo, usamos a API RDD.\n",
        "## Procuramos por viagens não muito vantajosas, como muitos passageiros e baixa tarifa :)\n",
        "\n",
        "##site: https://www1.nyc.gov/site/tlc/about/tlc-trip-record-data.page"
      ],
      "metadata": {
        "id": "-Apm2Cju9RYM"
      }
    },
    {
      "cell_type": "code",
      "source": [
        "!pip install pyspark"
      ],
      "metadata": {
        "id": "lO1x219Dh29k",
        "colab": {
          "base_uri": "https://localhost:8080/"
        },
        "outputId": "821007c7-90e8-46e6-865d-8424c8e2b649"
      },
      "execution_count": null,
      "outputs": [
        {
          "output_type": "stream",
          "name": "stdout",
          "text": [
            "Looking in indexes: https://pypi.org/simple, https://us-python.pkg.dev/colab-wheels/public/simple/\n",
            "Collecting pyspark\n",
            "  Downloading pyspark-3.3.1.tar.gz (281.4 MB)\n",
            "\u001b[2K     \u001b[90m━━━━━━━━━━━━━━━━━━━━━━━━━━━━━━━━━━━━━━━\u001b[0m \u001b[32m281.4/281.4 MB\u001b[0m \u001b[31m3.6 MB/s\u001b[0m eta \u001b[36m0:00:00\u001b[0m\n",
            "\u001b[?25h  Preparing metadata (setup.py) ... \u001b[?25l\u001b[?25hdone\n",
            "Collecting py4j==0.10.9.5\n",
            "  Downloading py4j-0.10.9.5-py2.py3-none-any.whl (199 kB)\n",
            "\u001b[2K     \u001b[90m━━━━━━━━━━━━━━━━━━━━━━━━━━━━━━━━━━━━━━\u001b[0m \u001b[32m199.7/199.7 KB\u001b[0m \u001b[31m10.2 MB/s\u001b[0m eta \u001b[36m0:00:00\u001b[0m\n",
            "\u001b[?25hBuilding wheels for collected packages: pyspark\n",
            "  Building wheel for pyspark (setup.py) ... \u001b[?25l\u001b[?25hdone\n",
            "  Created wheel for pyspark: filename=pyspark-3.3.1-py2.py3-none-any.whl size=281845512 sha256=e3a4e625f04c902327fcb3524a04db08b1a8b6e7e0656b3079312305ea6bf65e\n",
            "  Stored in directory: /root/.cache/pip/wheels/43/dc/11/ec201cd671da62fa9c5cc77078235e40722170ceba231d7598\n",
            "Successfully built pyspark\n",
            "Installing collected packages: py4j, pyspark\n",
            "Successfully installed py4j-0.10.9.5 pyspark-3.3.1\n"
          ]
        }
      ]
    },
    {
      "cell_type": "code",
      "source": [
        "import pyspark\n",
        "from pyspark import SparkContext\n",
        "import math"
      ],
      "metadata": {
        "id": "LR7CYJNnb2PC"
      },
      "execution_count": null,
      "outputs": []
    },
    {
      "cell_type": "code",
      "source": [
        "from google.colab import drive"
      ],
      "metadata": {
        "id": "5XVOujU5hd5v"
      },
      "execution_count": null,
      "outputs": []
    },
    {
      "cell_type": "markdown",
      "source": [
        "## Monta um google drive"
      ],
      "metadata": {
        "id": "2cXSuY-8-Fq8"
      }
    },
    {
      "cell_type": "code",
      "source": [
        "drive.mount('/content/gdrive')"
      ],
      "metadata": {
        "colab": {
          "base_uri": "https://localhost:8080/"
        },
        "id": "LgUFFM7IhjI2",
        "outputId": "f10b82b7-252b-4c39-9912-02b814fff860"
      },
      "execution_count": null,
      "outputs": [
        {
          "output_type": "stream",
          "name": "stdout",
          "text": [
            "Mounted at /content/gdrive\n"
          ]
        }
      ]
    },
    {
      "cell_type": "code",
      "source": [
        "!cd /content/gdrive/\n",
        "!wget https://raw.githubusercontent.com/cscardoso/MC-CD02/main/2020_Yellow_Taxi_Trip_Data.csv -O /content/gdrive/MyDrive/yellow_tripdata_2020-01.csv\n",
        "\n"
      ],
      "metadata": {
        "colab": {
          "base_uri": "https://localhost:8080/"
        },
        "id": "b01bMElGyfw4",
        "outputId": "b2d8a7e8-2467-4a70-a316-88fc6d1e087b"
      },
      "execution_count": null,
      "outputs": [
        {
          "output_type": "stream",
          "name": "stdout",
          "text": [
            "--2023-01-31 16:31:18--  https://raw.githubusercontent.com/cscardoso/MC-CD02/main/2020_Yellow_Taxi_Trip_Data.csv\n",
            "Resolving raw.githubusercontent.com (raw.githubusercontent.com)... 185.199.108.133, 185.199.109.133, 185.199.110.133, ...\n",
            "Connecting to raw.githubusercontent.com (raw.githubusercontent.com)|185.199.108.133|:443... connected.\n",
            "HTTP request sent, awaiting response... 200 OK\n",
            "Length: 24162586 (23M) [text/plain]\n",
            "Saving to: ‘/content/gdrive/MyDrive/yellow_tripdata_2020-01.csv’\n",
            "\n",
            "/content/gdrive/MyD 100%[===================>]  23.04M  50.7MB/s    in 0.5s    \n",
            "\n",
            "2023-01-31 16:31:19 (50.7 MB/s) - ‘/content/gdrive/MyDrive/yellow_tripdata_2020-01.csv’ saved [24162586/24162586]\n",
            "\n"
          ]
        }
      ]
    },
    {
      "cell_type": "code",
      "source": [
        "!ls -la /content/gdrive/MyDrive\n",
        "!head /content/gdrive/MyDrive/yellow_tripdata_2020-01.csv"
      ],
      "metadata": {
        "colab": {
          "base_uri": "https://localhost:8080/"
        },
        "id": "wZAs_avujM-d",
        "outputId": "c3213ee8-a734-4907-bcf2-136a7474d474"
      },
      "execution_count": null,
      "outputs": [
        {
          "output_type": "stream",
          "name": "stdout",
          "text": [
            "total 917695\n",
            "-rw------- 1 root root       178 May 27  2021 '21ª Reunião -  07-05-21 - Integração do DJEnsemble ao sistema Gypscie (gqn-agdh-sue – 27 de mai. de 2021).gjam'\n",
            "drwx------ 2 root root      4096 Jan  6  2022  Aluguel\n",
            "drwx------ 2 root root      4096 Feb 28  2018  Anmily\n",
            "drwx------ 2 root root      4096 Jan 29  2019  app\n",
            "drwx------ 2 root root      4096 Jan 29  2020  Apresentacao_Petrobras\n",
            "-rw------- 1 root root     28995 Nov 11 12:37 'Arquivos Radar.xlsx'\n",
            "-rw------- 1 root root       178 Feb 21  2020 'assinado_Formulario para postulante a DAS-FCPE_anmilypaulamartins.gdoc'\n",
            "-rw------- 1 root root    301807 Feb 21  2020 'assinado_Formulario para postulante a DAS-FCPE_anmilypaulamartins.pdf'\n",
            "drwx------ 2 root root      4096 Jun 22  2020 'Audio Tereza'\n",
            "-rw------- 1 root root       178 Sep 12  2017 'Automação exclusividade YARN.gdraw'\n",
            "drwx------ 2 root root      4096 May  6  2020 'AVMC Pós-graduação'\n",
            "-rw------- 1 root root       178 May  9  2022 'BOLETO_20908_19393497_07052022_084050_90679 (1).PDF.gdoc'\n",
            "-rw------- 1 root root     60692 May  7  2022  BOLETO_20908_19393497_07052022_084050_90679.PDF\n",
            "-rw------- 1 root root       178 May  9  2022  BOLETO_20908_19393497_07052022_084050_90679.PDF.gdoc\n",
            "-rw------- 1 root root     58237 May  7  2022  BOLETO_26457_19393497_07052022_084051_54852.PDF\n",
            "-rw------- 1 root root       178 May  9  2022  BOLETO_26457_19393497_07052022_084051_54852.PDF.gdoc\n",
            "-rw------- 1 root root   2210275 Mar 17  2020  build.zip\n",
            "-rw------- 1 root root     18432 Jun  1  2017  Carlos_Leonardo_Souza_Cardoso-2015-05.doc\n",
            "-rw------- 1 root root       178 Jun  7  2017  Carlos_Leonardo_Souza_Cardoso-2015-05.doc.gdoc\n",
            "-rw------- 1 root root       178 Jun  7  2017  Carlos_Leonardo_Souza_Cardoso-2017-06-curriculo.doc.gdoc\n",
            "-rw------- 1 root root 155828090 Jul  3  2018  carlos-trab-final.zip\n",
            "-rw------- 1 root root       178 Feb  6  2018 'Carta Intenção Fiocruz.gdoc'\n",
            "-rw------- 1 root root  39552463 Mar 20  2017  c-completo-total.pdf\n",
            "drwx------ 2 root root      4096 May  2  2018  Certificados\n",
            "drwx------ 2 root root      4096 Mar 28  2018 'Ciência de dados aplicada a saúde - CDAS'\n",
            "drwx------ 2 root root      4096 Nov  8  2017  CKAN\n",
            "drwx------ 2 root root      4096 Mar 28  2018  Classroom\n",
            "drwx------ 2 root root      4096 Apr 16  2021 'Colab Notebooks'\n",
            "-rw------- 1 root root     15494 Nov 23  2016 'CONSIDERAÇÕES FINAIS_Carlos_revi2.docx'\n",
            "-rw------- 1 root root     22316 Jun  7  2019  ConvLSTM.ipynb\n",
            "-rw------- 1 root root     12567 Nov 29  2021 'Cópia de notebook_01.ipynb'\n",
            "-rw------- 1 root root       178 Oct  9  2019 'Cópia de SNCT2019 - Workflow para a apresentação.gdraw'\n",
            "drwx------ 2 root root      4096 Dec 10  2019  Cotações\n",
            "-rw------- 1 root root     73235 Feb 10  2020  Curso_Redes.ipynb\n",
            "drwx------ 2 root root      4096 Feb 10  2020  Cursos\n",
            "-rw------- 1 root root       178 Feb 12  2020  Dependencias_curso_verao2019.gdoc\n",
            "drwx------ 2 root root      4096 Aug 31 17:46  DEXL\n",
            "-rw------- 1 root root  20791541 Oct 19  2019  DEXL-SNCT.pptx\n",
            "-rw------- 1 root root   2422105 Mar 24  2020  docs.zip\n",
            "drwx------ 2 root root      4096 Jul 17  2018  Documentação\n",
            "-rw------- 1 root root       178 Jan  1  2020 'Documento sem nome.gdoc'\n",
            "-rw------- 1 root root     20341 Jan 25  2016  EnvelopePagamento_20154.pdf\n",
            "-rw------- 1 root root       178 Nov  5  2018  Estimativa_de_custo___Equipamentos_de_TIC.gdoc\n",
            "-rw------- 1 root root     76527 Nov  5  2018  Estimativa_de_custo___Equipamentos_de_TIC.pdf\n",
            "drwx------ 2 root root      4096 Jan 21  2020  Estudo\n",
            "-rw------- 1 root root   1443464 Jul 20  2021  exemplo.h5\n",
            "-rw------- 1 root root       178 Sep 23  2009 'exercecicios de fixação.gdoc'\n",
            "-rw------- 1 root root     51161 Feb 21  2014  ExtratoCompleto.pdf\n",
            "-rw------- 1 root root    145068 May 18  2022 'Ficha Cadastral Bolsista (4).docx'\n",
            "-rw------- 1 root root     66387 Aug  7  2018  ficha-fiocruz.pdf\n",
            "drwx------ 2 root root      4096 Sep 12  2018  FIOCRUZ\n",
            "drwx------ 2 root root      4096 Mar 19  2018  Fiocruz-particular\n",
            "-rw------- 1 root root       178 Apr 25  2019 'Fonte FATNODE.gdoc'\n",
            "-rw------- 1 root root       178 Sep  6 17:20  Form_acesso_admin_desktop-fporto.gdoc\n",
            "-rw------- 1 root root    149319 Sep  6 16:00  Form_acesso_admin_desktop-fporto.pdf\n",
            "-rw------- 1 root root       178 Mar  7  2022  Form_acesso_administrador_cpd.gdoc\n",
            "-rw------- 1 root root    183819 Feb 10  2022  Form_acesso_administrador_cpd.pdf\n",
            "-rw------- 1 root root     48058 Oct 14 17:05 'foto_carlos-2022 (1).png'\n",
            "-rw------- 1 root root     48058 Oct 14 17:16  foto_carlos-2022.png\n",
            "-rw------- 1 root root    210002 Jul 29  2021  foto_carlos.jpg\n",
            "drwx------ 2 root root      4096 Jun 26  2020  ga0092020\n",
            "drwx------ 2 root root      4096 Jul 31  2019 'Gpu tesla imagens'\n",
            "drwx------ 2 root root      4096 Mar 30  2020  gypsciedocs\n",
            "-rw------- 1 root root 634602173 Jan 21  2020  gypscie-tests.tar.gz\n",
            "drwx------ 2 root root      4096 Feb  4  2020  Gypscieweb\n",
            "-rw------- 1 root root  29606910 Jan 28  2020  Gypscie-Web-meu.zip\n",
            "drwx------ 2 root root      4096 Dec  3  2019  handson\n",
            "-rw------- 1 root root   1071524 May 13  2015 'Imagem Colorida_1.JPG'\n",
            "drwx------ 2 root root      4096 Sep  9  2019 'Imagens e vídeos pessoais'\n",
            "drwx------ 2 root root      4096 Dec 23  2019  Ligações_gravas-2019\n",
            "drwx------ 2 root root      4096 Nov 26  2019  logs\n",
            "drwx------ 2 root root      4096 Sep 19  2019  Loterias\n",
            "-rw------- 1 root root     11185 Mar 15  2018 'Manutencao KIA PICANTO 2011.docx'\n",
            "-rw------- 1 root root       178 Mar 15  2018 'Manutencao KIA PICANTO 2011.docx.gdoc'\n",
            "-rw------- 1 root root       178 Aug 21  2012  Memorial.gdoc\n",
            "-rw------- 1 root root     19413 Mar 18  2020 'Microsoft Word - ARQUITETURA E URBANISMO_Geometria - Desenho e Forma_PORTE.pdf'\n",
            "-rw------- 1 root root       178 Jun 14  2013 'Migração Pergamum X TEDE.gdoc'\n",
            "-rw------- 1 root root     41388 Aug 18 13:49 'Minuta do Contrato Revisada - 20220818.docx'\n",
            "-rw------- 1 root root       178 Sep 10  2021 'mqp-vroq-fti – 9 de set. de 2021.gjam'\n",
            "drwx------ 2 root root      4096 Jul 30  2018  NET\n",
            "-rw------- 1 root root       178 May 28  2021 'NF 18260.gdoc'\n",
            "-rw------- 1 root root    118772 May 28  2021 'NF 18260.pdf'\n",
            "-rw------- 1 root root     10816 Dec  5  2018  Orçamento_INTELIPETRO.odt\n",
            "-rw------- 1 root root   1485179 Mar  6  2020  P200810_20.14.jpg\n",
            "-rw------- 1 root root    213757 May 31  2022 'Participantes - módulos.xlsx'\n",
            "-rw------- 1 root root       178 Apr 17  2013  Pergamum.gdoc\n",
            "drwx------ 2 root root      4096 Jan  1  2020  Pessoal\n",
            "drwx------ 2 root root      4096 May 23  2019 'PetroTIC '\n",
            "-rw------- 1 root root       167 Jul 15  2020  Portfólio.gsite\n",
            "drwx------ 2 root root      4096 Nov 18  2013  Pós\n",
            "-rw------- 1 root root       178 Dec 15  2016  Poster_15-12-2.ppt.gslides\n",
            "-rw------- 1 root root    873984 Dec 15  2016  Poster_15-12.ppt\n",
            "drwx------ 2 root root      4096 Mar  9  2015  pos-uff\n",
            "drwx------ 2 root root      4096 Aug 22  2013  ProjetoGadelha\n",
            "-rw------- 1 root root       178 Sep 12  2017 'Proposta automação YARN.gdoc'\n",
            "-rw------- 1 root root   2375727 Feb  6  2020  RED18-038_Hybrid_Cloud_Strategy_ebook_newbrand_final_a4-ptbr_0.pdf\n",
            "-rw------- 1 root root   3866930 Feb 24  2022 'Relatório máquinas Petrus com problemasBigBlue.pdf'\n",
            "-rw------- 1 root root       178 Dec  2 11:48 'Relatório máquinas Petrus com problemas.gdoc'\n",
            "drwx------ 2 root root      4096 Dec  8  2017  Relatorios\n",
            "-rw------- 1 root root       178 Jul 10  2022  Relatorio_SISDEF_Carlos-1121-0322.docx.gdoc\n",
            "-rw------- 1 root root   2810042 Mar 30  2022  Relatorio_SISDEF_Carlos-1121-0322.docx.pdf\n",
            "-rw------- 1 root root       178 Nov 11  2019 'Reunião Paulo 11 11 2019 - DEV.gdoc'\n",
            "-rw------- 1 root root    185222 Mar  9  2018  SAHA.zip\n",
            "-rw------- 1 root root       178 Jul 24  2020 'Senha dexl.gdoc'\n",
            "-rw------- 1 root root       167 Jul 15  2020 'Site teste.gsite'\n",
            "-rw------- 1 root root   1032732 Mar 20  2017  slago-C.pdf\n",
            "-rw------- 1 root root     57696 Mar  6  2020  SUNP0025.JPG\n",
            "-rw------- 1 root root    118737 Mar  6  2020  SUNP0032.JPG\n",
            "-rw------- 1 root root    108445 Mar  6  2020  SUNP0034.JPG\n",
            "-rw------- 1 root root    201691 Mar 14  2020  termo-aceite-captura-face-Manifesto.pdf\n",
            "drwx------ 2 root root      4096 Dec 18  2020  Testes-Gypcie\n",
            "drwx------ 2 root root      4096 Dec 20  2019 'Testes Gypscie'\n",
            "drwx------ 2 root root      4096 Feb 17  2020  tinymodel\n",
            "-rw------- 1 root root      1183 Sep 28 19:53  Untitled0.ipynb\n",
            "-rw------- 1 root root       178 Aug  4 18:21 'upgrade (1).gdoc'\n",
            "-rw------- 1 root root       178 Aug  4 18:21  upgrade.gdoc\n",
            "-rw------- 1 root root      1297 Aug  2 08:28  upgrade.txt\n",
            "-rw------- 1 root root       178 Aug  5  2018 'Usuários com página pessoal no LNCC.gsheet'\n",
            "drwx------ 2 root root      4096 Aug 29  2018  Veiculos\n",
            "-rw------- 1 root root  12720205 Feb 20  2020 'Video Demonstrativo Savime.mp4'\n",
            "-rw------- 1 root root  24162586 Jan 31 16:31  yellow_tripdata_2020-01.csv\n",
            "VendorID,tpep_pickup_datetime,tpep_dropoff_datetime,passenger_count,trip_distance,RatecodeID,store_and_fwd_flag,PULocationID,DOLocationID,payment_type,fare_amount,extra,mta_tax,tip_amount,tolls_amount,improvement_surcharge,total_amount,congestion_surcharge\n",
            "1,01/01/2020 12:00:00 AM,01/01/2020 12:13:03 AM,1,2.2,1,N,68,170,1,10.5,3,0.5,2.85,0,0.3,17.15,2.5\n",
            "2,01/01/2020 12:00:00 AM,01/01/2020 01:08:55 AM,5,1.43,1,N,48,239,2,6.5,0.5,0.5,0,0,0.3,10.3,2.5\n",
            "2,01/01/2020 12:00:00 AM,01/01/2020 01:25:09 AM,5,1.74,1,N,142,264,2,7.5,3,0.5,0,0,0.3,11.3,0\n",
            "2,01/01/2020 12:00:00 AM,01/01/2020 01:45:06 AM,5,1.35,1,N,48,68,2,8.5,0.5,0.5,0,0,0.3,12.3,2.5\n",
            "2,01/01/2020 12:00:00 AM,01/01/2020 02:02:39 AM,5,2.33,1,N,186,79,2,11.5,0.5,0.5,0,0,0.3,15.3,2.5\n",
            "2,01/01/2020 12:00:00 AM,01/01/2020 03:48:49 AM,5,5.44,1,N,144,146,2,18.5,0.5,0.5,0,0,0.3,22.3,2.5\n",
            "2,01/01/2020 12:00:00 AM,01/01/2020 04:17:14 AM,5,0.96,1,N,68,50,2,5.5,0.5,0.5,0,0,0.3,9.3,2.5\n",
            "2,01/01/2020 12:00:02 AM,01/01/2020 12:16:49 AM,1,1.68,1,N,68,246,2,11,0.5,0.5,0,0,0.3,14.8,2.5\n",
            "1,01/01/2020 12:00:03 AM,01/01/2020 12:13:04 AM,2,3,1,N,79,162,1,11.5,3,0.5,2,0,0.3,17.3,2.5\n"
          ]
        }
      ]
    },
    {
      "cell_type": "code",
      "source": [
        "spark = SparkContext(appName=\"aula-1\", master=\"local[4]\")"
      ],
      "metadata": {
        "id": "RtuEabmRb5qL"
      },
      "execution_count": null,
      "outputs": []
    },
    {
      "cell_type": "markdown",
      "source": [
        "## Lê o arquivo no google drive\n",
        "- O resultado cria um RDD com uma entrada por linha do arquivo\n",
        "- um filtro retira a linha de cabeçalho:\n",
        "VendorID,tpep_pickup_datetime,tpep_dropoff_datetime,passenger_count,trip_distance,RatecodeID,store_and_fwd_flag,PULocationID,DOLocationID,payment_type,fare_amount,extra,mta_tax,tip_amount,tolls_amount,improvement_surcharge,total_amount,congestion_surcharge"
      ],
      "metadata": {
        "id": "BLZ2vWfU-L8N"
      }
    },
    {
      "cell_type": "code",
      "source": [
        "taxi_file_header = spark.textFile(\"/content/gdrive/MyDrive/yellow_tripdata_2020-01.csv\")\n",
        "taxi_file= taxi_file_header.filter(lambda l: not l.startswith(\"VendorID\"))"
      ],
      "metadata": {
        "id": "f8xXDOKPceWb"
      },
      "execution_count": null,
      "outputs": []
    },
    {
      "cell_type": "code",
      "source": [
        "def testa_VendorId(id):\n",
        "  if not id.isnumeric():\n",
        "    return False\n",
        "  else:  \n",
        "    if (int(id) <= 20):\n",
        "      return True\n",
        "    else:\n",
        "      return False    "
      ],
      "metadata": {
        "id": "x93yzMjpUTs_"
      },
      "execution_count": null,
      "outputs": []
    },
    {
      "cell_type": "markdown",
      "source": [
        "## Gera um RDD onde cada item é extraido do arquivo a partir\n",
        "## da delimitação por vírgula.\n",
        "## Em seguida, filtra as entradas com VendorId <= 20"
      ],
      "metadata": {
        "id": "FbhtZj3X-UCa"
      }
    },
    {
      "cell_type": "code",
      "source": [
        "print(taxi_file.count())\n",
        "trip_column= taxi_file.map(lambda a: a.split(\",\"))\n",
        "print(trip_column.take(1))\n",
        "list_trip = trip_column.filter(lambda a:testa_VendorId(a[0]))"
      ],
      "metadata": {
        "id": "PlTYxkMgdCv3",
        "colab": {
          "base_uri": "https://localhost:8080/"
        },
        "outputId": "d224cc1f-efc9-4a2c-da58-860672cea4ab"
      },
      "execution_count": null,
      "outputs": [
        {
          "output_type": "stream",
          "name": "stdout",
          "text": [
            "246318\n",
            "[['1', '01/01/2020 12:00:00 AM', '01/01/2020 12:13:03 AM', '1', '2.2', '1', 'N', '68', '170', '1', '10.5', '3', '0.5', '2.85', '0', '0.3', '17.15', '2.5']]\n"
          ]
        }
      ]
    },
    {
      "cell_type": "code",
      "source": [
        "\n",
        "print(\"Total de Linhas:\"+str(list_trip.count()))"
      ],
      "metadata": {
        "colab": {
          "base_uri": "https://localhost:8080/"
        },
        "id": "KonD-1SQgrG-",
        "outputId": "28c2f87b-80a2-48c8-ff86-96e9d52f7390"
      },
      "execution_count": null,
      "outputs": [
        {
          "output_type": "stream",
          "name": "stdout",
          "text": [
            "Total de Linhas:244306\n"
          ]
        }
      ]
    },
    {
      "cell_type": "markdown",
      "source": [
        "## Criando pipelines sobre o RDD list_trip"
      ],
      "metadata": {
        "id": "WGUxdcdB5Cbq"
      }
    },
    {
      "cell_type": "markdown",
      "source": [
        "# Spark Dataflow\n",
        "\n",
        "1.   map\n",
        "2.   groupBy\n",
        "3.   MapValues\n",
        "\n",
        "\n",
        "\n",
        "\n",
        "\n",
        "\n"
      ],
      "metadata": {
        "id": "zyinMEtticHM"
      }
    },
    {
      "cell_type": "code",
      "source": [
        "\n",
        "transformIntRDD = list_trip.map(lambda a: (a[0],float(a[11])))\n",
        "transformRDD = transformIntRDD.groupByKey().mapValues(lambda v:sum(v))"
      ],
      "metadata": {
        "id": "kZGxf64k5KKx"
      },
      "execution_count": null,
      "outputs": []
    },
    {
      "cell_type": "code",
      "source": [
        "transformRDD.take(2)"
      ],
      "metadata": {
        "colab": {
          "base_uri": "https://localhost:8080/"
        },
        "id": "o2STZ4JSo4Pc",
        "outputId": "7a43388c-708d-4448-9a60-4670ef69b7f7"
      },
      "execution_count": null,
      "outputs": [
        {
          "output_type": "execute_result",
          "data": {
            "text/plain": [
              "[('1', 180107.5), ('2', 37003.42000000004)]"
            ]
          },
          "metadata": {},
          "execution_count": 13
        }
      ]
    },
    {
      "cell_type": "markdown",
      "source": [
        "\n",
        "# Projeta: VendorId, Numero de passageiros, Valores de Tarifa \n",
        "\n"
      ],
      "metadata": {
        "id": "wkjmhcH2jCrF"
      }
    },
    {
      "cell_type": "code",
      "source": [
        "projectedRDD = list_trip.map(lambda a: (a[0],a[3],a[11]))"
      ],
      "metadata": {
        "id": "n_WwTVAihEY8"
      },
      "execution_count": null,
      "outputs": []
    },
    {
      "cell_type": "markdown",
      "source": [
        "\n",
        "\n",
        "\n",
        "## DataFlow: Calcula viagens prejuizo\n",
        "\n",
        "\n",
        "\n",
        "1.   filter\n",
        "2.   map\n",
        "\n",
        "\n",
        "\n"
      ],
      "metadata": {
        "id": "jRmxc_4kjVFJ"
      }
    },
    {
      "cell_type": "code",
      "source": [
        "print(projectedRDD.take(10))\n",
        "print(projectedRDD.count())\n",
        "tarifa_altaRDD = projectedRDD.filter(lambda a: float(a[2]) >5 and int(a[1])>3)\n",
        "print(tarifa_altaRDD.count())"
      ],
      "metadata": {
        "id": "MUBwFn9z8jcq",
        "colab": {
          "base_uri": "https://localhost:8080/"
        },
        "outputId": "49b08bde-737c-4a62-8752-2f313cbfb6ad"
      },
      "execution_count": null,
      "outputs": [
        {
          "output_type": "stream",
          "name": "stdout",
          "text": [
            "[('1', '1', '3'), ('2', '5', '0.5'), ('2', '5', '3'), ('2', '5', '0.5'), ('2', '5', '0.5'), ('2', '5', '0.5'), ('2', '5', '0.5'), ('2', '1', '0.5'), ('1', '2', '3'), ('1', '0', '3')]\n",
            "244306\n",
            "0\n"
          ]
        }
      ]
    },
    {
      "cell_type": "code",
      "source": [
        "prejuizo=tarifa_altaRDD.count()"
      ],
      "metadata": {
        "id": "Mk6UEnlJj2E2"
      },
      "execution_count": null,
      "outputs": []
    },
    {
      "cell_type": "code",
      "source": [
        "print(\"Viagens Prejuizo: \"+str(prejuizo))"
      ],
      "metadata": {
        "colab": {
          "base_uri": "https://localhost:8080/"
        },
        "id": "zDRfdhsWAMVg",
        "outputId": "f46857ee-98b1-4839-8aa1-c994b616c60e"
      },
      "execution_count": null,
      "outputs": [
        {
          "output_type": "stream",
          "name": "stdout",
          "text": [
            "Viagens Prejuizo: 0\n"
          ]
        }
      ]
    },
    {
      "cell_type": "code",
      "source": [
        "!jps"
      ],
      "metadata": {
        "id": "BDKTsALbn9gc",
        "colab": {
          "base_uri": "https://localhost:8080/"
        },
        "outputId": "9193a54a-7fb0-465d-8302-2fb7d625402b"
      },
      "execution_count": null,
      "outputs": [
        {
          "output_type": "stream",
          "name": "stdout",
          "text": [
            "2288 SparkSubmit\n",
            "2756 Jps\n"
          ]
        }
      ]
    },
    {
      "cell_type": "code",
      "source": [],
      "metadata": {
        "id": "gHShfIeurAjZ"
      },
      "execution_count": null,
      "outputs": []
    }
  ]
}