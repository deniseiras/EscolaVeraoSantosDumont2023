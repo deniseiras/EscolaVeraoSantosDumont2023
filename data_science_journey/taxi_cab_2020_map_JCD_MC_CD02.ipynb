{
  "nbformat": 4,
  "nbformat_minor": 0,
  "metadata": {
    "colab": {
      "provenance": [],
      "include_colab_link": true
    },
    "kernelspec": {
      "name": "python3",
      "display_name": "Python 3"
    },
    "language_info": {
      "name": "python"
    }
  },
  "cells": [
    {
      "cell_type": "markdown",
      "metadata": {
        "id": "view-in-github",
        "colab_type": "text"
      },
      "source": [
        "<a href=\"https://colab.research.google.com/github/deniseiras/EscolaVeraoSantosDumont2023/blob/main/data_science_journey/taxi_cab_2020_map_JCD_MC_CD02.ipynb\" target=\"_parent\"><img src=\"https://colab.research.google.com/assets/colab-badge.svg\" alt=\"Open In Colab\"/></a>"
      ]
    },
    {
      "cell_type": "markdown",
      "source": [
        "## Yellow Taxi cab: registra viagens de taxi em Manhattan\n",
        "![picture](https://drive.google.com/uc?export=view&id=1hoFUFSm5IJG-5CQYBtqDK_e2MvMODc1P)\n",
        "## Este notebook explora o processamento de dados tabulares (i.e viagens de taxi)\n",
        "## Neste exemplo, usamos a API RDD.\n",
        "## Procuramos por viagens não muito vantajosas, como muitos passageiros e baixa tarifa :)\n",
        "\n",
        "##site: https://www1.nyc.gov/site/tlc/about/tlc-trip-record-data.page"
      ],
      "metadata": {
        "id": "-Apm2Cju9RYM"
      }
    },
    {
      "cell_type": "code",
      "source": [
        "!pip install pyspark"
      ],
      "metadata": {
        "id": "lO1x219Dh29k",
        "colab": {
          "base_uri": "https://localhost:8080/"
        },
        "outputId": "2606aaca-d577-4093-fb4b-98f4d589b75a"
      },
      "execution_count": 1,
      "outputs": [
        {
          "output_type": "stream",
          "name": "stdout",
          "text": [
            "Looking in indexes: https://pypi.org/simple, https://us-python.pkg.dev/colab-wheels/public/simple/\n",
            "Collecting pyspark\n",
            "  Downloading pyspark-3.3.1.tar.gz (281.4 MB)\n",
            "\u001b[2K     \u001b[90m━━━━━━━━━━━━━━━━━━━━━━━━━━━━━━━━━━━━━━━\u001b[0m \u001b[32m281.4/281.4 MB\u001b[0m \u001b[31m1.8 MB/s\u001b[0m eta \u001b[36m0:00:00\u001b[0m\n",
            "\u001b[?25h  Preparing metadata (setup.py) ... \u001b[?25l\u001b[?25hdone\n",
            "Collecting py4j==0.10.9.5\n",
            "  Downloading py4j-0.10.9.5-py2.py3-none-any.whl (199 kB)\n",
            "\u001b[2K     \u001b[90m━━━━━━━━━━━━━━━━━━━━━━━━━━━━━━━━━━━━━━\u001b[0m \u001b[32m199.7/199.7 KB\u001b[0m \u001b[31m21.0 MB/s\u001b[0m eta \u001b[36m0:00:00\u001b[0m\n",
            "\u001b[?25hBuilding wheels for collected packages: pyspark\n",
            "  Building wheel for pyspark (setup.py) ... \u001b[?25l\u001b[?25hdone\n",
            "  Created wheel for pyspark: filename=pyspark-3.3.1-py2.py3-none-any.whl size=281845512 sha256=f2e6953108b662ddacb081046ddca654e9a3fba283117c630202d7fa005e7cc4\n",
            "  Stored in directory: /root/.cache/pip/wheels/43/dc/11/ec201cd671da62fa9c5cc77078235e40722170ceba231d7598\n",
            "Successfully built pyspark\n",
            "Installing collected packages: py4j, pyspark\n",
            "Successfully installed py4j-0.10.9.5 pyspark-3.3.1\n"
          ]
        }
      ]
    },
    {
      "cell_type": "code",
      "source": [
        "import pyspark\n",
        "from pyspark import SparkContext\n",
        "import math"
      ],
      "metadata": {
        "id": "LR7CYJNnb2PC"
      },
      "execution_count": 2,
      "outputs": []
    },
    {
      "cell_type": "code",
      "source": [
        "from google.colab import drive"
      ],
      "metadata": {
        "id": "5XVOujU5hd5v"
      },
      "execution_count": 3,
      "outputs": []
    },
    {
      "cell_type": "markdown",
      "source": [
        "## Monta um google drive"
      ],
      "metadata": {
        "id": "2cXSuY-8-Fq8"
      }
    },
    {
      "cell_type": "code",
      "source": [
        "drive.mount('/content/gdrive')"
      ],
      "metadata": {
        "colab": {
          "base_uri": "https://localhost:8080/"
        },
        "id": "LgUFFM7IhjI2",
        "outputId": "8eb7855a-d1f2-460a-be91-befe91b9d906"
      },
      "execution_count": 4,
      "outputs": [
        {
          "output_type": "stream",
          "name": "stdout",
          "text": [
            "Mounted at /content/gdrive\n"
          ]
        }
      ]
    },
    {
      "cell_type": "code",
      "source": [
        "!cd /content/gdrive/\n",
        "!wget https://raw.githubusercontent.com/cscardoso/MC-CD02/main/2020_Yellow_Taxi_Trip_Data.csv -O /content/gdrive/MyDrive/yellow_tripdata_2020-01.csv\n",
        "\n"
      ],
      "metadata": {
        "colab": {
          "base_uri": "https://localhost:8080/"
        },
        "id": "b01bMElGyfw4",
        "outputId": "c56f1577-a12f-4345-c650-c76c1226fadd"
      },
      "execution_count": 5,
      "outputs": [
        {
          "output_type": "stream",
          "name": "stdout",
          "text": [
            "--2023-02-01 17:36:25--  https://raw.githubusercontent.com/cscardoso/MC-CD02/main/2020_Yellow_Taxi_Trip_Data.csv\n",
            "Resolving raw.githubusercontent.com (raw.githubusercontent.com)... 185.199.108.133, 185.199.109.133, 185.199.110.133, ...\n",
            "Connecting to raw.githubusercontent.com (raw.githubusercontent.com)|185.199.108.133|:443... connected.\n",
            "HTTP request sent, awaiting response... 200 OK\n",
            "Length: 24162586 (23M) [text/plain]\n",
            "Saving to: ‘/content/gdrive/MyDrive/yellow_tripdata_2020-01.csv’\n",
            "\n",
            "/content/gdrive/MyD 100%[===================>]  23.04M  62.2MB/s    in 0.4s    \n",
            "\n",
            "2023-02-01 17:36:25 (62.2 MB/s) - ‘/content/gdrive/MyDrive/yellow_tripdata_2020-01.csv’ saved [24162586/24162586]\n",
            "\n"
          ]
        }
      ]
    },
    {
      "cell_type": "code",
      "source": [
        "!ls -la /content/gdrive/MyDrive\n",
        "!head /content/gdrive/MyDrive/yellow_tripdata_2020-01.csv"
      ],
      "metadata": {
        "colab": {
          "base_uri": "https://localhost:8080/"
        },
        "id": "wZAs_avujM-d",
        "outputId": "3a247548-3987-4c8e-b488-9a21a8beda3f"
      },
      "execution_count": 6,
      "outputs": [
        {
          "output_type": "stream",
          "name": "stdout",
          "text": [
            "ls: '/content/gdrive/MyDrive/Homebrew Experience - Material para Estudos Sobre Cerveja em Geral.': No such file or directory\n",
            "total 28064\n",
            "-rw------- 1 root root      176 Apr 15  2020 '❷ AÇÕES DE DESENVOLVIMENTO DE SERVIDORES PREVISTAS PARA 2021.gsheet'\n",
            "-rw------- 1 root root   966245 Apr 28  2022 'Acoes LSTM.ipynb'\n",
            "-rw------- 1 root root      176 Jan 18  2021 'Analise RMSE.gsheet'\n",
            "-rw------- 1 root root   283941 Apr  8  2022 'analise_sensorial_-_flavors_-_port (1).pdf'\n",
            "-rw------- 1 root root      176 Nov  6  2019 'Ap .gsheet'\n",
            "-rw------- 1 root root      176 Jul 29  2019  aula6.gdoc\n",
            "-rw------- 1 root root      160 Jun  5  2015  Barreiro.gmap\n",
            "drwx------ 2 root root     4096 Nov 16  2021  beer_imgs\n",
            "-rw------- 1 root root      176 Jul 16  2019  Brochura.gdoc\n",
            "-rw------- 1 root root      176 Nov  4  2021 'CAP-421-3_Aprendizado Profundo_Prof Valdivino Santiago_A11_CNN Architectures.gdoc'\n",
            "-rw------- 1 root root      176 Aug 11  2016 'Carnaval em Paraty.gsheet'\n",
            "-rw------- 1 root root      176 Jun 14  2021  Carro.gsheet\n",
            "-rw------- 1 root root      176 Sep  4  2013  Casa.gsheet\n",
            "-rw------- 1 root root      160 Jun  5  2015 'Casa - Sk8 Sumare.gmap'\n",
            "-rw------- 1 root root      176 Apr 15  2019 'Catálogo LAC - CA - 2019.gsheet'\n",
            "-rw------- 1 root root    84326 Oct 10 22:01  Certificado_Nacional_de_Covid-19..pdf\n",
            "-rw------- 1 root root       78 Oct 30 18:32 'City Tour em Montevidéu - Google My Maps'\n",
            "drwx------ 2 root root     4096 Aug 29  2017  Classroom\n",
            "drwx------ 2 root root     4096 Aug 27  2019 'Colab Notebooks'\n",
            "-rw------- 1 root root      176 Dec  7  2015 'compras festa .gsheet'\n",
            "-rw------- 1 root root      176 Aug 17  2016 'Conexao em Montevideu - onde ir.gdoc'\n",
            "-rw------- 1 root root      176 May  8  2017  Contas.gsheet\n",
            "-rw------- 1 root root      176 Sep 17  2021  Conversões.gdoc\n",
            "-rw------- 1 root root    28563 Oct 14  2020  CUV_MAGALHAES_DE_A_EIRAS_DENIS_9572134876765.pdf\n",
            "drwx------ 2 root root     4096 Sep  9 11:54  CV\n",
            "-rw------- 1 root root      176 May 18  2021 'CV Denis Eiras.gdoc'\n",
            "drwx------ 2 root root     4096 Mar 25  2022  DENIS.CPTEC\n",
            "-rw------- 1 root root    58565 May 25  2022 'Denis Eiras - 2022 - Linkedin.pdf'\n",
            "-rw------- 1 root root      176 May  3  2017 'Documento sem título (1).gdoc'\n",
            "-rw------- 1 root root      176 Aug 19 18:52 'Documento sem título.gdoc'\n",
            "-rw------- 1 root root      176 Aug 12 13:21 'DONE - Emulacao de uma microfisica com Deep Learning_v0.9.0.gdoc'\n",
            "drwx------ 2 root root     4096 Nov  9  2020  DS\n",
            "-rw------- 1 root root      176 Mar 28  2017  Esteira.gsheet\n",
            "-rw------- 1 root root    18361 Dec 11  2020  Floripa.docx\n",
            "-rw------- 1 root root      176 Jan 12  2021 'gastos ferias 2020 2021.gsheet'\n",
            "-rw------- 1 root root      176 Mar 20  2019 'Gastos Porto G..gsheet'\n",
            "lrw------- 1 root root        0 Apr 27  2022 'Homebrew Experience - Material para Estudos Sobre Cerveja em Geral.' -> '/content/gdrive/.shortcut-targets-by-id/180-d529V8GpYFEI-wgDHSKFHT1ZQIIUR/Homebrew Experience - Material para Estudos Sobre Cerveja em Geral.'\n",
            "-rw------- 1 root root      176 Mar  3  2022  Investimento.gsheet\n",
            "-rw------- 1 root root      176 Nov  5  2019 'Jam sem título.gjam'\n",
            "-rw------- 1 root root      176 Apr 10  2013 'KIT CAIPIRINHA BRAZIL 2013.gsheet'\n",
            "-rw------- 1 root root    17453 Aug  4 04:27 'log_bias (10).csv'\n",
            "-rw------- 1 root root    17442 Aug  4 02:27 'log_bias (11).csv'\n",
            "-rw------- 1 root root    17338 Aug  3 18:19 'log_bias (12).csv'\n",
            "-rw------- 1 root root    17420 Aug  3 18:18 'log_bias (13).csv'\n",
            "-rw------- 1 root root    17377 Aug  3 18:18 'log_bias (14).csv'\n",
            "-rw------- 1 root root    17304 Aug  3 18:07 'log_bias (15).csv'\n",
            "-rw------- 1 root root    17510 Aug  3 18:06 'log_bias (16).csv'\n",
            "-rw------- 1 root root    17475 Aug  3 18:06 'log_bias (17).csv'\n",
            "-rw------- 1 root root    17706 Aug  3 11:21 'log_bias (18).csv'\n",
            "-rw------- 1 root root    17826 Aug  3 11:21 'log_bias (19).csv'\n",
            "-rw------- 1 root root    17500 Aug  4 13:22 'log_bias (1).csv'\n",
            "-rw------- 1 root root    17725 Aug  3 11:21 'log_bias (20).csv'\n",
            "-rw------- 1 root root    17544 Aug  3 11:20 'log_bias (21).csv'\n",
            "-rw------- 1 root root    17735 Aug  3 11:20 'log_bias (22).csv'\n",
            "-rw------- 1 root root    17388 Aug  3 11:14 'log_bias (23).csv'\n",
            "-rw------- 1 root root    17476 Aug  3 11:13 'log_bias (24).csv'\n",
            "-rw------- 1 root root    17602 Aug  3 11:13 'log_bias (25).csv'\n",
            "-rw------- 1 root root    17578 Aug  1  2022 'log_bias (26).csv'\n",
            "-rw------- 1 root root    17648 Aug  1  2022 'log_bias (27).csv'\n",
            "-rw------- 1 root root     7397 May  6  2022 'log_bias (28).csv'\n",
            "-rw------- 1 root root     7436 May  6  2022 'log_bias (29).csv'\n",
            "-rw------- 1 root root    17425 Aug  4 13:21 'log_bias (2).csv'\n",
            "-rw------- 1 root root    17556 Aug  4 13:20 'log_bias (3).csv'\n",
            "-rw------- 1 root root    17622 Aug  4 13:20 'log_bias (4).csv'\n",
            "-rw------- 1 root root    17500 Aug  4 13:19 'log_bias (5).csv'\n",
            "-rw------- 1 root root    17325 Aug  4 13:19 'log_bias (6).csv'\n",
            "-rw------- 1 root root    17443 Aug  4 10:20 'log_bias (7).csv'\n",
            "-rw------- 1 root root    17377 Aug  4 07:44 'log_bias (8).csv'\n",
            "-rw------- 1 root root    17487 Aug  4 04:27 'log_bias (9).csv'\n",
            "-rw------- 1 root root    17366 Aug  4 13:22  log_bias.csv\n",
            "-rw------- 1 root root    17021 Aug  4 04:27 'log_mae (10).csv'\n",
            "-rw------- 1 root root    16961 Aug  4 02:27 'log_mae (11).csv'\n",
            "-rw------- 1 root root    17006 Aug  3 18:19 'log_mae (12).csv'\n",
            "-rw------- 1 root root    16989 Aug  3 18:18 'log_mae (13).csv'\n",
            "-rw------- 1 root root    16970 Aug  3 18:18 'log_mae (14).csv'\n",
            "-rw------- 1 root root    17125 Aug  3 18:07 'log_mae (15).csv'\n",
            "-rw------- 1 root root    17165 Aug  3 18:06 'log_mae (16).csv'\n",
            "-rw------- 1 root root    17106 Aug  3 18:06 'log_mae (17).csv'\n",
            "-rw------- 1 root root    17323 Aug  3 11:21 'log_mae (18).csv'\n",
            "-rw------- 1 root root    17272 Aug  3 11:21 'log_mae (19).csv'\n",
            "-rw------- 1 root root    17131 Aug  4 13:22 'log_mae (1).csv'\n",
            "-rw------- 1 root root    17316 Aug  3 11:21 'log_mae (20).csv'\n",
            "-rw------- 1 root root    17242 Aug  3 11:20 'log_mae (21).csv'\n",
            "-rw------- 1 root root    17252 Aug  3 11:20 'log_mae (22).csv'\n",
            "-rw------- 1 root root    17060 Aug  3 11:14 'log_mae (23).csv'\n",
            "-rw------- 1 root root    17068 Aug  3 11:13 'log_mae (24).csv'\n",
            "-rw------- 1 root root    17149 Aug  3 11:13 'log_mae (25).csv'\n",
            "-rw------- 1 root root    17190 Aug  1  2022 'log_mae (26).csv'\n",
            "-rw------- 1 root root    17181 Aug  1  2022 'log_mae (27).csv'\n",
            "-rw------- 1 root root     7201 May  6  2022 'log_mae (28).csv'\n",
            "-rw------- 1 root root     7228 May  6  2022 'log_mae (29).csv'\n",
            "-rw------- 1 root root    17032 Aug  4 13:21 'log_mae (2).csv'\n",
            "-rw------- 1 root root    17159 Aug  4 13:20 'log_mae (3).csv'\n",
            "-rw------- 1 root root    17175 Aug  4 13:20 'log_mae (4).csv'\n",
            "-rw------- 1 root root    17055 Aug  4 13:19 'log_mae (5).csv'\n",
            "-rw------- 1 root root    16977 Aug  4 13:19 'log_mae (6).csv'\n",
            "-rw------- 1 root root    17043 Aug  4 10:20 'log_mae (7).csv'\n",
            "-rw------- 1 root root    16942 Aug  4 07:44 'log_mae (8).csv'\n",
            "-rw------- 1 root root    17035 Aug  4 04:27 'log_mae (9).csv'\n",
            "-rw------- 1 root root    17072 Aug  4 13:22  log_mae.csv\n",
            "-rw------- 1 root root    15278 Aug  4 04:27 'log_mean_obs (10).csv'\n",
            "-rw------- 1 root root    15295 Aug  4 02:27 'log_mean_obs (11).csv'\n",
            "-rw------- 1 root root    15295 Aug  3 18:19 'log_mean_obs (12).csv'\n",
            "-rw------- 1 root root    15295 Aug  3 18:18 'log_mean_obs (13).csv'\n",
            "-rw------- 1 root root    15295 Aug  3 18:18 'log_mean_obs (14).csv'\n",
            "-rw------- 1 root root    15306 Aug  3 18:07 'log_mean_obs (15).csv'\n",
            "-rw------- 1 root root    15306 Aug  3 18:06 'log_mean_obs (16).csv'\n",
            "-rw------- 1 root root    15306 Aug  3 18:06 'log_mean_obs (17).csv'\n",
            "-rw------- 1 root root    15032 Aug  3 11:21 'log_mean_obs (18).csv'\n",
            "-rw------- 1 root root    15032 Aug  3 11:21 'log_mean_obs (19).csv'\n",
            "-rw------- 1 root root    15304 Aug  4 13:22 'log_mean_obs (1).csv'\n",
            "-rw------- 1 root root    15032 Aug  3 11:21 'log_mean_obs (20).csv'\n",
            "-rw------- 1 root root    15013 Aug  3 11:20 'log_mean_obs (21).csv'\n",
            "-rw------- 1 root root    15013 Aug  3 11:20 'log_mean_obs (22).csv'\n",
            "-rw------- 1 root root    15013 Aug  3 11:14 'log_mean_obs (23).csv'\n",
            "-rw------- 1 root root    15013 Aug  3 11:13 'log_mean_obs (24).csv'\n",
            "-rw------- 1 root root    15013 Aug  3 11:13 'log_mean_obs (25).csv'\n",
            "-rw------- 1 root root    15032 Aug  1  2022 'log_mean_obs (26).csv'\n",
            "-rw------- 1 root root    15032 Aug  1  2022 'log_mean_obs (27).csv'\n",
            "-rw------- 1 root root     6384 May  6  2022 'log_mean_obs (28).csv'\n",
            "-rw------- 1 root root     6384 May  6  2022 'log_mean_obs (29).csv'\n",
            "-rw------- 1 root root    15306 Aug  4 13:21 'log_mean_obs (2).csv'\n",
            "-rw------- 1 root root    15306 Aug  4 13:20 'log_mean_obs (3).csv'\n",
            "-rw------- 1 root root    15304 Aug  4 13:20 'log_mean_obs (4).csv'\n",
            "-rw------- 1 root root    15306 Aug  4 13:19 'log_mean_obs (5).csv'\n",
            "-rw------- 1 root root    15295 Aug  4 13:19 'log_mean_obs (6).csv'\n",
            "-rw------- 1 root root    15278 Aug  4 10:20 'log_mean_obs (7).csv'\n",
            "-rw------- 1 root root    15295 Aug  4 07:44 'log_mean_obs (8).csv'\n",
            "-rw------- 1 root root    15295 Aug  4 04:27 'log_mean_obs (9).csv'\n",
            "-rw------- 1 root root    15306 Aug  4 13:22  log_mean_obs.csv\n",
            "-rw------- 1 root root     8387 Aug  4 04:27 'log_mean_pred (10).csv'\n",
            "-rw------- 1 root root     8379 Aug  4 02:27 'log_mean_pred (11).csv'\n",
            "-rw------- 1 root root     8405 Aug  3 18:19 'log_mean_pred (12).csv'\n",
            "-rw------- 1 root root     8387 Aug  3 18:18 'log_mean_pred (13).csv'\n",
            "-rw------- 1 root root     8384 Aug  3 18:18 'log_mean_pred (14).csv'\n",
            "-rw------- 1 root root     8396 Aug  3 18:07 'log_mean_pred (15).csv'\n",
            "-rw------- 1 root root     8401 Aug  3 18:06 'log_mean_pred (16).csv'\n",
            "-rw------- 1 root root     8369 Aug  3 18:06 'log_mean_pred (17).csv'\n",
            "-rw------- 1 root root     8390 Aug  3 11:21 'log_mean_pred (18).csv'\n",
            "-rw------- 1 root root     8385 Aug  3 11:21 'log_mean_pred (19).csv'\n",
            "-rw------- 1 root root     8386 Aug  4 13:22 'log_mean_pred (1).csv'\n",
            "-rw------- 1 root root     8370 Aug  3 11:21 'log_mean_pred (20).csv'\n",
            "-rw------- 1 root root     8379 Aug  3 11:20 'log_mean_pred (21).csv'\n",
            "-rw------- 1 root root     8395 Aug  3 11:20 'log_mean_pred (22).csv'\n",
            "-rw------- 1 root root     8382 Aug  3 11:14 'log_mean_pred (23).csv'\n",
            "-rw------- 1 root root     8377 Aug  3 11:13 'log_mean_pred (24).csv'\n",
            "-rw------- 1 root root     8394 Aug  3 11:13 'log_mean_pred (25).csv'\n",
            "-rw------- 1 root root     8384 Aug  1  2022 'log_mean_pred (26).csv'\n",
            "-rw------- 1 root root     8390 Aug  1  2022 'log_mean_pred (27).csv'\n",
            "-rw------- 1 root root     3552 May  6  2022 'log_mean_pred (28).csv'\n",
            "-rw------- 1 root root     3568 May  6  2022 'log_mean_pred (29).csv'\n",
            "-rw------- 1 root root     8385 Aug  4 13:21 'log_mean_pred (2).csv'\n",
            "-rw------- 1 root root     8377 Aug  4 13:20 'log_mean_pred (3).csv'\n",
            "-rw------- 1 root root     8405 Aug  4 13:20 'log_mean_pred (4).csv'\n",
            "-rw------- 1 root root     8402 Aug  4 13:19 'log_mean_pred (5).csv'\n",
            "-rw------- 1 root root     8385 Aug  4 13:19 'log_mean_pred (6).csv'\n",
            "-rw------- 1 root root     8395 Aug  4 10:20 'log_mean_pred (7).csv'\n",
            "-rw------- 1 root root     8384 Aug  4 07:44 'log_mean_pred (8).csv'\n",
            "-rw------- 1 root root     8381 Aug  4 04:27 'log_mean_pred (9).csv'\n",
            "-rw------- 1 root root     8410 Aug  4 13:22  log_mean_pred.csv\n",
            "-rw------- 1 root root     2688 Aug  4 04:27 'log_messages (10).txt'\n",
            "-rw------- 1 root root     4794 Aug  4 04:27 'log_messages (11).txt'\n",
            "-rw------- 1 root root     4798 Aug  4 02:27 'log_messages (12).txt'\n",
            "-rw------- 1 root root     2689 Aug  3 18:19 'log_messages (13).txt'\n",
            "-rw------- 1 root root     2690 Aug  3 18:18 'log_messages (14).txt'\n",
            "-rw------- 1 root root     2687 Aug  3 18:18 'log_messages (15).txt'\n",
            "-rw------- 1 root root     2694 Aug  3 18:07 'log_messages (16).txt'\n",
            "-rw------- 1 root root     2692 Aug  3 18:06 'log_messages (17).txt'\n",
            "-rw------- 1 root root     2691 Aug  3 18:06 'log_messages (18).txt'\n",
            "-rw------- 1 root root     1193 Aug  3 11:21 'log_messages (19).txt'\n",
            "-rw------- 1 root root     2697 Aug  4 13:22 'log_messages (1).txt'\n",
            "-rw------- 1 root root     1192 Aug  3 11:21 'log_messages (20).txt'\n",
            "-rw------- 1 root root     1191 Aug  3 11:21 'log_messages (21).txt'\n",
            "-rw------- 1 root root     1196 Aug  3 11:20 'log_messages (22).txt'\n",
            "-rw------- 1 root root     1189 Aug  3 11:20 'log_messages (23).txt'\n",
            "-rw------- 1 root root     1203 Aug  3 11:14 'log_messages (24).txt'\n",
            "-rw------- 1 root root     1200 Aug  3 11:13 'log_messages (25).txt'\n",
            "-rw------- 1 root root     1201 Aug  3 11:13 'log_messages (26).txt'\n",
            "-rw------- 1 root root     1203 Aug  1  2022 'log_messages (27).txt'\n",
            "-rw------- 1 root root     1203 Aug  1  2022 'log_messages (28).txt'\n",
            "-rw------- 1 root root     1116 May  6  2022 'log_messages (29).txt'\n",
            "-rw------- 1 root root     2696 Aug  4 13:22 'log_messages (2).txt'\n",
            "-rw------- 1 root root     1116 May  6  2022 'log_messages (30).txt'\n",
            "-rw------- 1 root root      158 May  5  2022 'log_messages (31).txt'\n",
            "-rw------- 1 root root     2694 Aug  4 13:21 'log_messages (3).txt'\n",
            "-rw------- 1 root root     2692 Aug  4 13:20 'log_messages (4).txt'\n",
            "-rw------- 1 root root     2692 Aug  4 13:20 'log_messages (5).txt'\n",
            "-rw------- 1 root root     2693 Aug  4 13:20 'log_messages (6).txt'\n",
            "-rw------- 1 root root     4796 Aug  4 13:19 'log_messages (7).txt'\n",
            "-rw------- 1 root root     4792 Aug  4 10:20 'log_messages (8).txt'\n",
            "-rw------- 1 root root     4793 Aug  4 07:44 'log_messages (9).txt'\n",
            "-rw------- 1 root root      890 Aug 10 13:51  log_messages.txt\n",
            "-rw------- 1 root root    17263 Aug  4 04:27 'log_mse (10).csv'\n",
            "-rw------- 1 root root    17294 Aug  4 02:27 'log_mse (11).csv'\n",
            "-rw------- 1 root root    17244 Aug  3 18:19 'log_mse (12).csv'\n",
            "-rw------- 1 root root    17285 Aug  3 18:18 'log_mse (13).csv'\n",
            "-rw------- 1 root root    17234 Aug  3 18:18 'log_mse (14).csv'\n",
            "-rw------- 1 root root    17289 Aug  3 18:07 'log_mse (15).csv'\n",
            "-rw------- 1 root root    17316 Aug  3 18:06 'log_mse (16).csv'\n",
            "-rw------- 1 root root    17223 Aug  3 18:06 'log_mse (17).csv'\n",
            "-rw------- 1 root root    17295 Aug  3 11:21 'log_mse (18).csv'\n",
            "-rw------- 1 root root    17262 Aug  3 11:21 'log_mse (19).csv'\n",
            "-rw------- 1 root root    17324 Aug  4 13:22 'log_mse (1).csv'\n",
            "-rw------- 1 root root    17278 Aug  3 11:21 'log_mse (20).csv'\n",
            "-rw------- 1 root root    17271 Aug  3 11:20 'log_mse (21).csv'\n",
            "-rw------- 1 root root    17286 Aug  3 11:20 'log_mse (22).csv'\n",
            "-rw------- 1 root root    17276 Aug  3 11:14 'log_mse (23).csv'\n",
            "-rw------- 1 root root    17264 Aug  3 11:13 'log_mse (24).csv'\n",
            "-rw------- 1 root root    17293 Aug  3 11:13 'log_mse (25).csv'\n",
            "-rw------- 1 root root    17255 Aug  1  2022 'log_mse (26).csv'\n",
            "-rw------- 1 root root    17284 Aug  1  2022 'log_mse (27).csv'\n",
            "-rw------- 1 root root     7304 May  6  2022 'log_mse (28).csv'\n",
            "-rw------- 1 root root     7302 May  6  2022 'log_mse (29).csv'\n",
            "-rw------- 1 root root    17240 Aug  4 13:21 'log_mse (2).csv'\n",
            "-rw------- 1 root root    17295 Aug  4 13:20 'log_mse (3).csv'\n",
            "-rw------- 1 root root    17283 Aug  4 13:20 'log_mse (4).csv'\n",
            "-rw------- 1 root root    17259 Aug  4 13:19 'log_mse (5).csv'\n",
            "-rw------- 1 root root    17263 Aug  4 13:19 'log_mse (6).csv'\n",
            "-rw------- 1 root root    17306 Aug  4 10:20 'log_mse (7).csv'\n",
            "-rw------- 1 root root    17275 Aug  4 07:44 'log_mse (8).csv'\n",
            "-rw------- 1 root root    17279 Aug  4 04:27 'log_mse (9).csv'\n",
            "-rw------- 1 root root    17240 Aug  4 13:22  log_mse.csv\n",
            "-rw------- 1 root root    16978 Aug  4 04:27 'log_rmse (10).csv'\n",
            "-rw------- 1 root root    16912 Aug  4 02:27 'log_rmse (11).csv'\n",
            "-rw------- 1 root root    16919 Aug  3 18:19 'log_rmse (12).csv'\n",
            "-rw------- 1 root root    16915 Aug  3 18:18 'log_rmse (13).csv'\n",
            "-rw------- 1 root root    16932 Aug  3 18:18 'log_rmse (14).csv'\n",
            "-rw------- 1 root root    17114 Aug  3 18:07 'log_rmse (15).csv'\n",
            "-rw------- 1 root root    17107 Aug  3 18:06 'log_rmse (16).csv'\n",
            "-rw------- 1 root root    17071 Aug  3 18:06 'log_rmse (17).csv'\n",
            "-rw------- 1 root root    17322 Aug  3 11:21 'log_rmse (18).csv'\n",
            "-rw------- 1 root root    17293 Aug  3 11:21 'log_rmse (19).csv'\n",
            "-rw------- 1 root root    17116 Aug  4 13:22 'log_rmse (1).csv'\n",
            "-rw------- 1 root root    17285 Aug  3 11:21 'log_rmse (20).csv'\n",
            "-rw------- 1 root root    17197 Aug  3 11:20 'log_rmse (21).csv'\n",
            "-rw------- 1 root root    17216 Aug  3 11:20 'log_rmse (22).csv'\n",
            "-rw------- 1 root root    17003 Aug  3 11:14 'log_rmse (23).csv'\n",
            "-rw------- 1 root root    17012 Aug  3 11:13 'log_rmse (24).csv'\n",
            "-rw------- 1 root root    17037 Aug  3 11:13 'log_rmse (25).csv'\n",
            "-rw------- 1 root root    17142 Aug  1  2022 'log_rmse (26).csv'\n",
            "-rw------- 1 root root    17183 Aug  1  2022 'log_rmse (27).csv'\n",
            "-rw------- 1 root root     7141 May  6  2022 'log_rmse (28).csv'\n",
            "-rw------- 1 root root     7162 May  6  2022 'log_rmse (29).csv'\n",
            "-rw------- 1 root root    17017 Aug  4 13:21 'log_rmse (2).csv'\n",
            "-rw------- 1 root root    17114 Aug  4 13:20 'log_rmse (3).csv'\n",
            "-rw------- 1 root root    17102 Aug  4 13:20 'log_rmse (4).csv'\n",
            "-rw------- 1 root root    17039 Aug  4 13:19 'log_rmse (5).csv'\n",
            "-rw------- 1 root root    16906 Aug  4 13:19 'log_rmse (6).csv'\n",
            "-rw------- 1 root root    16966 Aug  4 10:20 'log_rmse (7).csv'\n",
            "-rw------- 1 root root    16907 Aug  4 07:44 'log_rmse (8).csv'\n",
            "-rw------- 1 root root    16936 Aug  4 04:27 'log_rmse (9).csv'\n",
            "-rw------- 1 root root     6305 Dec  7  2020  log_rmse_a1.1_1.csv\n",
            "-rw------- 1 root root     1645 Dec  7  2020  log_rmse_a1.1_2.csv\n",
            "-rw------- 1 root root     9629 Dec  7  2020  log_rmse_a1.1.csv\n",
            "-rw------- 1 root root     9869 Dec  8  2020  log_rmse_a1.1_RRTMG.csv\n",
            "-rw------- 1 root root     8137 Dec  3  2020 'log_rmse_B.1.1 (1).csv'\n",
            "-rw------- 1 root root      176 Dec  3  2020 'log_rmse_B.1.1 (1).gsheet'\n",
            "-rw------- 1 root root      176 Dec  3  2020 'log_rmse_B.1.1 (2).gsheet'\n",
            "-rw------- 1 root root     8137 Dec  3  2020  log_rmse_B.1.1.csv\n",
            "-rw------- 1 root root      176 Dec  3  2020  log_rmse_B.1.1.gsheet\n",
            "-rw------- 1 root root     8328 Dec  3  2020 'log_rmse_B.1.2 (1).csv'\n",
            "-rw------- 1 root root     8328 Dec  3  2020 'log_rmse_B.1.2 (2).csv'\n",
            "-rw------- 1 root root     8328 Dec  3  2020 'log_rmse_B.1.2 (3).csv'\n",
            "-rw------- 1 root root     8328 Dec  3  2020  log_rmse_B.1.2.csv\n",
            "-rw------- 1 root root      176 Dec  3  2020  log_rmse_B.1.2.gsheet\n",
            "-rw------- 1 root root     8304 Dec  3  2020  log_rmse_B.1.3.csv\n",
            "-rw------- 1 root root    12677 Dec  3  2020  log_rmse_C.4.csv\n",
            "-rw------- 1 root root    17027 Aug  4 13:22  log_rmse.csv\n",
            "drwx------ 2 root root     4096 Mar 13  2013  Lucidchart\n",
            "-rw------- 1 root root    78441 Dec  9 22:02 'MENU CLIENTE.pdf'\n",
            "-rw------- 1 root root      176 Mar 24  2015  Metas.gsheet\n",
            "-rw------- 1 root root      176 Dec 13  2016  MS2016.gsheet\n",
            "-rw------- 1 root root      176 Jul  5  2022 'Multas EXT-0G13.gsheet'\n",
            "-rw------- 1 root root      176 Oct  3  2019 'Musicas Casamento.gsheet'\n",
            "drwx------ 2 root root     4096 Aug  1  2022  NN_BAM1D_doc_shared\n",
            "drwx------ 2 root root     4096 May  5  2021  NN_Microphysics\n",
            "-rw------- 1 root root      176 Dec 17  2021  pagamento_multas.gdoc\n",
            "-rw------- 1 root root      176 Dec 17  2018 'Parar de fumar.gsheet'\n",
            "-rw------- 1 root root      176 Mar 13  2013 'Pauta Reuniao 05 03 - Definicões iniciais.gdoc'\n",
            "-rw------- 1 root root      176 Mar 13  2013 'Pauta Reunião 12 03 .gdoc'\n",
            "-rw------- 1 root root      176 Jun  6  2017  Pesquisas.gsheet\n",
            "-rw------- 1 root root      176 Nov 17  2020 'Planilha sem título.gsheet'\n",
            "-rw------- 1 root root      176 Nov 28 15:24 'PROPOSTA TÉCNICA CRAY PARTE II.gdoc'\n",
            "-rw------- 1 root root    81242 May 31  2022 'Relatório Final de Tópicos em Tecnologias Espaciais - Denis M. A Eiras - Doutorado.pdf'\n",
            "-rw------- 1 root root      176 May 10  2022  Resume.gslides\n",
            "-rw------- 1 root root      176 Oct 16  2019 'Save the Date.gsheet'\n",
            "-rw------- 1 root root      176 Jan 14  2019 'Seguro Carro.gsheet'\n",
            "drwx------ 2 root root     4096 Jul 11  2014  Shared\n",
            "-rw------- 1 root root      176 Jul 19  2022  Study.gdoc\n",
            "-rw------- 1 root root      176 May 13  2022 'SVN SmartSVN.gdoc'\n",
            "-rw------- 1 root root      176 May 18  2021 'Towards exascale computing for numerical weather prediction.gdoc'\n",
            "drwx------ 2 root root     4096 Oct 10 22:07 'Uruguai Argentina'\n",
            "-rw------- 1 root root      176 Aug  8  2013  Viagem.gsheet\n",
            "-rw------- 1 root root      176 Jun 26  2015 'Viagem Sul.gsheet'\n",
            "-rw------- 1 root root 24162586 Feb  1 17:36  yellow_tripdata_2020-01.csv\n",
            "VendorID,tpep_pickup_datetime,tpep_dropoff_datetime,passenger_count,trip_distance,RatecodeID,store_and_fwd_flag,PULocationID,DOLocationID,payment_type,fare_amount,extra,mta_tax,tip_amount,tolls_amount,improvement_surcharge,total_amount,congestion_surcharge\n",
            "1,01/01/2020 12:00:00 AM,01/01/2020 12:13:03 AM,1,2.2,1,N,68,170,1,10.5,3,0.5,2.85,0,0.3,17.15,2.5\n",
            "2,01/01/2020 12:00:00 AM,01/01/2020 01:08:55 AM,5,1.43,1,N,48,239,2,6.5,0.5,0.5,0,0,0.3,10.3,2.5\n",
            "2,01/01/2020 12:00:00 AM,01/01/2020 01:25:09 AM,5,1.74,1,N,142,264,2,7.5,3,0.5,0,0,0.3,11.3,0\n",
            "2,01/01/2020 12:00:00 AM,01/01/2020 01:45:06 AM,5,1.35,1,N,48,68,2,8.5,0.5,0.5,0,0,0.3,12.3,2.5\n",
            "2,01/01/2020 12:00:00 AM,01/01/2020 02:02:39 AM,5,2.33,1,N,186,79,2,11.5,0.5,0.5,0,0,0.3,15.3,2.5\n",
            "2,01/01/2020 12:00:00 AM,01/01/2020 03:48:49 AM,5,5.44,1,N,144,146,2,18.5,0.5,0.5,0,0,0.3,22.3,2.5\n",
            "2,01/01/2020 12:00:00 AM,01/01/2020 04:17:14 AM,5,0.96,1,N,68,50,2,5.5,0.5,0.5,0,0,0.3,9.3,2.5\n",
            "2,01/01/2020 12:00:02 AM,01/01/2020 12:16:49 AM,1,1.68,1,N,68,246,2,11,0.5,0.5,0,0,0.3,14.8,2.5\n",
            "1,01/01/2020 12:00:03 AM,01/01/2020 12:13:04 AM,2,3,1,N,79,162,1,11.5,3,0.5,2,0,0.3,17.3,2.5\n"
          ]
        }
      ]
    },
    {
      "cell_type": "code",
      "source": [
        "spark = SparkContext(appName=\"aula-1\", master=\"local[4]\")"
      ],
      "metadata": {
        "id": "RtuEabmRb5qL"
      },
      "execution_count": 7,
      "outputs": []
    },
    {
      "cell_type": "markdown",
      "source": [
        "## Lê o arquivo no google drive\n",
        "- O resultado cria um RDD com uma entrada por linha do arquivo\n",
        "- um filtro retira a linha de cabeçalho:\n",
        "VendorID,tpep_pickup_datetime,tpep_dropoff_datetime,passenger_count,trip_distance,RatecodeID,store_and_fwd_flag,PULocationID,DOLocationID,payment_type,fare_amount,extra,mta_tax,tip_amount,tolls_amount,improvement_surcharge,total_amount,congestion_surcharge"
      ],
      "metadata": {
        "id": "BLZ2vWfU-L8N"
      }
    },
    {
      "cell_type": "code",
      "source": [
        "taxi_file_header = spark.textFile(\"/content/gdrive/MyDrive/yellow_tripdata_2020-01.csv\")\n",
        "taxi_file= taxi_file_header.filter(lambda l: not l.startswith(\"VendorID\"))"
      ],
      "metadata": {
        "id": "f8xXDOKPceWb"
      },
      "execution_count": 8,
      "outputs": []
    },
    {
      "cell_type": "code",
      "source": [
        "def testa_VendorId(id):\n",
        "  if not id.isnumeric():\n",
        "    return False\n",
        "  else:  \n",
        "    if (int(id) <= 20):\n",
        "      return True\n",
        "    else:\n",
        "      return False    "
      ],
      "metadata": {
        "id": "x93yzMjpUTs_"
      },
      "execution_count": 9,
      "outputs": []
    },
    {
      "cell_type": "markdown",
      "source": [
        "## Gera um RDD onde cada item é extraido do arquivo a partir\n",
        "## da delimitação por vírgula.\n",
        "## Em seguida, filtra as entradas com VendorId <= 20"
      ],
      "metadata": {
        "id": "FbhtZj3X-UCa"
      }
    },
    {
      "cell_type": "code",
      "source": [
        "print(taxi_file.count())\n",
        "trip_column= taxi_file.map(lambda a: a.split(\",\"))\n",
        "print(trip_column.take(1))\n",
        "list_trip = trip_column.filter(lambda a:testa_VendorId(a[0]))"
      ],
      "metadata": {
        "id": "PlTYxkMgdCv3",
        "colab": {
          "base_uri": "https://localhost:8080/"
        },
        "outputId": "742950fe-b581-480d-b50b-c6ff672f6940"
      },
      "execution_count": 10,
      "outputs": [
        {
          "output_type": "stream",
          "name": "stdout",
          "text": [
            "246318\n",
            "[['1', '01/01/2020 12:00:00 AM', '01/01/2020 12:13:03 AM', '1', '2.2', '1', 'N', '68', '170', '1', '10.5', '3', '0.5', '2.85', '0', '0.3', '17.15', '2.5']]\n"
          ]
        }
      ]
    },
    {
      "cell_type": "code",
      "source": [
        "\n",
        "print(\"Total de Linhas:\"+str(list_trip.count()))"
      ],
      "metadata": {
        "colab": {
          "base_uri": "https://localhost:8080/"
        },
        "id": "KonD-1SQgrG-",
        "outputId": "f986f26b-8c8e-4fbf-c32d-98d214fa43f8"
      },
      "execution_count": 11,
      "outputs": [
        {
          "output_type": "stream",
          "name": "stdout",
          "text": [
            "Total de Linhas:244306\n"
          ]
        }
      ]
    },
    {
      "cell_type": "markdown",
      "source": [
        "## Criando pipelines sobre o RDD list_trip"
      ],
      "metadata": {
        "id": "WGUxdcdB5Cbq"
      }
    },
    {
      "cell_type": "markdown",
      "source": [
        "# Spark Dataflow\n",
        "\n",
        "1.   map\n",
        "2.   groupBy\n",
        "3.   MapValues\n",
        "\n",
        "\n",
        "\n",
        "\n",
        "\n",
        "\n"
      ],
      "metadata": {
        "id": "zyinMEtticHM"
      }
    },
    {
      "cell_type": "code",
      "source": [
        "\n",
        "transformIntRDD = list_trip.map(lambda a: (a[0],float(a[11])))\n",
        "transformRDD = transformIntRDD.groupByKey().mapValues(lambda v:sum(v))"
      ],
      "metadata": {
        "id": "kZGxf64k5KKx"
      },
      "execution_count": null,
      "outputs": []
    },
    {
      "cell_type": "code",
      "source": [
        "transformRDD.take(2)"
      ],
      "metadata": {
        "colab": {
          "base_uri": "https://localhost:8080/"
        },
        "id": "o2STZ4JSo4Pc",
        "outputId": "7a43388c-708d-4448-9a60-4670ef69b7f7"
      },
      "execution_count": null,
      "outputs": [
        {
          "output_type": "execute_result",
          "data": {
            "text/plain": [
              "[('1', 180107.5), ('2', 37003.42000000004)]"
            ]
          },
          "metadata": {},
          "execution_count": 13
        }
      ]
    },
    {
      "cell_type": "markdown",
      "source": [
        "\n",
        "# Projeta: VendorId, Numero de passageiros, Valores de Tarifa \n",
        "\n"
      ],
      "metadata": {
        "id": "wkjmhcH2jCrF"
      }
    },
    {
      "cell_type": "code",
      "source": [
        "projectedRDD = list_trip.map(lambda a: (a[0],a[3],a[11]))"
      ],
      "metadata": {
        "id": "n_WwTVAihEY8"
      },
      "execution_count": null,
      "outputs": []
    },
    {
      "cell_type": "markdown",
      "source": [
        "\n",
        "\n",
        "\n",
        "## DataFlow: Calcula viagens prejuizo\n",
        "\n",
        "\n",
        "\n",
        "1.   filter\n",
        "2.   map\n",
        "\n",
        "\n",
        "\n"
      ],
      "metadata": {
        "id": "jRmxc_4kjVFJ"
      }
    },
    {
      "cell_type": "code",
      "source": [
        "print(projectedRDD.take(10))\n",
        "print(projectedRDD.count())\n",
        "tarifa_altaRDD = projectedRDD.filter(lambda a: float(a[2]) >5 and int(a[1])>3)\n",
        "print(tarifa_altaRDD.count())"
      ],
      "metadata": {
        "id": "MUBwFn9z8jcq",
        "colab": {
          "base_uri": "https://localhost:8080/"
        },
        "outputId": "49b08bde-737c-4a62-8752-2f313cbfb6ad"
      },
      "execution_count": null,
      "outputs": [
        {
          "output_type": "stream",
          "name": "stdout",
          "text": [
            "[('1', '1', '3'), ('2', '5', '0.5'), ('2', '5', '3'), ('2', '5', '0.5'), ('2', '5', '0.5'), ('2', '5', '0.5'), ('2', '5', '0.5'), ('2', '1', '0.5'), ('1', '2', '3'), ('1', '0', '3')]\n",
            "244306\n",
            "0\n"
          ]
        }
      ]
    },
    {
      "cell_type": "code",
      "source": [
        "prejuizo=tarifa_altaRDD.count()"
      ],
      "metadata": {
        "id": "Mk6UEnlJj2E2"
      },
      "execution_count": null,
      "outputs": []
    },
    {
      "cell_type": "code",
      "source": [
        "print(\"Viagens Prejuizo: \"+str(prejuizo))"
      ],
      "metadata": {
        "colab": {
          "base_uri": "https://localhost:8080/"
        },
        "id": "zDRfdhsWAMVg",
        "outputId": "f46857ee-98b1-4839-8aa1-c994b616c60e"
      },
      "execution_count": null,
      "outputs": [
        {
          "output_type": "stream",
          "name": "stdout",
          "text": [
            "Viagens Prejuizo: 0\n"
          ]
        }
      ]
    },
    {
      "cell_type": "code",
      "source": [
        "!jps"
      ],
      "metadata": {
        "id": "BDKTsALbn9gc",
        "colab": {
          "base_uri": "https://localhost:8080/"
        },
        "outputId": "9193a54a-7fb0-465d-8302-2fb7d625402b"
      },
      "execution_count": null,
      "outputs": [
        {
          "output_type": "stream",
          "name": "stdout",
          "text": [
            "2288 SparkSubmit\n",
            "2756 Jps\n"
          ]
        }
      ]
    },
    {
      "cell_type": "code",
      "source": [],
      "metadata": {
        "id": "gHShfIeurAjZ"
      },
      "execution_count": null,
      "outputs": []
    }
  ]
}