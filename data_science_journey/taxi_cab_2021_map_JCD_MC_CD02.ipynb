{
  "nbformat": 4,
  "nbformat_minor": 0,
  "metadata": {
    "colab": {
      "provenance": [],
      "include_colab_link": true
    },
    "kernelspec": {
      "name": "python3",
      "display_name": "Python 3"
    },
    "language_info": {
      "name": "python"
    }
  },
  "cells": [
    {
      "cell_type": "markdown",
      "metadata": {
        "id": "view-in-github",
        "colab_type": "text"
      },
      "source": [
        "<a href=\"https://colab.research.google.com/github/deniseiras/EscolaVeraoSantosDumont2023/blob/main/taxi_cab_2021_map_JCD_MC_CD02.ipynb\" target=\"_parent\"><img src=\"https://colab.research.google.com/assets/colab-badge.svg\" alt=\"Open In Colab\"/></a>"
      ]
    },
    {
      "cell_type": "markdown",
      "source": [
        "## Yellow Taxi cab: registra viagens de taxi em Manhattan\n",
        "![picture](https://drive.google.com/uc?export=view&id=1hoFUFSm5IJG-5CQYBtqDK_e2MvMODc1P)\n",
        "## Este notebook explora o processamento de dados tabulares (i.e viagens de taxi)\n",
        "## Neste exemplo, usamos a API RDD.\n",
        "## Procuramos por viagens não muito vantajosas, como muitos passageiros e baixa tarifa :)\n",
        "\n",
        "##site: https://www1.nyc.gov/site/tlc/about/tlc-trip-record-data.page"
      ],
      "metadata": {
        "id": "-Apm2Cju9RYM"
      }
    },
    {
      "cell_type": "code",
      "execution_count": null,
      "metadata": {
        "colab": {
          "base_uri": "https://localhost:8080/"
        },
        "id": "5XOYRVH7a-67",
        "outputId": "057e0ed8-cd4f-44ab-bee5-43a9d0dc2617"
      },
      "outputs": [
        {
          "output_type": "stream",
          "name": "stdout",
          "text": [
            "Collecting pyspark\n",
            "  Downloading pyspark-3.2.1.tar.gz (281.4 MB)\n",
            "\u001b[K     |████████████████████████████████| 281.4 MB 35 kB/s \n",
            "\u001b[?25hCollecting py4j==0.10.9.3\n",
            "  Downloading py4j-0.10.9.3-py2.py3-none-any.whl (198 kB)\n",
            "\u001b[K     |████████████████████████████████| 198 kB 39.7 MB/s \n",
            "\u001b[?25hBuilding wheels for collected packages: pyspark\n",
            "  Building wheel for pyspark (setup.py) ... \u001b[?25l\u001b[?25hdone\n",
            "  Created wheel for pyspark: filename=pyspark-3.2.1-py2.py3-none-any.whl size=281853642 sha256=d7fda5c5e0fa993faeb17867966f5986710cfe75550cd68624959b62f2dc65f7\n",
            "  Stored in directory: /root/.cache/pip/wheels/9f/f5/07/7cd8017084dce4e93e84e92efd1e1d5334db05f2e83bcef74f\n",
            "Successfully built pyspark\n",
            "Installing collected packages: py4j, pyspark\n",
            "Successfully installed py4j-0.10.9.3 pyspark-3.2.1\n"
          ]
        }
      ],
      "source": [
        "pip install pyspark"
      ]
    },
    {
      "cell_type": "code",
      "source": [
        "import pyspark\n",
        "from pyspark import SparkContext\n",
        "import math"
      ],
      "metadata": {
        "id": "LR7CYJNnb2PC"
      },
      "execution_count": null,
      "outputs": []
    },
    {
      "cell_type": "code",
      "source": [
        "from google.colab import drive"
      ],
      "metadata": {
        "id": "5XVOujU5hd5v"
      },
      "execution_count": null,
      "outputs": []
    },
    {
      "cell_type": "markdown",
      "source": [
        "## Monta um google drive"
      ],
      "metadata": {
        "id": "2cXSuY-8-Fq8"
      }
    },
    {
      "cell_type": "code",
      "source": [
        "drive.mount('/content/gdrive')"
      ],
      "metadata": {
        "colab": {
          "base_uri": "https://localhost:8080/"
        },
        "id": "LgUFFM7IhjI2",
        "outputId": "5db0fd83-e9a0-4a01-d501-7984d4065770"
      },
      "execution_count": null,
      "outputs": [
        {
          "output_type": "stream",
          "name": "stdout",
          "text": [
            "Mounted at /content/gdrive\n"
          ]
        }
      ]
    },
    {
      "cell_type": "code",
      "source": [
        "!cd /content/gdrive/\n",
        "!ls -la gdrive/MyDrive/BigData/data\n",
        "!head gdrive/MyDrive/BigData/data/yellow_tripdata_2021-01.csv\n"
      ],
      "metadata": {
        "colab": {
          "base_uri": "https://localhost:8080/"
        },
        "id": "b01bMElGyfw4",
        "outputId": "23e1524a-7bd0-4546-96bb-4f67085ade99"
      },
      "execution_count": null,
      "outputs": [
        {
          "output_type": "stream",
          "name": "stdout",
          "text": [
            "total 123029\n",
            "-rw------- 1 root root 125981363 Feb 11 17:33 yellow_tripdata_2021-01.csv\n",
            "VendorID,tpep_pickup_datetime,tpep_dropoff_datetime,passenger_count,trip_distance,RatecodeID,store_and_fwd_flag,PULocationID,DOLocationID,payment_type,fare_amount,extra,mta_tax,tip_amount,tolls_amount,improvement_surcharge,total_amount,congestion_surcharge\n",
            "1,2021-01-01 00:30:10,2021-01-01 00:36:12,1,2.10,1,N,142,43,2,8,3,0.5,0,0,0.3,11.8,2.5\n",
            "1,2021-01-01 00:51:20,2021-01-01 00:52:19,1,.20,1,N,238,151,2,3,0.5,0.5,0,0,0.3,4.3,0\n",
            "1,2021-01-01 00:43:30,2021-01-01 01:11:06,1,14.70,1,N,132,165,1,42,0.5,0.5,8.65,0,0.3,51.95,0\n",
            "1,2021-01-01 00:15:48,2021-01-01 00:31:01,0,10.60,1,N,138,132,1,29,0.5,0.5,6.05,0,0.3,36.35,0\n",
            "2,2021-01-01 00:31:49,2021-01-01 00:48:21,1,4.94,1,N,68,33,1,16.5,0.5,0.5,4.06,0,0.3,24.36,2.5\n",
            "1,2021-01-01 00:16:29,2021-01-01 00:24:30,1,1.60,1,N,224,68,1,8,3,0.5,2.35,0,0.3,14.15,2.5\n",
            "1,2021-01-01 00:00:28,2021-01-01 00:17:28,1,4.10,1,N,95,157,2,16,0.5,0.5,0,0,0.3,17.3,0\n",
            "1,2021-01-01 00:12:29,2021-01-01 00:30:34,1,5.70,1,N,90,40,2,18,3,0.5,0,0,0.3,21.8,2.5\n",
            "1,2021-01-01 00:39:16,2021-01-01 01:00:13,1,9.10,1,N,97,129,4,27.5,0.5,0.5,0,0,0.3,28.8,0\n"
          ]
        }
      ]
    },
    {
      "cell_type": "code",
      "source": [
        "spark = SparkContext(appName=\"aula-1\", master=\"local[4]\")"
      ],
      "metadata": {
        "id": "RtuEabmRb5qL"
      },
      "execution_count": null,
      "outputs": []
    },
    {
      "cell_type": "markdown",
      "source": [
        "## Lê o arquivo no google drive\n",
        "- O resultado cria um RDD com uma entrada por linha do arquivo\n",
        "- um filtro retira a linha de cabeçalho:\n",
        "VendorID,tpep_pickup_datetime,tpep_dropoff_datetime,passenger_count,trip_distance,RatecodeID,store_and_fwd_flag,PULocationID,DOLocationID,payment_type,fare_amount,extra,mta_tax,tip_amount,tolls_amount,improvement_surcharge,total_amount,congestion_surcharge"
      ],
      "metadata": {
        "id": "BLZ2vWfU-L8N"
      }
    },
    {
      "cell_type": "code",
      "source": [
        "taxi_file_header = spark.textFile(\"/content/gdrive/MyDrive/BigData/data/yellow_tripdata_2021-01.csv\")\n",
        "taxi_file= taxi_file_header.filter(lambda l: not l.startswith(\"VendorID\"))"
      ],
      "metadata": {
        "id": "f8xXDOKPceWb"
      },
      "execution_count": null,
      "outputs": []
    },
    {
      "cell_type": "code",
      "source": [
        "def testa_VendorId(id):\n",
        "  if not id.isnumeric():\n",
        "    return False\n",
        "  else:  \n",
        "    if (int(id) <= 20):\n",
        "      return True\n",
        "    else:\n",
        "      return False    "
      ],
      "metadata": {
        "id": "x93yzMjpUTs_"
      },
      "execution_count": null,
      "outputs": []
    },
    {
      "cell_type": "markdown",
      "source": [
        "## Gera um RDD onde cada item é extraido do arquivo a partir\n",
        "## da delimitação por vírgula.\n",
        "## Em seguida, filtra as entradas com VendorId <= 20"
      ],
      "metadata": {
        "id": "FbhtZj3X-UCa"
      }
    },
    {
      "cell_type": "code",
      "source": [
        "print(taxi_file.count())\n",
        "trip_column= taxi_file.map(lambda a: a.split(\",\"))\n",
        "print(trip_column.take(1))\n",
        "list_trip = trip_column.filter(lambda a:testa_VendorId(a[0]))"
      ],
      "metadata": {
        "id": "PlTYxkMgdCv3",
        "colab": {
          "base_uri": "https://localhost:8080/"
        },
        "outputId": "08ea375d-e618-4717-88e6-fc2b0ab3b2d9"
      },
      "execution_count": null,
      "outputs": [
        {
          "output_type": "stream",
          "name": "stdout",
          "text": [
            "1369765\n",
            "[['1', '2021-01-01 00:30:10', '2021-01-01 00:36:12', '1', '2.10', '1', 'N', '142', '43', '2', '8', '3', '0.5', '0', '0', '0.3', '11.8', '2.5']]\n"
          ]
        }
      ]
    },
    {
      "cell_type": "code",
      "source": [
        "\n",
        "print(\"Total de Linhas:\"+str(list_trip.count()))"
      ],
      "metadata": {
        "colab": {
          "base_uri": "https://localhost:8080/"
        },
        "id": "KonD-1SQgrG-",
        "outputId": "65271fbd-3a17-4f81-b7ef-9b1327e3e8c3"
      },
      "execution_count": null,
      "outputs": [
        {
          "output_type": "stream",
          "name": "stdout",
          "text": [
            "Total de Linhas:1271413\n"
          ]
        }
      ]
    },
    {
      "cell_type": "markdown",
      "source": [
        "## Criando pipelines sobre o RDD list_trip"
      ],
      "metadata": {
        "id": "WGUxdcdB5Cbq"
      }
    },
    {
      "cell_type": "markdown",
      "source": [
        "# Spark Dataflow\n",
        "\n",
        "1.   map\n",
        "2.   groupBy\n",
        "3.   MapValues\n",
        "\n",
        "\n",
        "\n",
        "\n",
        "\n",
        "\n"
      ],
      "metadata": {
        "id": "zyinMEtticHM"
      }
    },
    {
      "cell_type": "code",
      "source": [
        "\n",
        "transformIntRDD = list_trip.map(lambda a: (a[0],float(a[11])))\n",
        "transformRDD = transformIntRDD.groupByKey().mapValues(lambda v:sum(v))"
      ],
      "metadata": {
        "id": "kZGxf64k5KKx"
      },
      "execution_count": null,
      "outputs": []
    },
    {
      "cell_type": "code",
      "source": [
        "transformRDD.take(2)"
      ],
      "metadata": {
        "colab": {
          "base_uri": "https://localhost:8080/"
        },
        "id": "o2STZ4JSo4Pc",
        "outputId": "7fa59feb-e34b-4dab-c2fc-34268a067da8"
      },
      "execution_count": null,
      "outputs": [
        {
          "output_type": "execute_result",
          "data": {
            "text/plain": [
              "[('1', 1027690.61), ('2', 221895.09999999992)]"
            ]
          },
          "metadata": {},
          "execution_count": 49
        }
      ]
    },
    {
      "cell_type": "markdown",
      "source": [
        "\n",
        "# Projeta: VendorId, Numero de passageiros, Valores de Tarifa \n",
        "\n"
      ],
      "metadata": {
        "id": "wkjmhcH2jCrF"
      }
    },
    {
      "cell_type": "code",
      "source": [
        "projectedRDD = list_trip.map(lambda a: (a[0],a[3],a[11]))"
      ],
      "metadata": {
        "id": "n_WwTVAihEY8"
      },
      "execution_count": null,
      "outputs": []
    },
    {
      "cell_type": "markdown",
      "source": [
        "\n",
        "\n",
        "\n",
        "## DataFlow: Calcula viagens prejuizo\n",
        "\n",
        "\n",
        "\n",
        "1.   filter\n",
        "2.   map\n",
        "\n",
        "\n",
        "\n"
      ],
      "metadata": {
        "id": "jRmxc_4kjVFJ"
      }
    },
    {
      "cell_type": "code",
      "source": [
        "print(projectedRDD.take(10))\n",
        "print(projectedRDD.count())\n",
        "tarifa_altaRDD = projectedRDD.filter(lambda a: float(a[2]) >5 and int(a[1])>3)\n",
        "print(tarifa_altaRDD.count())"
      ],
      "metadata": {
        "id": "MUBwFn9z8jcq",
        "colab": {
          "base_uri": "https://localhost:8080/"
        },
        "outputId": "0c5d1d28-2554-4280-f019-a7b0dc3399fc"
      },
      "execution_count": null,
      "outputs": [
        {
          "output_type": "stream",
          "name": "stdout",
          "text": [
            "[('1', '1', '3'), ('1', '1', '0.5'), ('1', '1', '0.5'), ('1', '0', '0.5'), ('2', '1', '0.5'), ('1', '1', '3'), ('1', '1', '0.5'), ('1', '1', '3'), ('1', '1', '0.5'), ('1', '2', '3')]\n",
            "1271413\n",
            "9\n"
          ]
        }
      ]
    },
    {
      "cell_type": "code",
      "source": [
        "prejuizo=tarifa_altaRDD.count()"
      ],
      "metadata": {
        "id": "Mk6UEnlJj2E2"
      },
      "execution_count": null,
      "outputs": []
    },
    {
      "cell_type": "code",
      "source": [
        "print(\"Viagens Prejuizo: \"+str(prejuizo))"
      ],
      "metadata": {
        "colab": {
          "base_uri": "https://localhost:8080/"
        },
        "id": "zDRfdhsWAMVg",
        "outputId": "8aec151f-6351-41d3-9082-a167dd23f901"
      },
      "execution_count": null,
      "outputs": [
        {
          "output_type": "stream",
          "name": "stdout",
          "text": [
            "Viagens Prejuizo: 9\n"
          ]
        }
      ]
    }
  ]
}